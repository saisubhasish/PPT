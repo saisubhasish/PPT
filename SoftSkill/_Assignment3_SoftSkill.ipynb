{
 "cells": [
  {
   "cell_type": "markdown",
   "id": "248b3961",
   "metadata": {},
   "source": [
    "# Q.\n",
    "\n",
    "Based on the takeaway from the topics discussed in the previous session complete the following tasks.\n",
    "\n",
    "Come up with an elaborate Goal setting plan with getting a job as an objective. The role has to be relevant to the course that you are currently pursuing.\n",
    "\n",
    "Develop a daily schedule based on the template discussed in the class and adhere to it.\n",
    "\n",
    "Generate a schematic stress management plan by including various aspects of stress management discussed in the session."
   ]
  },
  {
   "cell_type": "markdown",
   "id": "742037ea",
   "metadata": {},
   "source": [
    "# Ans.\n",
    "\n",
    "In terms of goals In short term I want to become a data scientist where I will be utilizing my knowledge and skills in the respective organization to develop innovative products. \n",
    "\n",
    "After my project completion or when I get free time I always take time to brain storm and think how can I improve the project and it's functionality. \n",
    "\n",
    "In longterm I want to lead a team of creative and technical geek people who will be able to give innovative, creative and better automated solutions to the business problem statement.\n",
    "\n",
    "Apart from professional goals in longterm I want to start a IT training center for the orphanage students where we will be training them on latest IT technologies like Artificial Intelligence, Machine Learnig, Augmented Reality and Virtual Reality.\n",
    "\n",
    "And I having a plan to start a plantation drive in a large scale where we will be gathering more number of volunteers to plant more trees and create an environment safety."
   ]
  },
  {
   "cell_type": "markdown",
   "id": "c82c35e4",
   "metadata": {},
   "source": [
    "To become a Data Scientist I am developing projects and keeping myself updated on latest data science topics. To lead a team in future I am keeping myself updated with latest developments in the field of AI, skills and trying to know various technologies by attending workshops and seminars.\n",
    "\n",
    "In personal goals I am a part of NGO and we are a team of around 150 people. We are also managing an orphanage. And I have organized plantation drive where we planted around 5000 trees in the year 2019."
   ]
  },
  {
   "cell_type": "markdown",
   "id": "2ee83740",
   "metadata": {},
   "source": [
    "# Q.\n",
    "What you'll do to stress out ?"
   ]
  },
  {
   "cell_type": "markdown",
   "id": "3b76fcb1",
   "metadata": {},
   "source": [
    "If stress level is low then I do listen music and work. If stress level is bit more then I do meditate or sleep or some of the times I do travel to new places all alone to spend time with myself."
   ]
  },
  {
   "cell_type": "markdown",
   "id": "d2e5f284",
   "metadata": {},
   "source": [
    "# Q.\n",
    "\n",
    "How you'll come to know that you are stress out ?"
   ]
  },
  {
   "cell_type": "markdown",
   "id": "2e308baf",
   "metadata": {},
   "source": [
    "I manage stress by listening songs.In casse I get more stress I do meditwate aor sleep or ride to new places. I come to know that I am stressed out when I am back to my normal speed of working."
   ]
  },
  {
   "cell_type": "code",
   "execution_count": null,
   "id": "0505e00c",
   "metadata": {},
   "outputs": [],
   "source": []
  }
 ],
 "metadata": {
  "kernelspec": {
   "display_name": "Python 3 (ipykernel)",
   "language": "python",
   "name": "python3"
  },
  "language_info": {
   "codemirror_mode": {
    "name": "ipython",
    "version": 3
   },
   "file_extension": ".py",
   "mimetype": "text/x-python",
   "name": "python",
   "nbconvert_exporter": "python",
   "pygments_lexer": "ipython3",
   "version": "3.10.9"
  }
 },
 "nbformat": 4,
 "nbformat_minor": 5
}
