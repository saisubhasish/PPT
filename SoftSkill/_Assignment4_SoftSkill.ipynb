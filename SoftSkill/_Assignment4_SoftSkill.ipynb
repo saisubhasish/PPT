{
 "cells": [
  {
   "cell_type": "markdown",
   "id": "6b91c764",
   "metadata": {},
   "source": [
    "# Q.\n",
    "\n",
    "Based on the takeaway from asking questions and the sales topic discussed, make an exhaustive list of your learnings from your respective course along with academics.\n",
    "\n",
    "Relate it to its application in the form of projects or internships that will make you ideal candidate for the recruiter, justifying why you should be hired for the role based on your learnings."
   ]
  },
  {
   "cell_type": "markdown",
   "id": "e6ea8256",
   "metadata": {},
   "source": [
    "Why should I hore you ?\n",
    "\n",
    "# Ans.\n",
    "\n",
    "I believe I am a pasionate learner of Data Science, Artificial Intellegence and Machine Learning. I practiced these technologies using python programming language and libraries like sk-learn, pandas, numpy, matplotlib and some python functions like map(), reduce(), filter() and comprehension concepts. I used these functions to enhance the code of my last internship project and used librares in data analysis and model building. I have good knowledge in the databases like SQL and mongoDB. I have handas on experience in mongoDB because I used it in my revious project to store the web scrapping data, create databases, collections using python code. I have nowledge on data engineering, kafka, and amazon web services, elastic bean-stack, ec2 instance. I have other qualities like team management, time management, communication and leadership. \n",
    "\n",
    "Since I fulfill the requirements job along with that softskill qualities. I have a better case to get htis job."
   ]
  },
  {
   "cell_type": "code",
   "execution_count": null,
   "id": "2a735844",
   "metadata": {},
   "outputs": [],
   "source": []
  }
 ],
 "metadata": {
  "kernelspec": {
   "display_name": "Python 3 (ipykernel)",
   "language": "python",
   "name": "python3"
  },
  "language_info": {
   "codemirror_mode": {
    "name": "ipython",
    "version": 3
   },
   "file_extension": ".py",
   "mimetype": "text/x-python",
   "name": "python",
   "nbconvert_exporter": "python",
   "pygments_lexer": "ipython3",
   "version": "3.10.9"
  }
 },
 "nbformat": 4,
 "nbformat_minor": 5
}
