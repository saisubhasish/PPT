{
  "nbformat": 4,
  "nbformat_minor": 0,
  "metadata": {
    "colab": {
      "provenance": []
    },
    "kernelspec": {
      "name": "python3",
      "display_name": "Python 3"
    },
    "language_info": {
      "name": "python"
    }
  },
  "cells": [
    {
      "cell_type": "markdown",
      "source": [
        "# BACKGROUND QUESTIONS"
      ],
      "metadata": {
        "id": "YAwl_dYM4GkQ"
      }
    },
    {
      "cell_type": "markdown",
      "source": [
        "\n",
        "\n",
        "\n",
        "1. Can you tell me about yourself?"
      ],
      "metadata": {
        "id": "46D_TXGl4Gha"
      }
    },
    {
      "cell_type": "markdown",
      "source": [
        "Thank you for giving me this opportunity to tell me about myself.\n",
        "\n",
        "I am Sai Subhasish Rout. I live in Jajpur Road, Odisha which is my native place. I havee completed my batchelor's in mechanical engineering from SOA University, Bhubaneswar in the year of 2019. And after my education I started as a graduate engineer trainee for 8 months in Shahi Exports Pvt Ltd, Bhubaneswar. Then I took a career break of 1 year 8 months as prescribed by doctor because I had a major medical surgery over my face that's why I have taken the break. During that time I got time and opportunity to explore about multiple domains and IT industry. I learnt manual testing and luckly I got a job as trainee software engineer in Inovaare clouds solutions pvt ltd. And currently I am working over there as a associate qa engineer where I am responcible to do product testing using manual as we as automation testing using python, selenium and robot framework.\n",
        "While learning python and selenium I found python really interesting and I got to know that it is a futuristic language with a lot of scope in the near future related to technological advancements. That's why I have taken a Full Stack Data Science Course from iNeuron intelligence pvt ltd. From there I learnt some other technologies like statistics, machine learning, deep learning, amazon web services, sql, mongoDB and some other tools also.\n",
        "Currently I am looking for a job role as a data scientist in a better work environment where I will be able to enhance my skills and utilize my knowledge to develop innovative products for my organization.\n",
        "\n",
        "The quote I like the most is \"Stay hungry, stay foolish\".\n",
        "I relate to this quote the most because I belive the more I learn the more happiness I will get and more infomed I will become on various aspects of life.\n",
        "\n",
        "That's all about me. Thank you."
      ],
      "metadata": {
        "id": "7trNYDKZ4GKv"
      }
    },
    {
      "cell_type": "markdown",
      "source": [
        "2. What are your greatest strengths?\n"
      ],
      "metadata": {
        "id": "pYaNJZIY2f-X"
      }
    },
    {
      "cell_type": "markdown",
      "source": [
        "The greatest strength of mine is I am consistent, focused, disciplined and curios to know new technologies quickly. That's why I learnt six sigma, kaizen and 5s concepts during my college days. Which knowledge I utilized in my first job to increase the productivity of my organization while working as a graduate engineer trainee. After coming to IT industry I learnt manual testing, java, selenium, sql, html and due to change in technology in my organization I learnt python, selenium and robot framework. By utilizing  this knowledge I have automated around 10 modules of our application which saved around 100 working hours of my organization. While writing the codes I followed the industry standards so that we can utilize the code to automate other modules of the application. I learnt some other technologies like statistics, machine learning, deep learning, amazon web services, sql, mongodb and some other tools also. Because of my broad knowledge in various domains I haelped 5 of my friends and followers to choose the right career path.\n",
        "I am a team player I believe in team bonding and team building. I try to communicate with my teammates to keep a better understanding in between our team so that this thing will be benefit for my team in long run."
      ],
      "metadata": {
        "id": "Pb26n6hl2f7f"
      }
    },
    {
      "cell_type": "markdown",
      "source": [
        "3. What are your greatest weaknesses?\n"
      ],
      "metadata": {
        "id": "pKt_PCUe2f4m"
      }
    },
    {
      "cell_type": "markdown",
      "source": [
        "I am a perfectionist. Which ever work I do or skills I learn I try to do it in a perfect way. In the process of doing evrything in a perfect way I do loose a lot of time, efforts and sometimes this is the reason of financial loss to me also.\n",
        "\n",
        "Because of this reason I lost a lot of time during my career break period. I learnt digital marketing for few months. I was creating content as an intern for a investment ed-tech company called 'Learn technicals' and given time over there. I tried to start my own business in stock market related to investments and given more time there. I created an instagram channel. But I could not succeed in the market. And taken the lessons from my experiences.\n",
        "\n",
        "From there after before taking any opportunity I am taking time to analyse and think. I am checking for the conquences and taking suggestions from my family and relevant friends. Then I am taking decisions."
      ],
      "metadata": {
        "id": "ysH7NA712f1g"
      }
    },
    {
      "cell_type": "markdown",
      "source": [
        "4. Why should I hire you?\n"
      ],
      "metadata": {
        "id": "udBb_24_2pPp"
      }
    },
    {
      "cell_type": "markdown",
      "source": [
        "Sir I believe I am a passionate learner of data science, machine learning and artificial intelligence. I practiced these technologies using python. And I am really good in data structures. I have learnt python libraries like pandas, numpy, matplot lib, sk-learn and useful functions like map, reduce, filter and comprehension concepts. I used these libraries and functions to develop my internship project. I have good knowledge of the databases like sql and mongodb. I have hands on expertise in mongodb because I used it in my previous internship project to store the webscrapping data and create collection using company name dynamically and for this thing I have written code in python. I am also familiar with data engineering, big data and amazon web servises like ec2 instance and elastic beanstack. I have other qualities like team management, time management and communication.\n",
        "\n",
        "\n",
        "Since I fullfill all the requirements of job along with soft skill qualities. I consider myself as an ideal candidate for this job and I that's why you should hire me."
      ],
      "metadata": {
        "id": "9KVUZwYn2pJn"
      }
    },
    {
      "cell_type": "markdown",
      "source": [
        "5. Where do you see yourself in five years?\n"
      ],
      "metadata": {
        "id": "1kdoyz4m2pGn"
      }
    },
    {
      "cell_type": "markdown",
      "source": [
        "If I given an opportunity I want to join the organization, upskill myself with the necessary skillset as per requirement. Once I upskill I want to contribute the best of my ability towards my organization and by doing so I will be increasing the productivity.\n",
        "\n",
        "In coming years I will be leading a team of innovative, creative and technical geek people, who will be giving better automated solution to the business problem statement focusing on customer satisfaction. I will be heading a innovation lab in my coming organiztion where interested people will be given time to explore, research and find some creative solutions.\n",
        "\n",
        "Apart from my day to day work in weekends I will help the CSR department of my organization to organize various social activities and events which will increase the repuration of my organization and create a good image among the competitors or peers."
      ],
      "metadata": {
        "id": "yobMtfL32pDZ"
      }
    },
    {
      "cell_type": "markdown",
      "source": [
        "6. Can you describe your ideal company, location and job?\n"
      ],
      "metadata": {
        "id": "sVwcrG2d2uX-"
      }
    },
    {
      "cell_type": "markdown",
      "source": [
        "Background search of the company. Future paln of the company, who are the competetors. Talk about th growth. Take the idea of job role, growth prospective.\n",
        "\n",
        "Based on the skillset I have and experience that's why I want to join your organiztion."
      ],
      "metadata": {
        "id": "Tb_7NCwJ2uU_"
      }
    },
    {
      "cell_type": "markdown",
      "source": [
        "7. Why do you want to work for our company?\n"
      ],
      "metadata": {
        "id": "AftZ6OP92uRO"
      }
    },
    {
      "cell_type": "markdown",
      "source": [
        "I know your company culture and you follow the proper work ethics. I know the kind of response and respect the employees are getting over there and I want to get the simillar respect that's why I want to join your organization."
      ],
      "metadata": {
        "id": "S7FzmNky2uOY"
      }
    },
    {
      "cell_type": "markdown",
      "source": [
        "8. What are your career options at the moment?\n"
      ],
      "metadata": {
        "id": "r21bZ4u02uLi"
      }
    },
    {
      "cell_type": "markdown",
      "source": [
        "In terms of learnings I want to do masters in computer science to gain more knowledge in IT industry.\n",
        "\n",
        "Currently I am working as a QA engineer in automation testing with experience of around 2 years. So I have an option to go for SDET position or senior automation engineer position.\n",
        "\n",
        "The datascience field is evolving and growing faster with a lot of growth opportunity in future. Artificial intelligence is a revolution in the technology and it can be applied to every sector. I am having the ability to develop and automate the end to end process using some technologies and for that I am having relevant knowlwdge, skills and interest. Thats why I want to join this field."
      ],
      "metadata": {
        "id": "9eeJMky12uI2"
      }
    },
    {
      "cell_type": "markdown",
      "source": [
        "9. Are you able to work under pressure?\n"
      ],
      "metadata": {
        "id": "w3gZ6cVH22gu"
      }
    },
    {
      "cell_type": "markdown",
      "source": [
        "Yes, definitely. Because while working in my organization and developing automation code using java I learnt full stack python course from durga soft pvt ltd.\n",
        "\n",
        "Then while doing product testing using manual and python autoamtion I learnt full stack data science course from iNeuron Intelligence Pvt Ltd. There I was regullar to the live classes, completed the dashboard assignments and almost all the tasks given by mentors in time. I completed end to end internship projects and developed few of my own projects. I have prepared myself for job ready in the field of data science by practicing data structures, sql, statistics and getting the intuition of the datascience concepts like machine learning, deep learning and all. I also share my learnings with my connection through linkedin. To complete this much of content before deadline some days I took a very less sleep and sacrifised a lot of things but this thing was helping me to get the intuition and understand the things.\n",
        "\n",
        "I think if I am able to do this much of things related to data science while working as a QA and not being a part of data industry. After coming to data industry for sure I will be doing more for my organization, contributing more to the community and can work under pressure."
      ],
      "metadata": {
        "id": "fPZ1cVOK22dp"
      }
    },
    {
      "cell_type": "markdown",
      "source": [
        "10.Are you willing to relocate or travel?\n"
      ],
      "metadata": {
        "id": "j8PFoi4G22bD"
      }
    },
    {
      "cell_type": "markdown",
      "source": [
        "What will be the offer that you are going to make, based on that I am going to decide."
      ],
      "metadata": {
        "id": "Ybfa0vhM22YO"
      }
    },
    {
      "cell_type": "markdown",
      "source": [
        "11.Why have you had multiple jobs?\n"
      ],
      "metadata": {
        "id": "UpGMmPe-22VW"
      }
    },
    {
      "cell_type": "markdown",
      "source": [],
      "metadata": {
        "id": "N2Ffvp-a22S3"
      }
    },
    {
      "cell_type": "markdown",
      "source": [
        "12.May I contact your current employer for a reference?\n"
      ],
      "metadata": {
        "id": "efPsybjs2uF7"
      }
    },
    {
      "cell_type": "markdown",
      "source": [
        "No not now. Once I will be having the offer letter in my hand after that you can contact."
      ],
      "metadata": {
        "id": "vLsuTqej2fyi"
      }
    },
    {
      "cell_type": "markdown",
      "source": [
        "13.How many hours do you normally work per week?\n"
      ],
      "metadata": {
        "id": "UVY4reP_3AfJ"
      }
    },
    {
      "cell_type": "markdown",
      "source": [
        "I work around 105 hours a week. Every day I try to work more than 15 hours. I do my office work around 8 hours and rest of the time I learn, develop and explore defferent technologies in the field of datascience. For everyday I do plan before yesterday and follow the plan accordingly. I wakeup between 5-6 o'clock in the morning then do follow my routine upto night 12-1 o'clock.\n",
        "\n",
        "The day I travel to my organiation I try to complete my studies in the train which helps me to increase my focus and helps me to manage my schedule in long run."
      ],
      "metadata": {
        "id": "e3nxqSI_3AY8"
      }
    },
    {
      "cell_type": "markdown",
      "source": [
        "14.Have you considered starting your own business?\n"
      ],
      "metadata": {
        "id": "fgAX7PCA3AWA"
      }
    },
    {
      "cell_type": "markdown",
      "source": [
        "Yes during my career break time I have started my own business in the stock market. I have done professional course and tried to do intraday trading for few months but could not succeed in that."
      ],
      "metadata": {
        "id": "IxN1b12f3AS9"
      }
    },
    {
      "cell_type": "markdown",
      "source": [
        "15.What are your goals?\n"
      ],
      "metadata": {
        "id": "NPaHDSk33Eoh"
      }
    },
    {
      "cell_type": "markdown",
      "source": [
        "Talking about my professional goals I want to become a data scientist in short term and develop innovative products for my organization.\n",
        "\n",
        "While working in a project in my free time I like to brainstorm for new creative solutions to add in the application and enhance the functionality of the application.\n",
        "\n",
        "So in long run I want to lead a team of innovative, creative and technical geek people who will be able to give a better automated solutions to the business problem statement using latest technologies.\n",
        "\n",
        "To become a data scientist I am learning and developing full stack datascience projects and getting the intuition behind the concept.\n",
        "\n",
        "To lead a team in the future I learning new skills and tools, attending webnairs and workshops and getting me updated with latest davelopment in the field of artificial intelligence. So that I can guide my teammates in future and for this I am putting extra efforts."
      ],
      "metadata": {
        "id": "PRNe3Aai3EgG"
      }
    },
    {
      "cell_type": "markdown",
      "source": [
        "16.Can you sell me this stapler/pen/pencil?\n"
      ],
      "metadata": {
        "id": "NowI99Xz3EdE"
      }
    },
    {
      "cell_type": "markdown",
      "source": [],
      "metadata": {
        "id": "gWoB9AQH3JZF"
      }
    },
    {
      "cell_type": "markdown",
      "source": [
        "17.What salary are you expecting?\n"
      ],
      "metadata": {
        "id": "rMlmQA4u3JU-"
      }
    },
    {
      "cell_type": "markdown",
      "source": [
        "As per the job market for the job role of data scientist with 1+ years of experience they are providing the average salary 8 LPA . So I am expecting salary in between 8 LPA to 12 LPA."
      ],
      "metadata": {
        "id": "iiIo--mQ3LyO"
      }
    },
    {
      "cell_type": "markdown",
      "source": [
        "18.How do you define success?\n"
      ],
      "metadata": {
        "id": "hXM5Lc4J3LvN"
      }
    },
    {
      "cell_type": "markdown",
      "source": [
        "Achieving the goal at that point of time by giving your best of my ability is the success as per me."
      ],
      "metadata": {
        "id": "z79UENqF3Lsi"
      }
    },
    {
      "cell_type": "markdown",
      "source": [
        "19.Do you consider yourself successful?\n"
      ],
      "metadata": {
        "id": "vEHyyeBl3Lp2"
      }
    },
    {
      "cell_type": "markdown",
      "source": [
        "Yes, because in the 10th I was having a target to get 75% of marks in the board exam and I secured 78%. In my 12th I was having a target to get 65 % of marks but I couldn't score that much. I got 58 % marks. And while doing batchelor's I was having a goal to get job in a core company. And I got placed as a graduate engineer trainee in th department of Industrial Engineering in Shahi Exports Pvt Ltd. After getting job I was having a wish to take care of my parents and make them happy. Currenty I am working in a hybrid mode to my organization. By this I am taking care of my parents. Presently I am having a goal to become a datascientist and for that I am obtaining the relevant skills and putting all my efforts to achieve this goal in between these months."
      ],
      "metadata": {
        "id": "hMjz711w3Lm2"
      }
    },
    {
      "cell_type": "markdown",
      "source": [
        "20.How do you handle criticisms and stress?\n"
      ],
      "metadata": {
        "id": "o_IzT_bV3LkG"
      }
    },
    {
      "cell_type": "markdown",
      "source": [
        "When a person do critisize me I always listen to the person without interpting them. I identify if the critism is good or bad or based on the facts or opinion. Based on the that I try to clarify the things with the person respectively."
      ],
      "metadata": {
        "id": "H9-he_ba3LhR"
      }
    },
    {
      "cell_type": "markdown",
      "source": [
        "21.Are you willing to relocate?\n"
      ],
      "metadata": {
        "id": "BXnqmpr43Leb"
      }
    },
    {
      "cell_type": "markdown",
      "source": [
        "What will be the offer that you are going to make, based on that I am going to decide."
      ],
      "metadata": {
        "id": "jpIu9Qg53Lby"
      }
    },
    {
      "cell_type": "markdown",
      "source": [
        "22.What choices do you have at the moment?\n"
      ],
      "metadata": {
        "id": "kXGgk3Yx3Z4G"
      }
    },
    {
      "cell_type": "markdown",
      "source": [
        "In terms of learnings I want to do masters in computer science to gain more knowledge in IT industry.\n",
        "\n",
        "Currently I am working as a QA engineer in automation testing with experience of around 2 years. So I have an option to go for SDET position or senior automation engineer position.\n",
        "\n",
        "The datascience field is evolving and growing faster with a lot of growth opportunity in future. Artificial intelligence is a revolution in the technology and it can be applied to every sector. I am having the ability to develop and automate the end to end process using some technologies and for that I am having relevant knowlwdge, skills and interest. Thats why I want to join this field."
      ],
      "metadata": {
        "id": "cyXPHeo63Z1H"
      }
    },
    {
      "cell_type": "markdown",
      "source": [
        "23.BSc/BCA vs Engineering\n"
      ],
      "metadata": {
        "id": "oHw6Q-tJ3Zyp"
      }
    },
    {
      "cell_type": "markdown",
      "source": [
        "I choosed engineering over BSC because I was passionate to develop and create better solutions."
      ],
      "metadata": {
        "id": "N7pE7Hf33Zv2"
      }
    },
    {
      "cell_type": "markdown",
      "source": [
        "24.Postgraduate studies vs Job\n"
      ],
      "metadata": {
        "id": "IpeqMQXH3ZtO"
      }
    },
    {
      "cell_type": "markdown",
      "source": [
        "I have chhosen to do the job because of my financial conditions were not that much good at that time and I was reading with an education loan. So to repay the loan and handle my family condition I have done job.\n",
        "\n",
        "And one of the reason was I was wanting to have industry exposure before choosing any specialization. That's why also I came to industry then I will be chosing the right higher degree."
      ],
      "metadata": {
        "id": "ZzA4Efd03Zql"
      }
    },
    {
      "cell_type": "markdown",
      "source": [
        "25.Job vs Research\n"
      ],
      "metadata": {
        "id": "Osep1RxP3Zn8"
      }
    },
    {
      "cell_type": "markdown",
      "source": [
        "I am not much interested in doing research rather than I am more interested to develop better solutions and innovative products for my organization. I am passionate to automate the processes. That's why I am choosing to do job instead of research."
      ],
      "metadata": {
        "id": "D73oI3K23ZlU"
      }
    },
    {
      "cell_type": "markdown",
      "source": [
        "26.What motivates you? Personal or professional goals?\n"
      ],
      "metadata": {
        "id": "00k7RqiU3ZjI"
      }
    },
    {
      "cell_type": "markdown",
      "source": [
        "My family and  my situation motivates me the most and to improve them I am working consistently everyday. I am trying to learn new concepts, getting the intuition behind the concepts and developing new projets by utilizing my knowlwdge.\n",
        "\n",
        "So I can become a data scientist very soon which is my professional goal and\n",
        " improve my family condition to make my family happy."
      ],
      "metadata": {
        "id": "CZCd4Fp23Zf9"
      }
    },
    {
      "cell_type": "markdown",
      "source": [
        "27.How do you validate yourself and your work?\n"
      ],
      "metadata": {
        "id": "_wJGO1Y33ZdC"
      }
    },
    {
      "cell_type": "markdown",
      "source": [
        "While doing a work if I am achieving or able to do the work before deadline then I validate my work as a good work.\n",
        "\n",
        "To validate myself if I am following the rules which are set by myself with a discipline and consteny then I validate myself as a good learner."
      ],
      "metadata": {
        "id": "834g_eqv3Zab"
      }
    },
    {
      "cell_type": "markdown",
      "source": [
        "28.How do others perceive you compared to how you perceive yourself?\n"
      ],
      "metadata": {
        "id": "yPVueI393swu"
      }
    },
    {
      "cell_type": "markdown",
      "source": [
        "I persive myself as a consistent, focused person with a lot of passion to learn new technologies, get involved in innovation and grow faster in life.\n",
        "\n",
        "Others persives me as a hard working, knowledgious, responsible person with organizing and ledership quality."
      ],
      "metadata": {
        "id": "pxYZzQpw3suj"
      }
    },
    {
      "cell_type": "markdown",
      "source": [
        "29.Who do you get along with and who don’t you get along with at work?\n"
      ],
      "metadata": {
        "id": "0pFlMeHa3srF"
      }
    },
    {
      "cell_type": "markdown",
      "source": [
        "The person who has positive frame of mind, encourage me about the things I am doing and supportive with me, passionate about new technologies and talk about them. I like to be with them.\n",
        "\n",
        "The people with negative frame of mind with nagative attitude, constantly ctritisizing me or others, doesn't have the value of time. I never like to be with them."
      ],
      "metadata": {
        "id": "ffeNVjxQ3sob"
      }
    },
    {
      "cell_type": "markdown",
      "source": [
        "30.How do you handle setbacks, disappointments, failures and deadlines?\n"
      ],
      "metadata": {
        "id": "rdl4yRxH3slk"
      }
    },
    {
      "cell_type": "markdown",
      "source": [
        "With failures I get disappoited most fo the time. Then I take a break and travel to a place. Make my mindset focused to the main goal of life and think that failures are part of the game to achieve success. Then I return back to the track plan for the next thing and start working on that.\n",
        "\n",
        "Failures affected me very badly during the break period. I tried some of the things and got failure from there. Especially in my business I tried to succeed but after a lot of tries also I couldn't.\n",
        "\n",
        "Later I identified that because of my mindset only I am unable to achieve things from a long time. So I have taken time to get rid of that. I do meditate daily and went for running.\n",
        "\n",
        "Then I came to IT industry and completely devoted me to make career over here. So I kept on learning new skills and enhancing my knowledge in this domain."
      ],
      "metadata": {
        "id": "QP3ut8e83sij"
      }
    },
    {
      "cell_type": "markdown",
      "source": [
        "31.Do you prefer working independently or as part of a team?\n"
      ],
      "metadata": {
        "id": "4Zun9YWT4BGo"
      }
    },
    {
      "cell_type": "markdown",
      "source": [
        "I perform indepandently and also being a part of team. When it comes to more than a person having a common goal to achieve. So here each of us has to work together to complete the task.\n",
        "\n",
        "As an independent working person I want to do the work that assigned to me by the team by giving the best of my ability. By doing so I will be contributing to achieve the team objective and that way I am a team player. But as soon as I complete my task I contribute to others to help them in completing their task, that way I am a team player."
      ],
      "metadata": {
        "id": "54bxHWUD4BDr"
      }
    },
    {
      "cell_type": "markdown",
      "source": [
        "32.How do you deal with disagreements?\n"
      ],
      "metadata": {
        "id": "UH03kruW4A7Y"
      }
    },
    {
      "cell_type": "markdown",
      "source": [
        "What are those disagreements I try to listen the other person and we both try to come to a common point of mutual agreement. This is like how I deal with the disagreements."
      ],
      "metadata": {
        "id": "yAi7EKyk4A4b"
      }
    },
    {
      "cell_type": "markdown",
      "source": [
        "33.Ethics vs Morality\n"
      ],
      "metadata": {
        "id": "0WZe9mF_4FCN"
      }
    },
    {
      "cell_type": "markdown",
      "source": [
        "A reputed company like yours is never going to ask me to do something illegal. That way I am going to give preferences to company ethics ather than the individual morality."
      ],
      "metadata": {
        "id": "M1Llfx7F4Eu2"
      }
    },
    {
      "cell_type": "markdown",
      "source": [
        "34. What are the things you are good at?"
      ],
      "metadata": {
        "id": "sWWw62b1OPbg"
      }
    },
    {
      "cell_type": "markdown",
      "source": [
        "Sit I am a good team player. I always try to take opportunity and accomplish them with team. This quality was identified by my school teacher and I was leading my school kabaddi team. We won inter school kabaddi tournament which was organized district level in mu standard eight.During my batchelor's in my major project I have developed an automated pond cleaning machine by leading a team of  students. Our project got selected for patent filing by govt of Odisha and we recognized in our college. While searving people in our society being a part of the NGO named \"The Helping Eye\" I was awarded as best volunteer of the year 2019-20 for my contribuiton towards society. I have successfully organized many events like I respect women, green diwali, plantation drive and also initiated the idea of starting an ambulance in our locality. I believe in team bonding and team building. That's why I try to communicate with my team mates to keep a bettering bonding with in team which will be beneficial for my team in the future.\n",
        "\n",
        "And presently in my organization I try to communicate with Business analysts and my seniors tounderstand the requirements better and help my team mated to understand them so that they can compleetetheir task fast and out team will grow faster."
      ],
      "metadata": {
        "id": "7KGzAb9rOPYr"
      }
    },
    {
      "cell_type": "markdown",
      "source": [],
      "metadata": {
        "id": "lusKmeG2OPVS"
      }
    },
    {
      "cell_type": "markdown",
      "source": [],
      "metadata": {
        "id": "Jv-ia0z4OPSd"
      }
    },
    {
      "cell_type": "markdown",
      "source": [],
      "metadata": {
        "id": "Kvef-qCcOPPb"
      }
    },
    {
      "cell_type": "markdown",
      "source": [],
      "metadata": {
        "id": "ZA-uf4qpOPMO"
      }
    },
    {
      "cell_type": "markdown",
      "source": [],
      "metadata": {
        "id": "z8sCFfVjOPJs"
      }
    },
    {
      "cell_type": "markdown",
      "source": [],
      "metadata": {
        "id": "UTPo9NCsOPHN"
      }
    },
    {
      "cell_type": "markdown",
      "source": [],
      "metadata": {
        "id": "WN11qZP-OPAU"
      }
    },
    {
      "cell_type": "markdown",
      "source": [],
      "metadata": {
        "id": "iB8gjxY0OO-C"
      }
    },
    {
      "cell_type": "markdown",
      "source": [],
      "metadata": {
        "id": "ahOAW_GAOO7j"
      }
    },
    {
      "cell_type": "markdown",
      "source": [],
      "metadata": {
        "id": "Uu1jjeblOO5i"
      }
    },
    {
      "cell_type": "markdown",
      "source": [],
      "metadata": {
        "id": "iS9tYWlPOOz-"
      }
    },
    {
      "cell_type": "markdown",
      "source": [
        "BEHAVIOURAL QUESTIONS\n",
        "\n",
        "COMPETENCY BASED TECHNICAL QUESTIONS\n",
        "\n",
        "CAR strategy: Challenge/Action/Result\n",
        "\n",
        "STAR strategy : Situation / Task /Action / Result\n",
        "\n",
        "\n",
        "34.What is your greatest achievement? When did it happen?\n",
        "35.What is the greatest challenge that you have faced? How did you overcome it?\n",
        "36. What is the biggest adversity that you have faced? How did you persist\n",
        "through it?\n",
        "37.What is the biggest setback that you have faced? How did you deal with it?\n",
        "38.What is the biggest mistake that you have made? What did you do after\n",
        "making it?\n",
        "39.What initiatives have you taken in your career so far?\n",
        "40.How have you worked on self-development and improvement?\n",
        "PEOPLE HANDLING\n",
        "41.How have you dealt with difficult people at work in the past?\n",
        "42.What part of a team that worked on a project are you most proud of?\n",
        "43.Have there been instances where someone’s behaviour changed because of\n",
        "something that you said or did?\n",
        "44.Have there been instances where someone asked for something from you but\n",
        "had to say no?\n",
        "\n",
        "\n",
        "DECISION MAKING\n",
        "\n",
        "\n",
        "45.What was the most difficult problem that required decision making that came\n",
        "up in your career so far? How did you tackle it?\n",
        "46.Can you tell me about a difficult problem you faced and how you tackled it?\n",
        "47.Can you describe a situation where you made a bad decision?\n",
        "48.Can you describe a situation where you were creative?\n",
        "\n",
        "INTEREST BASED\n",
        "\n",
        "49. What is the last book you read?\n",
        "50. Who in your life has inspired you?\n",
        "51.What was the last news story that caught your eye?\n",
        "52. What was the last film you saw?\n",
        "53. If you were an animal, what would you be?\n",
        "54. Can you tell me a story?\n",
        "55. If you could meet anyone living or dead, who would it be and why?\n",
        "56. Who do you admire and why?\n",
        "57. What kind of manager would you like to work for?\n",
        "58. How many cars are there in India/Australia?\n",
        "59.If we looked at your social media profile, what impression do you think it\n",
        "would give us of you?\n",
        "\n",
        "HANDLING NEGATIVE QUESTIONS\n",
        "\n",
        "60.Can you explain why you think that you are the right person for this job?\n",
        "61. How do your skills and experience make you stand out from other\n",
        "candidates?\n",
        "62. Do you prefer working regular hours and routine working patterns?\n",
        "63. How do you feel about paperwork and other bureaucratic practices?\n",
        "64.Have there been instances where you had to break rules to get a job done?\n",
        "65.What are some of your personality traits that could be improved upon?\n",
        "66.How will your past experiences help prepare you for this job?\n",
        "67. How have your past experiences prepared you to take on more\n",
        "responsibility? 68. Do you ever work outside of normal business hours?\n",
        "68. What prevented you from achieving more in your last job?\n",
        "69.Do you have experience that is relevant to this job?\n",
        "70. Are there any reasons why we should not hire someone who is overqualified\n",
        "for the job?\n",
        "71. Have there been instances where you were fired from a job?\n",
        "72. What keeps you up at night when it comes to work?\n",
        "73. How would you rate me as an interviewer?\n",
        "74.Is there anything that I should avoid asking during this interview?\n",
        "75.Have there been instances where you doubted your ability to do a job?\n",
        "76.Do you consider losing your temper as a weakness?\n",
        "77. When was the last time that work made you feel frustrated?\n",
        "78.Are there any issues with travelling for work?\n",
        "\n",
        "PERSONAL QUESTIONS\n",
        "\n",
        "79.Are you married or in a committed relationship?\n",
        "80.What happens when you decide to have children?\n",
        "81.Are you pregnant at the moment?\n",
        "82.Does your family/husband mind you being away from home?\n",
        "83.What hobbies and interests do you have outside of work?\n",
        "84. Do you mind if I ask what your partner does for a living?\n",
        "85.Are there any personal issues that would affect your ability to do the job?\n",
        "SHOWING INTEREST IN WORK (ADDRESSED TOWARDS RECRUITER):\n",
        "86.How was my performance?\n",
        "87.Can you suggest areas where I need to improve?\n",
        "88.Can you suggest any extra things I need to learn in order to successfully meet\n",
        "the challenges at work?\n",
        "89.What are the day-to-day duties involved in this job?\n",
        "90.How will the performance of employees be assessed?\n",
        "91. How are targets set?\n",
        "92.Who will I report to?\n",
        "93. What do you see as the immediate challenges for me if I were to be given the\n",
        "job?\n",
        "94. What do you most enjoy about working here?\n",
        "95.What training and development is given to employees?\n",
        "96.What opportunities are there for growth within the organization?\n",
        "97. How does the company promote personal growth?\n",
        "98.What kind of career path can one take starting from this level?\n",
        "99.What opportunities are there for working abroad with the company?\n",
        "100. What made you decide to join this company?\n",
        "101. What motivates you to commit to this company and be successful?"
      ],
      "metadata": {
        "id": "Iuy5IwGT4GHp"
      }
    },
    {
      "cell_type": "markdown",
      "source": [],
      "metadata": {
        "id": "uWzNprVe4GFC"
      }
    },
    {
      "cell_type": "code",
      "execution_count": null,
      "metadata": {
        "id": "9IxXTwok391n"
      },
      "outputs": [],
      "source": []
    }
  ]
}