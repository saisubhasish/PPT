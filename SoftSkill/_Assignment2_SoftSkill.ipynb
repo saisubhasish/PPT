{
 "cells": [
  {
   "cell_type": "markdown",
   "id": "aa76da39",
   "metadata": {},
   "source": [
    "Based on the discussion from the session complete the following tasks.\n",
    "\n",
    "- Make an exhaustive list of skills that you possess, which can be later used in resume-making.\n",
    "- Make a list of the recognition that you have gained in the form of awards and achievements.\n",
    "- Make an exhaustive list of personal qualities that you consider strengths and what you have achieved using them.\n",
    "\n",
    "Make a video adding the skills and strengths part discussed in this session and the introduction topic discussed in the previous session.\n",
    "\n",
    "</aside>"
   ]
  },
  {
   "cell_type": "markdown",
   "id": "00f65e38",
   "metadata": {},
   "source": [
    "I am a good team player with good leadership quality. I always like to take opportunity and accomplish them with team. This quality was first identified by my teachers in school. I was leading my school kabaddi team and we won intra school kabaddi tournament in district level. In my graduation I have developed a pond cleaning machine by leading a team of 62 students and out project got selected for patent filing by govt of Odisha. While working as a working secretery in the NGO \"The Helping Eye\" I got awarded as best volunter of the year 2019-20 for my contribution towards society. There I have successfully organized many events. And presently in my organization I try to communicate with Business Analysts and my seniors to understand the requirement better. So that I can make my teammates understandand we can complete our task fast.\n",
    "\n",
    "The best quality in me that I am disciplined and consistent. After I had a surgery over my face I was unable to speak clearly but with determination, consistency and discipline I tried multiple methodologies followed a stratigy and as a result I am able to communicate clearly. I always love to learn new things and curious to know new technologies and I believe in spiral learning. By following the same pattern first I learnt full stack python from Durga Software Solutions Pvt Ltd and then with lot of interests I became able to complete \"Full Stack DataScience\" and a lot of technologies from iNeuron Intelligence Pvt Ltd."
   ]
  },
  {
   "cell_type": "code",
   "execution_count": null,
   "id": "eb9e45bd",
   "metadata": {},
   "outputs": [],
   "source": []
  }
 ],
 "metadata": {
  "kernelspec": {
   "display_name": "Python 3 (ipykernel)",
   "language": "python",
   "name": "python3"
  },
  "language_info": {
   "codemirror_mode": {
    "name": "ipython",
    "version": 3
   },
   "file_extension": ".py",
   "mimetype": "text/x-python",
   "name": "python",
   "nbconvert_exporter": "python",
   "pygments_lexer": "ipython3",
   "version": "3.10.9"
  }
 },
 "nbformat": 4,
 "nbformat_minor": 5
}
