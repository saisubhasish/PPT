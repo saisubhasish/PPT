{
 "cells": [
  {
   "cell_type": "markdown",
   "id": "5f4c2ed9",
   "metadata": {},
   "source": [
    "**Q1.** Given an array of size N. The task is to find the maximum and the minimum element of the array using the minimum number of comparisons.\n",
    "\n",
    "**Examples:**\n",
    "\n",
    "Input: arr[] = {3, 5, 4, 1, 9}\n",
    "\n",
    "Output: Minimum element is: 1\n",
    "\n",
    "Maximum element is: 9\n",
    "\n",
    "\n",
    "\n",
    "TC : O(n)\n",
    "\n",
    "SC: O(n)"
   ]
  },
  {
   "cell_type": "code",
   "execution_count": 2,
   "id": "54509b31",
   "metadata": {},
   "outputs": [
    {
     "name": "stdout",
     "output_type": "stream",
     "text": [
      "Minimum Number is:  1000\n",
      "Maximum Number is:  -8\n"
     ]
    }
   ],
   "source": [
    "class Pair:\n",
    "    def __init__(self):\n",
    "        self.min = 0\n",
    "        self.max = 0\n",
    "    \n",
    "def getMinMax1(arr: list, n: int):\n",
    "    minmax = Pair()\n",
    "    \n",
    "    if n == 0:\n",
    "        return minmax\n",
    "    elif n==1:\n",
    "        minmax.max = arr[0]\n",
    "        minmax.min = arr[0]\n",
    "        return minmax\n",
    "    \n",
    "    if arr[0] > arr[1]:\n",
    "        minmax.max = arr[0]\n",
    "        minmax.min = arr[1]\n",
    "    else:\n",
    "        minmax.max = arr[1]\n",
    "        minmax.min = arr[0]\n",
    "        \n",
    "    for i in range(2, n):\n",
    "        if arr[i] > minmax.max:\n",
    "            minmax.max = arr[i]\n",
    "        elif arr[i] < minmax.min:\n",
    "            minmax.min = arr[i]\n",
    "    return minmax\n",
    "\n",
    "if __name__ == '__main__':\n",
    "    arr1 = [1000, -1, 1, 52, -8]\n",
    "    arr_size = 5\n",
    "    minmax = getMinMax1(arr1, arr_size)\n",
    "    print(\"Minimum Number is: \",minmax.max)\n",
    "    print(\"Maximum Number is: \",minmax.min)    "
   ]
  },
  {
   "cell_type": "markdown",
   "id": "08928074",
   "metadata": {},
   "source": [
    "**Q2.** You are given an array prices where prices[i] is the price of a given stock on the ith day.\n",
    "\n",
    "You want to maximize your profit by choosing a single day to buy one stock and choosing a different day in the future to sell that stock.\n",
    "\n",
    "Return the maximum profit you can achieve from this transaction. If you cannot achieve any profit, return 0.\n",
    "\n",
    "**Example :**\n",
    "\n",
    "Input: prices = [7,1,5,3,6,4]\n",
    "\n",
    "Output: 5\n",
    "\n",
    "Explanation: Buy on day 2 (price = 1) and sell on day 5 (price = 6), profit = 6-1 = 5.\n",
    "\n",
    "Note that buying on day 2 and selling on day 1 is not allowed because you must buy before you sell.\n",
    "\n",
    "\n",
    "\n",
    "TC: O(n)\n",
    "\n",
    "SC : O(1)"
   ]
  },
  {
   "cell_type": "code",
   "execution_count": 11,
   "id": "f6fa8e5b",
   "metadata": {},
   "outputs": [
    {
     "name": "stdout",
     "output_type": "stream",
     "text": [
      "5\n"
     ]
    }
   ],
   "source": [
    "from typing import List\n",
    "\n",
    "class Solution:\n",
    "    def maxProfit(self, prices:List[int]):\n",
    "        min_price = float('inf')\n",
    "        max_profit = 0\n",
    "        for i in range(len(prices)):\n",
    "            if prices[i] < min_price:\n",
    "                min_price = prices[i]\n",
    "            elif prices[i] - min_price > max_profit:\n",
    "                max_profit = prices[i] - min_price\n",
    "        return max_profit\n",
    "    \n",
    "if __name__ == '__main__':\n",
    "    s = Solution()\n",
    "    prices = [7, 1, 3, 4, 6, 5]\n",
    "    print(s.maxProfit(prices))"
   ]
  },
  {
   "cell_type": "markdown",
   "id": "9da7b5a9",
   "metadata": {},
   "source": [
    "**Q3.** Given an integer array nums, find a subarray that has the largest product, and return the product.\n",
    "\n",
    "The test cases are generated so that the answer will fit in a 32-bit integer.\n",
    "\n",
    "**Example:**\n",
    "\n",
    "Input: nums = [2,3,-2,4]\n",
    "\n",
    "Output: 6\n",
    "\n",
    "Explanation: [2,3] has the largest product 6.\n",
    "\n",
    "\n",
    "TC : O(n)\n",
    "\n",
    "SC: O(1)"
   ]
  },
  {
   "cell_type": "code",
   "execution_count": 15,
   "id": "dbd9c758",
   "metadata": {},
   "outputs": [
    {
     "name": "stdout",
     "output_type": "stream",
     "text": [
      "9\n"
     ]
    }
   ],
   "source": [
    "from typing import List\n",
    "\n",
    "class Solution:\n",
    "    def maxProduct(self, nums: List[int]):\n",
    "        if len(nums) == 0:\n",
    "            return 0\n",
    "        max_so_far = nums[0]\n",
    "        min_so_far = nums[0]\n",
    "        result = max_so_far\n",
    "        for i in range(1, len(nums)):\n",
    "                curr = nums[i]\n",
    "                temp_max = max(curr, max_so_far*curr, min_so_far*curr)\n",
    "                min_so_far = min(curr, max_so_far*curr, min_so_far*curr)\n",
    "                \n",
    "                max_so_far = temp_max\n",
    "                \n",
    "                result = max(max_so_far, result)\n",
    "        return result\n",
    "    \n",
    "if __name__ == '__main__':\n",
    "    nums = [5, -4, 9]\n",
    "    s = Solution()\n",
    "    print(s.maxProduct(nums))"
   ]
  },
  {
   "cell_type": "markdown",
   "id": "ac4c0274",
   "metadata": {},
   "source": [
    "**Q4.** Given an integer array nums, return all the triplets [nums[i], nums[j], nums[k]] such that i != j, i != k, and j != k, and nums[i] + nums[j] + nums[k] == 0.\n",
    "\n",
    "Notice that the solution set must not contain duplicate triplets.\n",
    "\n",
    "**Example:**\n",
    "\n",
    "Input: nums = [-1,0,1,2,-1,-4]\n",
    "\n",
    "Output: [[-1,-1,2],[-1,0,1]]\n",
    "\n",
    "Explanation:\n",
    "\n",
    "nums[0] + nums[1] + nums[2] = (-1) + 0 + 1 = 0.\n",
    "\n",
    "nums[1] + nums[2] + nums[4] = 0 + 1 + (-1) = 0.\n",
    "\n",
    "nums[0] + nums[3] + nums[4] = (-1) + 2 + (-1) = 0.\n",
    "\n",
    "The distinct triplets are [-1,0,1] and [-1,-1,2].\n",
    "\n",
    "Notice that the order of the output and the order of the triplets does not matter.\n",
    "\n",
    "\n",
    "\n",
    "TC: O(n^2)\n",
    "\n",
    "SC : O(n) depending on which sorting algo is used"
   ]
  },
  {
   "cell_type": "code",
   "execution_count": 17,
   "id": "bb2cf4b8",
   "metadata": {},
   "outputs": [],
   "source": [
    "class Solution:\n",
    "    def threeSum(self, nums: List[int]) -> List[List[int]]:\n",
    "        res = []\n",
    "        nums.sort()\n",
    "        for i in range(len(nums)):\n",
    "            if nums[i] > 0:\n",
    "                break\n",
    "            if i == 0 or nums[i - 1] != nums[i]:\n",
    "                self.twoSumII(nums, i, res)\n",
    "        return res\n",
    " \n",
    "    def twoSumII(self, nums: List[int], i: int, res: List[List[int]]):\n",
    "        lo, hi = i + 1, len(nums) - 1\n",
    "        while (lo < hi):\n",
    "            sum = nums[i] + nums[lo] + nums[hi]\n",
    "            if sum < 0:\n",
    "                lo += 1\n",
    "            elif sum > 0:\n",
    "                hi -= 1\n",
    "            else:\n",
    "                res.append([nums[i], nums[lo], nums[hi]])\n",
    "                lo += 1\n",
    "                hi -= 1\n",
    "                while lo < hi and nums[lo] == nums[lo - 1]:\n",
    "                    lo += 1"
   ]
  },
  {
   "cell_type": "markdown",
   "id": "0626da66",
   "metadata": {},
   "source": [
    "**Q5.** Given an integer array nums and an integer k, return the kth largest element in the array. Note that it is the kth largest element in the sorted order, not the kth distinct element.\n",
    "\n",
    "**Example 1:**\n",
    "\n",
    "Input: nums = [3,2,1,5,6,4], k = 2\n",
    "\n",
    "Output: 5\n",
    "\n",
    "\n",
    "\n",
    "TC : O( n log k)\n",
    "\n",
    "TC : O( k)"
   ]
  },
  {
   "cell_type": "code",
   "execution_count": 1,
   "id": "6f659704",
   "metadata": {},
   "outputs": [],
   "source": [
    "class Solution:\n",
    "    def findKthLargest(self, nums, k):\n",
    "        \"\"\"\n",
    "        :type nums: List[int]\n",
    "        :type k: int\n",
    "        :rtype: int\n",
    "        \"\"\"\n",
    "        return heapq.nlargest(k, nums)[-1]"
   ]
  },
  {
   "cell_type": "markdown",
   "id": "a0d9120d",
   "metadata": {},
   "source": [
    "**Q6.** Given an integer array nums and an integer k, return the kth smallest element in the array. Note that it is the kth smallest element in the sorted order, not the kth distinct element.\n",
    "\n",
    "**Example 1:**\n",
    "\n",
    "Input: nums = [3,2,1,5,6,4], k = 2\n",
    "\n",
    "Output: 2\n",
    "\n",
    "\n",
    "\n",
    "\n",
    "TC : O( n log k)\n",
    "\n",
    "TC : O( k)"
   ]
  },
  {
   "cell_type": "code",
   "execution_count": 26,
   "id": "c91ee971",
   "metadata": {},
   "outputs": [
    {
     "name": "stdout",
     "output_type": "stream",
     "text": [
      "5\n"
     ]
    }
   ],
   "source": [
    "class Solution:\n",
    "    def __init__(self, arr):\n",
    "        self.arr = arr\n",
    "    \n",
    "    def priority(self, k):\n",
    "        result = []\n",
    "        for i in self.arr:\n",
    "            result.append(i)\n",
    "            result.sort(reverse=True)\n",
    "            if len(result) > k:\n",
    "                result.pop()\n",
    "        return result[1]\n",
    "                \n",
    "if __name__ == '__main__':\n",
    "    arr = [1,2,3,4,5,6]\n",
    "    k = 2\n",
    "    s = Solution(arr)\n",
    "    print(s.priority(k))"
   ]
  },
  {
   "cell_type": "code",
   "execution_count": null,
   "id": "59c05ec8",
   "metadata": {},
   "outputs": [],
   "source": []
  }
 ],
 "metadata": {
  "kernelspec": {
   "display_name": "Python 3 (ipykernel)",
   "language": "python",
   "name": "python3"
  },
  "language_info": {
   "codemirror_mode": {
    "name": "ipython",
    "version": 3
   },
   "file_extension": ".py",
   "mimetype": "text/x-python",
   "name": "python",
   "nbconvert_exporter": "python",
   "pygments_lexer": "ipython3",
   "version": "3.9.13"
  }
 },
 "nbformat": 4,
 "nbformat_minor": 5
}
