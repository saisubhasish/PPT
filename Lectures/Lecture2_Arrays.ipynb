{
 "cells": [
  {
   "cell_type": "markdown",
   "id": "e3c8ce79",
   "metadata": {},
   "source": [
    "**Question 1**\n",
    "\n",
    "Given an array nums containing n distinct numbers in the range [0, n], return the\n",
    "only number in the range that is missing from the array.\n",
    "\n",
    "Example 1:\n",
    "\n",
    "Input: nums = [3,0,1]\n",
    "\n",
    "Output: 2\n",
    "\n",
    "Explanation: n = 3 since there are 3 numbers, so all numbers are in the range[0,3]. 2 is the missing number in the range since it does not appear in nums."
   ]
  },
  {
   "cell_type": "code",
   "execution_count": 3,
   "id": "364433ab",
   "metadata": {},
   "outputs": [
    {
     "name": "stdout",
     "output_type": "stream",
     "text": [
      "[3,0,1]\n",
      "2\n"
     ]
    }
   ],
   "source": [
    "class Solution:\n",
    "    def missingNumber(self, nums):\n",
    "        numSet = set(nums)\n",
    " \n",
    "        expectedNumCount = len(nums) + 1\n",
    "        for number in range(expectedNumCount):\n",
    "            if number not in numSet:\n",
    "                return number\n",
    " \n",
    "        return -1\n",
    "\n",
    "if __name__ == '__main__':\n",
    "    nums = eval(input())\n",
    "    s = Solution()\n",
    "    print(s.missingNumber(nums))"
   ]
  },
  {
   "cell_type": "code",
   "execution_count": 4,
   "id": "ba7954a9",
   "metadata": {},
   "outputs": [
    {
     "name": "stdout",
     "output_type": "stream",
     "text": [
      "[3,0,1]\n",
      "2\n"
     ]
    }
   ],
   "source": [
    "def missing_num(nums):\n",
    "    for i in range(len(nums)+1):\n",
    "        if i not in nums:\n",
    "            print(i)\n",
    "\n",
    "if __name__ == '__main__':\n",
    "    nums = eval(input())\n",
    "    missing_num(nums)"
   ]
  },
  {
   "cell_type": "markdown",
   "id": "3765767b",
   "metadata": {},
   "source": [
    "TC: O(n)\n",
    "SC: O (n)"
   ]
  },
  {
   "cell_type": "markdown",
   "id": "c9d855cc",
   "metadata": {},
   "source": [
    "**Question 2**\n",
    "\n",
    "Given an array of intervals where intervals[i] = [starti, endi], merge all overlapping\n",
    "intervals, and return an array of the non-overlapping intervals that cover all the\n",
    "intervals in the input.\n",
    "\n",
    "Example 1:\n",
    "\n",
    "Input: intervals = [[1,3],[2,6],[8,10],[15,18]]\n",
    "\n",
    "Output: [[1,6],[8,10],[15,18]]\n",
    "\n",
    "Explanation: Since intervals [1,3] and [2,6] overlap, merge them into [1,6]."
   ]
  },
  {
   "cell_type": "code",
   "execution_count": 5,
   "id": "4519fbd8",
   "metadata": {},
   "outputs": [
    {
     "name": "stdout",
     "output_type": "stream",
     "text": [
      "[[1,3],[2,6],[8,10],[15,18]]\n",
      "[[1, 6], [8, 10], [15, 18]]\n"
     ]
    }
   ],
   "source": [
    "class Solution:\n",
    "    def merge(self, intervals):\n",
    "        intervals.sort(key=lambda x: x[0])\n",
    "        merged = []\n",
    "        for interval in intervals:\n",
    "            if not merged or merged[-1][1] < interval[0]:\n",
    "                merged.append(interval)\n",
    "            else:\n",
    "                merged[-1][1] = max(merged[-1][1], interval[1])\n",
    "        return merged\n",
    "    \n",
    "    \n",
    "if __name__ == '__main__':\n",
    "    intervals = eval(input())\n",
    "    s = Solution()\n",
    "    print(s.merge(intervals))"
   ]
  },
  {
   "cell_type": "markdown",
   "id": "fce44782",
   "metadata": {},
   "source": [
    "TC : O(nlogn)\n",
    "SC : O (log n)"
   ]
  },
  {
   "cell_type": "markdown",
   "id": "4cf48eaf",
   "metadata": {},
   "source": [
    "**Question 3**\n",
    "\n",
    "You are given two integer arrays nums1 and nums2, sorted in non-decreasing\n",
    "order, and two integers m and n, representing the number of elements in nums1\n",
    "and nums2 respectively.\n",
    "\n",
    "Merge nums1 and nums2 into a single array sorted in non-decreasing order.\n",
    "The final sorted array should not be returned by the function, but instead be\n",
    "stored inside the array nums1. To accommodate this, nums1 has a length of m +\n",
    "n, where the first m elements denote the elements that should be merged, and the\n",
    "last n elements are set to 0 and should be ignored. nums2 has a length of n.\n",
    "\n",
    "Example 1:\n",
    "\n",
    "Input: nums1 = [1,2,3,0,0,0], m = 3, nums2 = [2,5,6], n = 3\n",
    "\n",
    "Output: [1,2,2,3,5,6]\n",
    "\n",
    "Explanation: The arrays we are merging are [1,2,3] and [2,5,6].\n",
    "\n",
    "The result of the merge is [1,2,2,3,5,6] with the underlined elements coming from nums1."
   ]
  },
  {
   "cell_type": "code",
   "execution_count": 8,
   "id": "b6c56de6",
   "metadata": {},
   "outputs": [
    {
     "name": "stdout",
     "output_type": "stream",
     "text": [
      "[1,2,3,0,0,0]\n",
      "3\n",
      "[2,5,6]\n",
      "3\n",
      "[1, 2, 2, 3, 5, 6]\n"
     ]
    }
   ],
   "source": [
    "class Solution:\n",
    "    def merge(self, nums1, m, nums2, n):\n",
    "        nums1Copy = nums1[:m]\n",
    "        p1, p2 = 0, 0\n",
    "        p = 0\n",
    " \n",
    "        while p < m + n:\n",
    "            if p2 >= n or (p1 < m and nums1Copy[p1] < nums2[p2]):\n",
    "                nums1[p] = nums1Copy[p1]\n",
    "                p1 += 1\n",
    "            else:\n",
    "                nums1[p] = nums2[p2]\n",
    "                p2 += 1\n",
    "            p += 1\n",
    "        return nums1\n",
    "            \n",
    "if __name__ == '__main__':\n",
    "    nums1 = eval(input())\n",
    "    m = int(input())\n",
    "    nums2 = eval(input())\n",
    "    n = int(input())\n",
    "    s = Solution()\n",
    "    print(s.merge(nums1, m, nums2, n))"
   ]
  },
  {
   "cell_type": "markdown",
   "id": "e668b7fc",
   "metadata": {},
   "source": [
    "TC : O(nlogn)\n",
    "SC : O(log n)"
   ]
  },
  {
   "cell_type": "markdown",
   "id": "2193b9c3",
   "metadata": {},
   "source": [
    "**Question 4**\n",
    "\n",
    "Given an array nums of size n, return the majority element.\n",
    "The majority element is the element that appears more than ⌊n / 2⌋ times. You\n",
    "may assume that the majority element always exists in the array.\n",
    "\n",
    "Example 1:\n",
    "\n",
    "Input: nums = [3,2,3]\n",
    "\n",
    "Output: 3"
   ]
  },
  {
   "cell_type": "code",
   "execution_count": 11,
   "id": "7ee82b1b",
   "metadata": {},
   "outputs": [
    {
     "name": "stdout",
     "output_type": "stream",
     "text": [
      "[4,5,6,4,4,5]\n",
      "5\n"
     ]
    }
   ],
   "source": [
    "class Solution:\n",
    "    def majorityElement(self, nums):\n",
    "        nums.sort()\n",
    "        return nums[len(nums) // 2]\n",
    "    \n",
    "if __name__ == '__main__':\n",
    "    nums = eval(input())\n",
    "    s = Solution()\n",
    "    print(s.majorityElement(nums))"
   ]
  },
  {
   "cell_type": "markdown",
   "id": "e48829a5",
   "metadata": {},
   "source": [
    "TC: O(nlogn)\n",
    "SC : O(logn)"
   ]
  },
  {
   "cell_type": "markdown",
   "id": "af430ba1",
   "metadata": {},
   "source": [
    "**Question 5**\n",
    "\n",
    "Given an array of integers nums containing n + 1 integers where each integer is in\n",
    "the range [1, n] inclusive.\n",
    "\n",
    "There is only one repeated number in nums, return this repeated number.\n",
    "\n",
    "You must solve the problem without modifying the array nums and uses only\n",
    "constant extra space.\n",
    "\n",
    "Example 1:\n",
    "\n",
    "Input: nums = [1,3,4,2,2]\n",
    "\n",
    "Output: 2"
   ]
  },
  {
   "cell_type": "code",
   "execution_count": 12,
   "id": "326d7c68",
   "metadata": {},
   "outputs": [
    {
     "name": "stdout",
     "output_type": "stream",
     "text": [
      "[1,3,4,2,2]\n",
      "2\n"
     ]
    }
   ],
   "source": [
    "class Solution:\n",
    "    def findDuplicate(self, nums):\n",
    "        seen = set()\n",
    "        for num in nums:\n",
    "            if num in seen:\n",
    "                return num\n",
    "            seen.add(num)\n",
    "        return -1\n",
    "    \n",
    "if __name__ == '__main__':\n",
    "    nums = eval(input())\n",
    "    s = Solution()\n",
    "    print(s.findDuplicate(nums))"
   ]
  },
  {
   "cell_type": "markdown",
   "id": "1d7416d5",
   "metadata": {},
   "source": [
    "TC : O(n)\n",
    "SC : O(n)"
   ]
  },
  {
   "cell_type": "markdown",
   "id": "18bc6790",
   "metadata": {},
   "source": [
    "**Question 6**\n",
    "\n",
    "There are many situations where we use integer values as index in array to see\n",
    "presence or absence. We can use bit manipulations to optimize space in such\n",
    "problems.\n",
    "\n",
    "Let us consider the below problem as an example.\n",
    "\n",
    "Given two numbers say a and b, mark the multiples of 2 and 5 between a and b\n",
    "and output each of the multiples.\n",
    "\n",
    "Note : We have to mark the multiples i.e save (key, value) pairs in memory such\n",
    "that each key either has a value as 1 or 0 representing a multiple of 2 or 5 or not\n",
    "respectively.\n",
    "\n",
    "Examples :\n",
    "\n",
    "Input : 2 10\n",
    "\n",
    "Output : 2 4 5 6 8 10\n",
    "\n",
    "Input: 60 95\n",
    "\n",
    "Output: 60 62 64 65 66 68 70 72 74 75 76 78 80 82 84 85 86 88 90 92 94 95"
   ]
  },
  {
   "cell_type": "code",
   "execution_count": 13,
   "id": "29e51cc8",
   "metadata": {},
   "outputs": [
    {
     "name": "stdout",
     "output_type": "stream",
     "text": [
      "60 62 64 65 66 68 70 "
     ]
    }
   ],
   "source": [
    "def main():\n",
    "    a = 60\n",
    "    b = 70\n",
    "    size = abs(b - a) + 1\n",
    "    array = [0] * size\n",
    " \n",
    "    for i in range(a, b + 1):\n",
    "        if i % 2 == 0 or i % 5 == 0:\n",
    "            array[i - a] = 1\n",
    " \n",
    "    for i in range(a, b + 1):\n",
    "        if array[i - a] == 1:\n",
    "            print(i, end=' ')\n",
    " \n",
    "if __name__ == '__main__':\n",
    "    main()"
   ]
  },
  {
   "cell_type": "markdown",
   "id": "12440f7d",
   "metadata": {},
   "source": [
    "TC : O (n)\n",
    "SC : O(n)"
   ]
  },
  {
   "cell_type": "markdown",
   "id": "a5e85ece",
   "metadata": {},
   "source": [
    "**Question 7**\n",
    "\n",
    "Given an array of positive integers. We need to make the given array a\n",
    "‘Palindrome’. The only allowed operation is”merging” (of two adjacent elements).\n",
    "Merging two adjacent elements means replacing them with their sum. The task is\n",
    "to find the minimum number of merge operations required to make the given\n",
    "array a ‘Palindrome’.\n",
    "\n",
    "\n",
    "To make any array a palindrome, we can simply apply merge operation n-1 times\n",
    "where n is the size of the array (because a single-element array is always\n",
    "palindromic, similar to a single-character string). In that case, the size of array\n",
    "will be reduced to 1. But in this problem, we are asked to do it in the minimum\n",
    "number of operations.\n",
    "\n",
    "Example :\n",
    "\n",
    "Input : arr[] = {15, 4, 15}\n",
    "\n",
    "Output : 0\n",
    "\n",
    "Array is already a palindrome. So we do not need any merge operation.\n",
    "\n",
    "Input : arr[] = {1, 4, 5, 1}\n",
    "\n",
    "Output : 1\n",
    "\n",
    "We can make given array palindrome with minimum one merging (merging 4 and 5 to make 9)\n",
    "\n",
    "Input : arr[] = {11, 14, 15, 99}\n",
    "\n",
    "Output : 3\n",
    "\n",
    "We need to merge all elements to make a palindrome."
   ]
  },
  {
   "cell_type": "code",
   "execution_count": 16,
   "id": "5b266ecb",
   "metadata": {},
   "outputs": [
    {
     "name": "stdout",
     "output_type": "stream",
     "text": [
      "Count of minimum operations is 1\n"
     ]
    }
   ],
   "source": [
    "def findMinOps(arr, n):\n",
    "    ans = 0  # Initialize result\n",
    " \n",
    "    # Start from two corners\n",
    "    i, j = 0, n - 1\n",
    "    while i <= j:\n",
    "        # If corner elements are the same,\n",
    "        # problem reduces arr[i+1..j-1]\n",
    "        if arr[i] == arr[j]:\n",
    "            i += 1\n",
    "            j -= 1\n",
    "        # If the left element is greater, then\n",
    "        # we merge the right two elements\n",
    "        elif arr[i] > arr[j]:\n",
    "            # Need to merge from the tail.\n",
    "            j -= 1\n",
    "            arr[j] += arr[j + 1]\n",
    "            ans += 1\n",
    "        # Else we merge the left two elements\n",
    "        else:\n",
    "            i += 1\n",
    "            arr[i] += arr[i - 1]\n",
    "            ans += 1\n",
    " \n",
    "    return ans\n",
    " \n",
    "# Driver method to test the above function\n",
    "arr = [1, 4, 5, 9, 1]\n",
    "print(\"Count of minimum operations is\", findMinOps(arr, len(arr)))"
   ]
  },
  {
   "cell_type": "markdown",
   "id": "4f4f840c",
   "metadata": {},
   "source": [
    "TC : O(n)\n",
    "SC : O(1)"
   ]
  },
  {
   "cell_type": "code",
   "execution_count": null,
   "id": "16e127d7",
   "metadata": {},
   "outputs": [],
   "source": []
  }
 ],
 "metadata": {
  "kernelspec": {
   "display_name": "Python 3 (ipykernel)",
   "language": "python",
   "name": "python3"
  },
  "language_info": {
   "codemirror_mode": {
    "name": "ipython",
    "version": 3
   },
   "file_extension": ".py",
   "mimetype": "text/x-python",
   "name": "python",
   "nbconvert_exporter": "python",
   "pygments_lexer": "ipython3",
   "version": "3.8.0"
  }
 },
 "nbformat": 4,
 "nbformat_minor": 5
}
