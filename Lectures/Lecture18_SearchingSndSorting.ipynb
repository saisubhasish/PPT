{
 "cells": [
  {
   "cell_type": "markdown",
   "id": "f97da5ba",
   "metadata": {},
   "source": [
    "1. Find common elements in three sorted arrays\n",
    "\n",
    "Link : https://www.geeksforgeeks.org/find-common-elements-three-sorted-arrays/ \n",
    "\n",
    "Approach : For each element in array1, check whether it is present in both array2 and array3. Since all the arrays are sorted, binary search can be utilized to search in array2 and array3."
   ]
  },
  {
   "cell_type": "code",
   "execution_count": 1,
   "id": "abbfdb8e",
   "metadata": {},
   "outputs": [
    {
     "ename": "SyntaxError",
     "evalue": "invalid decimal literal (809908712.py, line 25)",
     "output_type": "error",
     "traceback": [
      "\u001b[1;36m  Cell \u001b[1;32mIn[1], line 25\u001b[1;36m\u001b[0m\n\u001b[1;33m    // check if the element is present in 2nd and 3rd\u001b[0m\n\u001b[1;37m                                          ^\u001b[0m\n\u001b[1;31mSyntaxError\u001b[0m\u001b[1;31m:\u001b[0m invalid decimal literal\n"
     ]
    }
   ],
   "source": [
    "function binary_search(arr, n, element)\n",
    "{\n",
    "    let l = 0, h = n - 1\n",
    "    while (l <= h) {\n",
    "        let mid = Math.floor((l + h) / 2)\n",
    "        if (arr[mid] == element) {\n",
    "            return true\n",
    "        }\n",
    "        else if (arr[mid] > element) {\n",
    "            h = mid - 1\n",
    "        }\n",
    "        else {\n",
    "            l = mid + 1\n",
    "        }\n",
    "    }\n",
    "    return false\n",
    "}\n",
    "function findCommon(a, b, c, n1, n2, n3)\n",
    "{\n",
    "    // Iterate on first array\n",
    "    for (let j = 0; j < n1; j++) {\n",
    "        if (j != 0 && a[j] == a[j - 1]) {\n",
    "            continue;\n",
    "        }\n",
    "        // check if the element is present in 2nd and 3rd\n",
    "        // array.\n",
    "        if (binary_search(b, n2, a[j])\n",
    "            && binary_search(c, n3, a[j])) {\n",
    "            document.write(a[j],\" \");\n",
    "        }\n",
    "    }\n",
    "}"
   ]
  },
  {
   "cell_type": "markdown",
   "id": "83c9f2cf",
   "metadata": {},
   "source": [
    "Time Complexity : O(n1(log(n2*n3))\n",
    "\n",
    "Space Complexity : O(1)"
   ]
  },
  {
   "cell_type": "markdown",
   "id": "80b0aca6",
   "metadata": {},
   "source": [
    "2. Minimum number of swaps required to sort an array\n",
    "\n",
    "Link : https://www.geeksforgeeks.org/minimum-number-swaps-required-sort-array/\n",
    "\n",
    "Approach : Since all the element lie within the range 1 to N (where N is the size of the array), and all the elements are unique in nature, the final sorted array would like :\n",
    "1 2 3 4 ….. N. In other words, index i should have element i+1, in the final sorted array.\n",
    "Now, While iterating over the array, check the current element at index i, if it is different from i+1, shift arr[i] to arr[ arr[i] - 1 ]. Loop this till index i gets i+1. Count the total number of swaps for each index."
   ]
  },
  {
   "cell_type": "code",
   "execution_count": 2,
   "id": "b17aae3d",
   "metadata": {},
   "outputs": [],
   "source": [
    "def minSwaps(arr, N):\n",
    " \n",
    "    ans = 0\n",
    "    for i in range(N):\n",
    " \n",
    "        # This is checking whether\n",
    "        # the current element is\n",
    "        # at the right place or not\n",
    "        if (arr[i] != i+1):\n",
    "            ans += 1\n",
    "            # Swap the current element\n",
    "            # with the right index\n",
    "            # so that arr[0] to arr[i]\n",
    "            # is sorted\n",
    "            arr[i],arr[arr[i]-1] = arr[arr[i]-1],arr[i]\n",
    " \n",
    "    return ans"
   ]
  },
  {
   "cell_type": "markdown",
   "id": "dc8d20c1",
   "metadata": {},
   "source": [
    "Time Complexity : O(N), where N is the size of the array\n",
    "    \n",
    "Space Complexity : O(1)"
   ]
  },
  {
   "cell_type": "code",
   "execution_count": null,
   "id": "a29faf10",
   "metadata": {},
   "outputs": [],
   "source": []
  }
 ],
 "metadata": {
  "kernelspec": {
   "display_name": "Python 3 (ipykernel)",
   "language": "python",
   "name": "python3"
  },
  "language_info": {
   "codemirror_mode": {
    "name": "ipython",
    "version": 3
   },
   "file_extension": ".py",
   "mimetype": "text/x-python",
   "name": "python",
   "nbconvert_exporter": "python",
   "pygments_lexer": "ipython3",
   "version": "3.10.9"
  }
 },
 "nbformat": 4,
 "nbformat_minor": 5
}
