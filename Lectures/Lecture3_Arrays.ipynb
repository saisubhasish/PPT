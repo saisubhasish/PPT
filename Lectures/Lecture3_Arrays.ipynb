{
 "cells": [
  {
   "cell_type": "markdown",
   "id": "5607f545",
   "metadata": {},
   "source": [
    "**Question 1**\n",
    "\n",
    "Implement pow(x, n), which calculates x raised to the power n (i.e., x^n)."
   ]
  },
  {
   "cell_type": "code",
   "execution_count": 4,
   "id": "7f26cb62",
   "metadata": {},
   "outputs": [
    {
     "name": "stdout",
     "output_type": "stream",
     "text": [
      "125\n"
     ]
    }
   ],
   "source": [
    "class Solution:\n",
    "    def pow(self, x, n):\n",
    "        if n == 0:  # power 0\n",
    "            return 1\n",
    "        if n < 0:\n",
    "            n = -n\n",
    "            x = 1 / x\n",
    "        return x * self.pow(x * x, n // 2) if n % 2 else self.pow(x * x, n // 2)\n",
    "    \n",
    "if __name__ == '__main__':\n",
    "    x = 5\n",
    "    n = 3\n",
    "    print(pow(x, n))"
   ]
  },
  {
   "cell_type": "markdown",
   "id": "642f4d4b",
   "metadata": {},
   "source": [
    "TC : O(log n)\n",
    "SC : O(1)"
   ]
  },
  {
   "cell_type": "markdown",
   "id": "fbdaa054",
   "metadata": {},
   "source": [
    "**Question 2**\n",
    "\n",
    "A permutation of an array of integers is an arrangement of its members into a\n",
    "sequence or linear order.\n",
    "\n",
    "● For example, for arr = [1,2,3], the following are all the permutations of arr:\n",
    "[1,2,3], [1,3,2], [2, 1, 3], [2, 3, 1], [3,1,2], [3,2,1].\n",
    "\n",
    "The next permutation of an array of integers is the next lexicographically greater\n",
    "permutation of its integer. More formally, if all the permutations of the array are\n",
    "sorted in one container according to their lexicographical order, then the next\n",
    "permutation of that array is the permutation that follows it in the sorted container.\n",
    "\n",
    "If such arrangement is not possible, the array must be rearranged as the lowest\n",
    "possible order (i.e., sorted in ascending order).\n",
    "\n",
    "● For example, the next permutation of arr = [1,2,3] is [1,3,2].\n",
    "\n",
    "● Similarly, the next permutation of arr = [2,3,1] is [3,1,2].\n",
    "\n",
    "● While the next permutation of arr = [3,2,1] is [1,2,3] because [3,2,1] does not\n",
    "have a lexicographical larger rearrangement.\n",
    "\n",
    "Given an array of integers nums, find the next permutation of nums.\n",
    "The replacement must be in place and use only constant extra memory.\n",
    "\n",
    "Example 1:\n",
    "\n",
    "Input: nums = [1,2,3]\n",
    "\n",
    "Output: [1,3,2]"
   ]
  },
  {
   "cell_type": "code",
   "execution_count": 16,
   "id": "d0e5be6d",
   "metadata": {},
   "outputs": [],
   "source": [
    "def next_permutation(nums):\n",
    "    i = len(nums) - 2\n",
    "    while i >= 0 and nums[i+1] <= nums[i]:\n",
    "        i -= 1\n",
    "    if i >= 0:\n",
    "        j = len(nums) - 1\n",
    "        while nums[j] <= nums[i]:\n",
    "            j -= 1\n",
    "        nums[i], nums[j] = nums[j], nums[i]\n",
    "    reverse(nums, i+1)\n",
    "    \n",
    "def reverse(nums, start):\n",
    "    i, j = start, len(nums)-1\n",
    "    while i < j:\n",
    "        nums[i], nums[j] = nums[j], nums[i]\n",
    "        i += 1\n",
    "        j -= 1\n",
    "    return nums\n",
    "        \n",
    "nums = [1,2,3]\n",
    "next_permutation(nums)"
   ]
  },
  {
   "cell_type": "markdown",
   "id": "3a97a43a",
   "metadata": {},
   "source": [
    "Time complexity: O(n). In worst case, only two scans of the whole array are\n",
    "needed.\n",
    "\n",
    "Space complexity: O(1). No extra space is used. In place replacements are done."
   ]
  },
  {
   "cell_type": "markdown",
   "id": "a20742d3",
   "metadata": {},
   "source": [
    "**Question 3**\n",
    "\n",
    "Given an array arr[] of distinct elements size N that is sorted and then around an\n",
    "unknown point, the task is to check if the array has a pair with a given sum X.\n",
    "\n",
    "Examples :\n",
    "\n",
    "Input: arr[] = {11, 15, 6, 8, 9, 10}, X = 16\n",
    "\n",
    "Output: true\n",
    "\n",
    "Explanation: There is a pair (6, 10) with sum 16"
   ]
  },
  {
   "cell_type": "code",
   "execution_count": 17,
   "id": "8fdca9fa",
   "metadata": {},
   "outputs": [
    {
     "name": "stdout",
     "output_type": "stream",
     "text": [
      "True\n"
     ]
    }
   ],
   "source": [
    "def find_pair(arr, x):\n",
    "    n = len(arr)\n",
    "    # find pivot element\n",
    "    pivot = 0\n",
    "    for i in range(n - 1):\n",
    "        if arr[i] > arr[i + 1]:\n",
    "            pivot = i + 1\n",
    "            break\n",
    "    left = pivot\n",
    "    right = pivot - 1\n",
    "    while left != right:\n",
    "        if arr[left] + arr[right] == x:\n",
    "            return True\n",
    "        elif arr[left] + arr[right] < x:\n",
    "            left = (left + 1) % n\n",
    "        else:\n",
    "            right = (right - 1 + n) % n\n",
    "    return False\n",
    " \n",
    "arr = [11, 15, 6, 8, 9, 10]\n",
    "x = 16\n",
    "print(find_pair(arr, x))"
   ]
  },
  {
   "cell_type": "markdown",
   "id": "60b08394",
   "metadata": {},
   "source": [
    "Time Complexity: O(n), where n is the length of the input array.\n",
    "    \n",
    "Space Complexity: O(1)."
   ]
  },
  {
   "cell_type": "markdown",
   "id": "57385487",
   "metadata": {},
   "source": [
    "**Question 4**\n",
    "\n",
    "Given an array nums with n objects colored red, white, or blue, sort them in-place\n",
    "so that objects of the same color are adjacent, with the colors in the order red,\n",
    "white, and blue.\n",
    "\n",
    "We will use the integers 0, 1, and 2 to represent the color red, white, and blue,\n",
    "respectively.\n",
    "\n",
    "You must solve this problem without using the library's sort function.\n",
    "\n",
    "Example 1:\n",
    "\n",
    "Input: nums = [2,0,2,1,1,0]\n",
    "\n",
    "Output: [0,0,1,1,2,2]"
   ]
  },
  {
   "cell_type": "code",
   "execution_count": 20,
   "id": "40cd3c0f",
   "metadata": {},
   "outputs": [
    {
     "data": {
      "text/plain": [
       "[0, 0, 1, 1, 2, 2]"
      ]
     },
     "execution_count": 20,
     "metadata": {},
     "output_type": "execute_result"
    }
   ],
   "source": [
    "def sort_colors(nums):\n",
    "    p0 = 0\n",
    "    curr = 0\n",
    "    p2 = len(nums) - 1\n",
    " \n",
    "    while curr <= p2:\n",
    "        if nums[curr] == 0:\n",
    "            nums[p0], nums[curr] = nums[curr], nums[p0]\n",
    "            p0 += 1\n",
    "            curr += 1\n",
    "        elif nums[curr] == 2:\n",
    "            nums[curr], nums[p2] = nums[p2], nums[curr]\n",
    "            p2 -= 1\n",
    "        else:\n",
    "            curr += 1\n",
    "    return nums\n",
    "            \n",
    "nums = [2,0,2,1,1,0]\n",
    "sort_colors(nums)"
   ]
  },
  {
   "cell_type": "markdown",
   "id": "bb4ed1af",
   "metadata": {},
   "source": [
    "TC : O(n)\n",
    "    \n",
    "SC : O(1)"
   ]
  },
  {
   "cell_type": "markdown",
   "id": "4b424550",
   "metadata": {},
   "source": [
    "**Question 5**\n",
    "\n",
    "Given an integer array nums, rotate the array to the right by k steps, where k is\n",
    "non-negative.\n",
    "\n",
    "Example 1:\n",
    "\n",
    "Input: nums = [1,2,3,4,5,6,7], k = 3\n",
    "\n",
    "Output: [5,6,7,1,2,3,4]\n",
    "\n",
    "Explanation:\n",
    "\n",
    "rotate 1 steps to the right: [7,1,2,3,4,5,6]\n",
    "\n",
    "rotate 2 steps to the right: [6,7,1,2,3,4,5]\n",
    "\n",
    "rotate 3 steps to the right: [5,6,7,1,2,3,4]"
   ]
  },
  {
   "cell_type": "code",
   "execution_count": 21,
   "id": "c399fe78",
   "metadata": {},
   "outputs": [],
   "source": [
    "def rotate(nums, k):\n",
    "    k %= len(nums)\n",
    "    reverse(nums, 0, len(nums) - 1)\n",
    "    reverse(nums, 0, k - 1)\n",
    "    reverse(nums, k, len(nums) - 1)\n",
    " \n",
    "def reverse(nums, start, end):\n",
    "    while start < end:\n",
    "        nums[start], nums[end] = nums[end], nums[start]\n",
    "        start += 1\n",
    "        end -= 1"
   ]
  },
  {
   "cell_type": "markdown",
   "id": "2060219f",
   "metadata": {},
   "source": [
    "TC: O(n)\n",
    "    \n",
    "SC: O(1)"
   ]
  },
  {
   "cell_type": "markdown",
   "id": "7d4c7a3e",
   "metadata": {},
   "source": [
    "**Question 6**\n",
    "\n",
    "Given a binary array nums, return the maximum number of consecutive 1's in the\n",
    "array.\n",
    "\n",
    "Example 1:\n",
    "\n",
    "Input: nums = [1,1,0,1,1,1]\n",
    "\n",
    "Output: 3\n",
    "\n",
    "Explanation: The first two digits or the last three digits are consecutive 1s. The\n",
    "maximum number of consecutive 1s is 3."
   ]
  },
  {
   "cell_type": "code",
   "execution_count": 25,
   "id": "b9ff90a5",
   "metadata": {},
   "outputs": [
    {
     "data": {
      "text/plain": [
       "3"
      ]
     },
     "execution_count": 25,
     "metadata": {},
     "output_type": "execute_result"
    }
   ],
   "source": [
    "def maximum_consecutive(nums):\n",
    "    count = 0\n",
    "    max_count = 0\n",
    "    for i in range(len(nums)):\n",
    "        if nums[i] == 1:\n",
    "            count+=1\n",
    "        else:\n",
    "            max_count = count\n",
    "            count = 0\n",
    "    return max(max_count, count)\n",
    "\n",
    "nums = [1,1,0,1,1,1]\n",
    "maximum_consecutive(nums)"
   ]
  },
  {
   "cell_type": "code",
   "execution_count": null,
   "id": "45b3bfd9",
   "metadata": {},
   "outputs": [],
   "source": []
  }
 ],
 "metadata": {
  "kernelspec": {
   "display_name": "Python 3 (ipykernel)",
   "language": "python",
   "name": "python3"
  },
  "language_info": {
   "codemirror_mode": {
    "name": "ipython",
    "version": 3
   },
   "file_extension": ".py",
   "mimetype": "text/x-python",
   "name": "python",
   "nbconvert_exporter": "python",
   "pygments_lexer": "ipython3",
   "version": "3.9.13"
  }
 },
 "nbformat": 4,
 "nbformat_minor": 5
}
