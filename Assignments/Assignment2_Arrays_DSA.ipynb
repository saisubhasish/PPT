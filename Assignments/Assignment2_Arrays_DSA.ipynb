{
 "cells": [
  {
   "cell_type": "markdown",
   "id": "9e7af490",
   "metadata": {},
   "source": [
    "**Question 1**\n",
    "Given an integer array nums of 2n integers, group these integers into n pairs (a1, b1), (a2, b2),..., (an, bn) such that the sum of min(ai, bi) for all i is maximized. Return the maximized sum.\n",
    "\n",
    "**Example 1:**\n",
    "Input: nums = [1,4,3,2]\n",
    "Output: 4\n",
    "\n",
    "**Explanation:** All possible pairings (ignoring the ordering of elements) are:\n",
    "\n",
    "1. (1, 4), (2, 3) -> min(1, 4) + min(2, 3) = 1 + 2 = 3\n",
    "2. (1, 3), (2, 4) -> min(1, 3) + min(2, 4) = 1 + 2 = 3\n",
    "3. (1, 2), (3, 4) -> min(1, 2) + min(3, 4) = 1 + 3 = 4\n",
    "\n",
    "So the maximum possible sum is 4"
   ]
  },
  {
   "cell_type": "code",
   "execution_count": 6,
   "id": "d49dd0d7",
   "metadata": {},
   "outputs": [
    {
     "name": "stdout",
     "output_type": "stream",
     "text": [
      "[1,4,3,2]\n",
      "4\n"
     ]
    }
   ],
   "source": [
    "class Solution:\n",
    "    def arrayPairSum(self, nums):\n",
    "        \"\"\"\n",
    "        :type nums: List[int]\n",
    "        :rtype: int\n",
    "        \"\"\"\n",
    "        nums.sort()\n",
    "        result = 0\n",
    "        numsLen = len(nums)\n",
    "        for i in range(0, numsLen - 1, 2):\n",
    "            result += nums[i]\n",
    "        return result\n",
    "    \n",
    "if __name__ == '__main__':\n",
    "    nums = eval(input())\n",
    "    s = Solution()\n",
    "    print(s.arrayPairSum(nums))"
   ]
  },
  {
   "cell_type": "markdown",
   "id": "a71cf159",
   "metadata": {},
   "source": [
    "TC: O(n^2)\n",
    "SC: O(1)"
   ]
  },
  {
   "cell_type": "markdown",
   "id": "5ede79d3",
   "metadata": {},
   "source": [
    "**Question 2**\n",
    "\n",
    "Alice has n candies, where the ith candy is of type candyType[i]. Alice noticed that she started to gain weight, so she visited a doctor. \n",
    "\n",
    "The doctor advised Alice to only eat n / 2 of the candies she has (n is always even). Alice likes her candies very much, and she wants to eat the maximum number of different types of candies while still following the doctor's advice. \n",
    "\n",
    "Given the integer array candyType of length n, return the maximum number of different types of candies she can eat if she only eats n / 2 of them.\n",
    "\n",
    "Example 1:\n",
    "\n",
    "Input: candyType = [1,1,2,2,3,3]\n",
    "\n",
    "Output: 3\n",
    "\n",
    "Explanation: Alice can only eat 6 / 2 = 3 candies. Since there are only 3 types, she can eat one of each type."
   ]
  },
  {
   "cell_type": "code",
   "execution_count": 9,
   "id": "0dcbc858",
   "metadata": {},
   "outputs": [
    {
     "name": "stdout",
     "output_type": "stream",
     "text": [
      "[1,1,2,2,3,3]\n",
      "3\n"
     ]
    }
   ],
   "source": [
    "from typing import List\n",
    "\n",
    "class Solution:\n",
    "    def distributeCandies(self, candyType: List[int]) -> int:\n",
    "        return min(len(candyType) >> 1, len(set(candyType)))\n",
    "    \n",
    "if __name__ == '__main__':\n",
    "    candyType = eval(input())\n",
    "    s = Solution()\n",
    "    print(s.distributeCandies(candyType))"
   ]
  },
  {
   "cell_type": "markdown",
   "id": "cbb3bafb",
   "metadata": {},
   "source": [
    "**Question 3**\n",
    "\n",
    "We define a harmonious array as an array where the difference between its maximum value\n",
    "and its minimum value is exactly 1.\n",
    "\n",
    "Given an integer array nums, return the length of its longest harmonious subsequence\n",
    "among all its possible subsequences.\n",
    "\n",
    "A subsequence of an array is a sequence that can be derived from the array by deleting some or no elements without changing the order of the remaining elements.\n",
    "\n",
    "Example 1:\n",
    "\n",
    "Input: nums = [1,3,2,2,5,2,3,7]\n",
    "\n",
    "Output: 5\n",
    "\n",
    "Explanation: The longest harmonious subsequence is [3,2,2,2,3]."
   ]
  },
  {
   "cell_type": "code",
   "execution_count": 12,
   "id": "078a618c",
   "metadata": {},
   "outputs": [
    {
     "name": "stdout",
     "output_type": "stream",
     "text": [
      "[1,3,2,2,5,2,3,7]\n",
      "5\n"
     ]
    }
   ],
   "source": [
    "import collections\n",
    "\n",
    "\n",
    "class Solution(object):\n",
    "    def findLHS(self, nums):\n",
    "        \"\"\"\n",
    "        :type nums: List[int]\n",
    "        :rtype: int\n",
    "        \"\"\"\n",
    "        lookup = collections.defaultdict(int)\n",
    "        result = 0\n",
    "        for num in nums:\n",
    "            lookup[num] += 1\n",
    "            for diff in [-1, 1]:\n",
    "                if (num + diff) in lookup:\n",
    "                    result = max(result, lookup[num] + lookup[num + diff])\n",
    "        return result\n",
    "    \n",
    "if __name__ == '__main__':\n",
    "    nums = eval(input())\n",
    "    s = Solution()\n",
    "    print(s.findLHS(nums))"
   ]
  },
  {
   "cell_type": "markdown",
   "id": "5dabb166",
   "metadata": {},
   "source": [
    "TC: O(n logn)\n",
    "SC: O(1)"
   ]
  },
  {
   "cell_type": "markdown",
   "id": "935ceb0b",
   "metadata": {},
   "source": [
    "**Question 4**\n",
    "\n",
    "You have a long flowerbed in which some of the plots are planted, and some are not.\n",
    "However, flowers cannot be planted in adjacent plots.\n",
    "Given an integer array flowerbed containing 0's and 1's, where 0 means empty and 1 means not empty, and an integer n, return true if n new flowers can be planted in the flowerbed without violating the no-adjacent-flowers rule and false otherwise.\n",
    "\n",
    "Example 1:\n",
    "\n",
    "Input: flowerbed = [1,0,0,0,1], n = 1\n",
    "\n",
    "Output: true"
   ]
  },
  {
   "cell_type": "code",
   "execution_count": 15,
   "id": "a34fe9eb",
   "metadata": {},
   "outputs": [
    {
     "name": "stdout",
     "output_type": "stream",
     "text": [
      "[1,0,0,0,1]\n",
      "1\n",
      "True\n"
     ]
    }
   ],
   "source": [
    "class Solution:\n",
    "  def canPlaceFlowers(self, flowerbed: List[int], n: int) -> bool:\n",
    "    for i, flower in enumerate(flowerbed):\n",
    "      if flower == 0 and (i == 0 or flowerbed[i - 1] == 0) and (i == len(flowerbed) - 1 or flowerbed[i + 1] == 0):\n",
    "        flowerbed[i] = 1\n",
    "        n -= 1\n",
    "      if n <= 0:\n",
    "        return True\n",
    "\n",
    "    return False\n",
    "\n",
    "if __name__ == '__main__':\n",
    "    flowerbed = eval(input())\n",
    "    n = int(input())\n",
    "    s = Solution()\n",
    "    print(s.canPlaceFlowers(flowerbed, n))"
   ]
  },
  {
   "cell_type": "markdown",
   "id": "7508c5c1",
   "metadata": {},
   "source": [
    "TC: O(n)\n",
    "SC: O(1)"
   ]
  },
  {
   "cell_type": "markdown",
   "id": "09073bb8",
   "metadata": {},
   "source": [
    "**Question 5**\n",
    "\n",
    "Given an integer array nums, find three numbers whose product is maximum and return the maximum product.\n",
    "\n",
    "Example 1:\n",
    "\n",
    "Input: nums = [1,2,3]\n",
    "\n",
    "Output: 6"
   ]
  },
  {
   "cell_type": "code",
   "execution_count": null,
   "id": "7c3cac06",
   "metadata": {},
   "outputs": [],
   "source": [
    "import sys\n",
    "\n",
    "def maxProduct(arr, n):\n",
    "\n",
    "    if n < 3:\n",
    "        return -1\n",
    "\n",
    "    max_product = -(sys.maxsize - 1)\n",
    "\n",
    "    for i in range(0, n - 2):\n",
    "        for j in range(i + 1, n - 1):\n",
    "            for k in range(j + 1, n):\n",
    "                max_product = max(max_product, arr[i] * arr[j] * arr[k])\n",
    "\n",
    "    return max_product\n",
    "\n",
    "arr = [10, 3, 5, 6, 20]\n",
    "n = len(arr)\n",
    "\n",
    "max = maxProduct(arr, n)\n",
    "\n",
    "if max == -1:\n",
    "    print(\"No Triplet Exits\")\n",
    "else:\n",
    "    print(\"Maximum product is\", max)"
   ]
  },
  {
   "cell_type": "markdown",
   "id": "fcaa5398",
   "metadata": {},
   "source": [
    "TC: O(n^3)  SC: O(1)"
   ]
  },
  {
   "cell_type": "markdown",
   "id": "c1a495d5",
   "metadata": {},
   "source": [
    "**Question 6**\n",
    "\n",
    "Given an array of integers nums which is sorted in ascending order, and an integer target,\n",
    "write a function to search target in nums. If target exists, then return its index. Otherwise,\n",
    "return -1.\n",
    "\n",
    "You must write an algorithm with O(log n) runtime complexity.\n",
    "\n",
    "Input: nums = [-1,0,3,5,9,12], target = 9\n",
    "\n",
    "Output: 4\n",
    "\n",
    "Explanation: 9 exists in nums and its index is 4"
   ]
  },
  {
   "cell_type": "code",
   "execution_count": 43,
   "id": "5be25a70",
   "metadata": {},
   "outputs": [
    {
     "name": "stdout",
     "output_type": "stream",
     "text": [
      "[-1,0,3,5,9,12]\n",
      "9\n",
      "4\n"
     ]
    }
   ],
   "source": [
    "class Solution:\n",
    "    def search(self, nums: List[int], target: int) -> int:\n",
    "        l = 0\n",
    "        r = len(nums)-1\n",
    " \n",
    "        while l<=r:\n",
    "            m = l + (r-l)//2\n",
    "            if nums[m]>target:\n",
    "                r=m-1\n",
    "            elif nums[m]<target:\n",
    "                l=m+1\n",
    "            else:\n",
    "                return m\n",
    "        return -1\n",
    "    \n",
    "if __name__ == '__main__':\n",
    "    nums = eval(input())\n",
    "    target = int(input())\n",
    "    s = Solution()\n",
    "    print(s.search(nums, target))"
   ]
  },
  {
   "cell_type": "markdown",
   "id": "e2d44fcc",
   "metadata": {},
   "source": [
    "TC: O(n^2)\n",
    "SC: O(1)"
   ]
  },
  {
   "cell_type": "markdown",
   "id": "92d5c986",
   "metadata": {},
   "source": [
    "**Question 7**\n",
    "\n",
    "An array is monotonic if it is either monotone increasing or monotone decreasing.\n",
    "\n",
    "An array nums is monotone increasing if for all i <= j, nums[i] <= nums[j]. An array nums is\n",
    "monotone decreasing if for all i <= j, nums[i] >= nums[j].\n",
    "\n",
    "Given an integer array nums, return true if the given array is monotonic, or false otherwise.\n",
    "\n",
    "Example 1:\n",
    "\n",
    "Input: nums = [1,2,2,3]\n",
    "\n",
    "Output: true"
   ]
  },
  {
   "cell_type": "code",
   "execution_count": 45,
   "id": "86f599e4",
   "metadata": {},
   "outputs": [
    {
     "name": "stdout",
     "output_type": "stream",
     "text": [
      "[1,2,2,3]\n",
      "True\n"
     ]
    }
   ],
   "source": [
    "def isMonotonic(nums):\n",
    "   return (all(nums[i] <= nums[i + 1] for i in range(len(nums) - 1)) or\n",
    "      all(nums[i] >= nums[i + 1] for i in range(len(nums) - 1)))\n",
    "\n",
    "\n",
    "if __name__ == '__main__':\n",
    "    nums = eval(input())\n",
    "    print(isMonotonic(nums))"
   ]
  },
  {
   "cell_type": "markdown",
   "id": "a304cd87",
   "metadata": {},
   "source": [
    "TC: O(n^2)\n",
    "SC: O(1)"
   ]
  },
  {
   "cell_type": "markdown",
   "id": "03b767d3",
   "metadata": {},
   "source": [
    "**Question 8**\n",
    "\n",
    "You are given an integer array nums and an integer k.\n",
    "\n",
    "In one operation, you can choose any index i where 0 <= i < nums.length and change nums[i] to nums[i] + x where x is an integer from the range [-k, k]. You can apply this operation at most once for each index i.\n",
    "\n",
    "The score of nums is the difference between the maximum and minimum elements in nums.\n",
    "\n",
    "Return the minimum score of nums after applying the mentioned operation at most once for each index in it.\n",
    "\n",
    "Example 1:\n",
    "\n",
    "Input: nums = [1], k = 0\n",
    "\n",
    "Output: 0\n",
    "\n",
    "Explanation: The score is max(nums) - min(nums) = 1 - 1 = 0."
   ]
  },
  {
   "cell_type": "code",
   "execution_count": null,
   "id": "b6e7a36e",
   "metadata": {},
   "outputs": [],
   "source": [
    "class Solution:\n",
    "  def smallestRangeI(self, nums: List[int], k: int) -> int:\n",
    "    return max(0, max(nums) - min(nums) - 2 * k)\n",
    "\n",
    "\n",
    "if __name__ == '__main__':\n",
    "    nums = eval(input())\n",
    "    k = int(input())\n",
    "    s = Solution()\n",
    "    print(s.smallestRangeI(nums, k))"
   ]
  },
  {
   "cell_type": "markdown",
   "id": "5fd884d6",
   "metadata": {},
   "source": [
    "TC: O(n)\n",
    "SC: O(n)"
   ]
  },
  {
   "cell_type": "code",
   "execution_count": null,
   "id": "12364ea2",
   "metadata": {},
   "outputs": [],
   "source": []
  }
 ],
 "metadata": {
  "kernelspec": {
   "display_name": "Python 3 (ipykernel)",
   "language": "python",
   "name": "python3"
  },
  "language_info": {
   "codemirror_mode": {
    "name": "ipython",
    "version": 3
   },
   "file_extension": ".py",
   "mimetype": "text/x-python",
   "name": "python",
   "nbconvert_exporter": "python",
   "pygments_lexer": "ipython3",
   "version": "3.8.0"
  }
 },
 "nbformat": 4,
 "nbformat_minor": 5
}
