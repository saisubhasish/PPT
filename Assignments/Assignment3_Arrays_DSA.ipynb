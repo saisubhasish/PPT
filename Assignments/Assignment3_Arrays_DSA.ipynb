{
 "cells": [
  {
   "cell_type": "markdown",
   "id": "a36d55df",
   "metadata": {},
   "source": [
    "**Question 1**\n",
    "\n",
    "Given an integer array nums of length n and an integer target, find three integers\n",
    "in nums such that the sum is closest to the target.\n",
    "Return the sum of the three integers.\n",
    "\n",
    "You may assume that each input would have exactly one solution.\n",
    "\n",
    "Example 1:\n",
    "\n",
    "Input: nums = [-1,2,1,-4], target = 1\n",
    "\n",
    "Output: 2\n",
    "\n",
    "Explanation: The sum that is closest to the target is 2. (-1 + 2 + 1 = 2)."
   ]
  },
  {
   "cell_type": "code",
   "execution_count": 10,
   "id": "54091423",
   "metadata": {},
   "outputs": [
    {
     "name": "stdout",
     "output_type": "stream",
     "text": [
      "2\n"
     ]
    }
   ],
   "source": [
    "# Naive recursive function\n",
    "def find_close_triplet(arr, n, x, count, sum, ind, ans, minm):\n",
    "    # Return on reaching to the end of array\n",
    "    # Here if we picked three element till now then check\n",
    "    # that sum is closest to our \"x\" or not\n",
    "    \n",
    "    \n",
    "    if ind == n:\n",
    "        if count == 3:\n",
    "            if abs(x - sum) < minm[0]:\n",
    "                minm[0] = abs(x - sum)\n",
    "                ans[0] = sum\n",
    "        return\n",
    "\n",
    "    # Pick this number\n",
    "    find_close_triplet(arr, n, x, count + 1, sum + arr[ind], ind + 1, ans, minm)\n",
    "\n",
    "    # Don't pick this number\n",
    "    find_close_triplet(arr, n, x, count, sum, ind + 1, ans, minm)\n",
    "\n",
    "\n",
    "if __name__ == \"__main__\":\n",
    "    #Input array\n",
    "    arr = [-1, 2, 1, -4]\n",
    "    x = 1\n",
    "    n = len(arr)\n",
    "    minm = [float('inf')]\n",
    "    ans = [0]\n",
    "    # Function Call\n",
    "    find_close_triplet(arr, n, x, 0, 0, 0, ans, minm)\n",
    "    print(ans[0])"
   ]
  },
  {
   "cell_type": "markdown",
   "id": "32e97271",
   "metadata": {},
   "source": [
    "Time complexity: O(2n),because of Recursion\n",
    "\n",
    "Auxiliary Space: O(n),Recursion stack space"
   ]
  },
  {
   "cell_type": "markdown",
   "id": "d644e3d3",
   "metadata": {},
   "source": [
    "**Question 2**\n",
    "\n",
    "Given an array nums of n integers, return an array of all the unique quadruplets\n",
    "[nums[a], nums[b], nums[c], nums[d]] such that:\n",
    "\n",
    "           ● 0 <= a, b, c, d < n\n",
    "           ● a, b, c, and d are distinct.\n",
    "           ● nums[a] + nums[b] + nums[c] + nums[d] == target\n",
    "\n",
    "You may return the answer in any order.\n",
    "\n",
    "Example 1:\n",
    "\n",
    "Input: nums = [1,0,-1,0,-2,2], target = 0\n",
    "\n",
    "Output: [[-2,-1,1,2],[-2,0,0,2],[-1,0,0,1]]"
   ]
  },
  {
   "cell_type": "code",
   "execution_count": 11,
   "id": "b8f3cc24",
   "metadata": {},
   "outputs": [
    {
     "name": "stdout",
     "output_type": "stream",
     "text": [
      "(-2, 0, 0, 2)\n",
      "(-1, 0, 0, 1)\n",
      "(-2, -1, 1, 2)\n"
     ]
    }
   ],
   "source": [
    "# Store the pair of indices\n",
    "class Pair:\n",
    "    def __init__(self, x, y):\n",
    "        self.index1 = x\n",
    "        self.index2 = y\n",
    "\n",
    "# Function to find the all the unique quadruplets\n",
    "# with the elements at different indices\n",
    "def GetQuadruplets(nums, target):\n",
    "    # Store the sum mapped to a list of pair indices\n",
    "    map = {}\n",
    "\n",
    "    # Generate all possible pairs for the map\n",
    "    for i in range(len(nums) - 1):\n",
    "        for j in range(i + 1, len(nums)):\n",
    "            # Find the sum of pairs of elements\n",
    "            sum = nums[i] + nums[j]\n",
    "\n",
    "            # If the sum doesn't exist then update with the new pairs\n",
    "            if sum not in map:\n",
    "                map[sum] = [Pair(i, j)]\n",
    "            # Otherwise, add the new pair of indices to the current sum\n",
    "            else:\n",
    "                map[sum].append(Pair(i, j))\n",
    "\n",
    "    # Store all the Quadruplets\n",
    "    ans = set()\n",
    "\n",
    "    for i in range(len(nums) - 1):\n",
    "        for j in range(i + 1, len(nums)):\n",
    "            lookUp = target - (nums[i] + nums[j])\n",
    "\n",
    "            # If the sum with value (K - sum) exists\n",
    "            if lookUp in map:\n",
    "                # Get the pair of indices of sum\n",
    "                temp = map[lookUp]\n",
    "\n",
    "                for pair in temp:\n",
    "                    # Check if i, j, k and l are distinct or not\n",
    "                    if pair.index1 != i and pair.index1 != j and pair.index2 != i and pair.index2 != j:\n",
    "                        l1 = [nums[pair.index1], nums[pair.index2], nums[i], nums[j]]\n",
    "\n",
    "                        # Sort the list to avoid duplicacy\n",
    "                        l1.sort()\n",
    "\n",
    "                        # Update the set\n",
    "                        ans.add(tuple(l1))\n",
    "\n",
    "    # Print all the Quadruplets\n",
    "    print(*reversed(list(ans)), sep = '\\n')\n",
    "\n",
    "# Driver Code\n",
    "arr = [1, 0, -1, 0, -2, 2]\n",
    "K = 0\n",
    "GetQuadruplets(arr, K)"
   ]
  },
  {
   "cell_type": "markdown",
   "id": "8b89fbda",
   "metadata": {},
   "source": [
    "Time Complexity: O(N2 * log N)\n",
    "    \n",
    "Auxiliary Space: O(N2)    "
   ]
  },
  {
   "cell_type": "markdown",
   "id": "8a32abe6",
   "metadata": {},
   "source": [
    "**Question 3**\n",
    "\n",
    "A permutation of an array of integers is an arrangement of its members into a\n",
    "sequence or linear order.\n",
    "\n",
    "For example, for arr = [1,2,3], the following are all the permutations of arr:\n",
    "[1,2,3], [1,3,2], [2, 1, 3], [2, 3, 1], [3,1,2], [3,2,1].\n",
    "\n",
    "The next permutation of an array of integers is the next lexicographically greater\n",
    "permutation of its integer. More formally, if all the permutations of the array are\n",
    "sorted in one container according to their lexicographical order, then the next\n",
    "permutation of that array is the permutation that follows it in the sorted container.\n",
    "\n",
    "If such an arrangement is not possible, the array must be rearranged as the\n",
    "lowest possible order (i.e., sorted in ascending order).\n",
    "\n",
    "    ● For example, the next permutation of arr = [1,2,3] is [1,3,2].\n",
    "    ● Similarly, the next permutation of arr = [2,3,1] is [3,1,2].\n",
    "    ● While the next permutation of arr = [3,2,1] is [1,2,3] because [3,2,1] does not have a lexicographical larger rearrangement.\n",
    "\n",
    "Given an array of integers nums, find the next permutation of nums.\n",
    "The replacement must be in place and use only constant extra memory.\n",
    "\n",
    "**Example 1:**\n",
    "\n",
    "Input: nums = [1,2,3]\n",
    "\n",
    "Output: [1,3,2]"
   ]
  },
  {
   "cell_type": "code",
   "execution_count": 12,
   "id": "3f35c639",
   "metadata": {},
   "outputs": [
    {
     "name": "stdout",
     "output_type": "stream",
     "text": [
      "1 2 4 3 5 6 "
     ]
    }
   ],
   "source": [
    "def swapPositions(list, pos1, pos2):\n",
    "    list[pos1], list[pos2] = list[pos2], list[pos1]\n",
    "    return list\n",
    "\n",
    "# Function to find the next permutation\n",
    "def nextPermutation(arr):\n",
    "    n = len(arr)\n",
    "    i = 0\n",
    "    j = 0\n",
    "    \n",
    "    # Find for the pivot element.\n",
    "    # A pivot is the first element from\n",
    "    # end of sequencewhich doesn't follow\n",
    "    # property of non-increasing suffix\n",
    "    for i in range(n-2, -1, -1):\n",
    "        if (arr[i] < arr[i + 1]):\n",
    "            break\n",
    "\n",
    "    # Check if pivot is not found\n",
    "    if (i < 0):\n",
    "        arr.reverse()\n",
    "\n",
    "    # if pivot is found\n",
    "    else:\n",
    "        # Find for the successor of pivot in suffix\n",
    "        for j in range(n-1, i, -1):\n",
    "            if (arr[j] > arr[i]):\n",
    "                break\n",
    "\n",
    "        # Swap the pivot and successor\n",
    "        swapPositions(arr, i, j)\n",
    "\n",
    "        # Minimise the suffix part\n",
    "        # initializing range\n",
    "        strt, end = i+1, len(arr)\n",
    "\n",
    "        # Third arg. of split with -1 performs reverse\n",
    "        arr[strt:end] = arr[strt:end][::-1]\n",
    "\n",
    "if __name__ == \"__main__\":\n",
    "    arr = [1, 2, 3, 6, 5, 4]\n",
    "\n",
    "    # Function call\n",
    "    nextPermutation(arr)\n",
    "    \n",
    "    # Printing the answer\n",
    "    for i in arr:\n",
    "        print(i, end=\" \")"
   ]
  },
  {
   "cell_type": "markdown",
   "id": "2fda5d55",
   "metadata": {},
   "source": [
    "TC: O(n)\n",
    "    \n",
    "SC: O(1)"
   ]
  },
  {
   "cell_type": "markdown",
   "id": "0b87ba06",
   "metadata": {},
   "source": [
    "**Question 4**\n",
    "\n",
    "Given a sorted array of distinct integers and a target value, return the index if the\n",
    "target is found. If not, return the index where it would be if it were inserted in\n",
    "order.\n",
    "\n",
    "You must write an algorithm with O(log n) runtime complexity.\n",
    "\n",
    "Example 1:\n",
    "\n",
    "Input: nums = [1,3,5,6], target = 5\n",
    "\n",
    "Output: 2"
   ]
  },
  {
   "cell_type": "code",
   "execution_count": 4,
   "id": "6850d04a",
   "metadata": {},
   "outputs": [
    {
     "name": "stdout",
     "output_type": "stream",
     "text": [
      "1\n"
     ]
    }
   ],
   "source": [
    "def searchTarget(nums, target):\n",
    "    l = len(nums)\n",
    "    r = 0\n",
    "    while r < l:\n",
    "        m = (l+r)//2\n",
    "        if nums[m] == target:\n",
    "            return m\n",
    "        elif nums[m] < target:\n",
    "            r = m + 1\n",
    "        else:\n",
    "            l = m\n",
    "    return r\n",
    "        \n",
    "nums = [1,3,5,6]\n",
    "target = 2\n",
    "print(searchTarget(nums, target))"
   ]
  },
  {
   "cell_type": "markdown",
   "id": "8a07442b",
   "metadata": {},
   "source": [
    "TC: O(nlogn)\n",
    "    \n",
    "SC: O(1)"
   ]
  },
  {
   "cell_type": "markdown",
   "id": "6c343546",
   "metadata": {},
   "source": [
    "**Question 5**\n",
    "\n",
    "You are given a large integer represented as an integer array digits, where each\n",
    "digits[i] is the ith digit of the integer. The digits are ordered from most significant\n",
    "to least significant in left-to-right order. The large integer does not contain any\n",
    "leading 0's.\n",
    "\n",
    "Increment the large integer by one and return the resulting array of digits.\n",
    "\n",
    "**Example 1:**\n",
    "\n",
    "    Input: digits = [1,2,3]\n",
    "    \n",
    "    Output: [1,2,4]\n",
    "\n",
    "**Explanation:** The array represents the integer 123.\n",
    "\n",
    "    Incrementing by one gives 123 + 1 = 124.\n",
    "\n",
    "    Thus, the result should be [1,2,4].\n"
   ]
  },
  {
   "cell_type": "code",
   "execution_count": 14,
   "id": "d8e73c93",
   "metadata": {},
   "outputs": [
    {
     "data": {
      "text/plain": [
       "[1, 2, 4]"
      ]
     },
     "execution_count": 14,
     "metadata": {},
     "output_type": "execute_result"
    }
   ],
   "source": [
    "def plusOne(digits):\n",
    "    n = len(digits) \n",
    "    for i in range(n-1, -1, -1):\n",
    "        digits[i] += 1\n",
    "        digits[i] %= 10\n",
    "        if digits[i] != 0:\n",
    "            return digits\n",
    "        \n",
    "    return [1]+digits\n",
    "\n",
    "digits = [1,2,3]\n",
    "plusOne(digits)"
   ]
  },
  {
   "cell_type": "markdown",
   "id": "91b19ea9",
   "metadata": {},
   "source": [
    "TC: O(n)\n",
    "    \n",
    "SC: O(1)"
   ]
  },
  {
   "cell_type": "markdown",
   "id": "de114941",
   "metadata": {},
   "source": [
    "**Question 6**\n",
    "\n",
    "Given a non-empty array of integers nums, every element appears twice except\n",
    "for one. Find that single one.\n",
    "\n",
    "You must implement a solution with a linear runtime complexity and use only\n",
    "constant extra space.\n",
    "\n",
    "Example 1:\n",
    "\n",
    "Input: nums = [2,2,1]\n",
    "\n",
    "Output: 1"
   ]
  },
  {
   "cell_type": "code",
   "execution_count": 25,
   "id": "ea8eb433",
   "metadata": {},
   "outputs": [
    {
     "data": {
      "text/plain": [
       "3"
      ]
     },
     "execution_count": 25,
     "metadata": {},
     "output_type": "execute_result"
    }
   ],
   "source": [
    "class Solution:\n",
    "    def singleNumber(self, nums: List[int]) -> int:\n",
    "        # Subtracting the twice sum of unique elements and sum of exist elements\n",
    "        return sum(set(nums)) * 2 - sum(nums)\n",
    "    \n",
    "s = Solution()\n",
    "nums = [2,2,3]\n",
    "s.singleNumber(nums)"
   ]
  },
  {
   "cell_type": "markdown",
   "id": "fbd24169",
   "metadata": {},
   "source": [
    "TC: O(n)\n",
    "    \n",
    "SC: O(n)"
   ]
  },
  {
   "cell_type": "markdown",
   "id": "70ca3491",
   "metadata": {},
   "source": [
    "**Question 7**\n",
    "\n",
    "You are given an inclusive range [lower, upper] and a sorted unique integer array\n",
    "nums, where all elements are within the inclusive range.\n",
    "\n",
    "A number x is considered missing if x is in the range [lower, upper] and x is not in\n",
    "nums.\n",
    "\n",
    "Return the shortest sorted list of ranges that exactly covers all the missing\n",
    "numbers. That is, no element of nums is included in any of the ranges, and each\n",
    "missing number is covered by one of the ranges.\n",
    "\n",
    "Example 1:\n",
    "Input: nums = [0,1,3,50,75], lower = 0, upper = 99\n",
    "\n",
    "Output: [[2,2],[4,49],[51,74],[76,99]]\n",
    "\n",
    "Explanation: The ranges are:\n",
    "\n",
    "[2,2]\n",
    "\n",
    "[4,49]\n",
    "\n",
    "[51,74]\n",
    "\n",
    "[76,99]"
   ]
  },
  {
   "cell_type": "code",
   "execution_count": 39,
   "id": "a03e6478",
   "metadata": {},
   "outputs": [
    {
     "name": "stdout",
     "output_type": "stream",
     "text": [
      "[[0], [2], [4, 49], [51, 74], [76, 99]]\n"
     ]
    }
   ],
   "source": [
    "def findMissingRanges(nums, lower, upper):\n",
    "    missing_ranges = []\n",
    "    start = lower\n",
    "\n",
    "    # Helper function to add range to the result\n",
    "    def addRange(start, end):\n",
    "        if start == end:\n",
    "            missing_ranges.append(str(start))\n",
    "        else:\n",
    "            missing_ranges.append(str(start) + \"->\" + str(end))\n",
    "\n",
    "    # Iterate through nums and find missing ranges\n",
    "    for num in nums:\n",
    "        if num > start:\n",
    "            addRange(start, num - 1)\n",
    "            start = num + 1\n",
    "\n",
    "    # Check if there are any missing numbers after the last element in nums\n",
    "    if start <= upper:\n",
    "        addRange(start, upper)\n",
    "\n",
    "    # Convert the result to the required format of list of lists\n",
    "    return [list(map(int, range_str.split(\"->\"))) for range_str in missing_ranges]\n",
    "\n",
    "if __name__ == '__main__':\n",
    "    nums = [0, 1, 3, 50, 75]\n",
    "    lower = 0\n",
    "    upper = 99\n",
    "\n",
    "    print(findMissingRanges(nums, lower, upper))"
   ]
  },
  {
   "cell_type": "markdown",
   "id": "320614fb",
   "metadata": {},
   "source": [
    "TC: O(n*(high-low+1))\n",
    "    \n",
    "SC: O()"
   ]
  },
  {
   "cell_type": "markdown",
   "id": "af6d5e61",
   "metadata": {},
   "source": [
    "**Question 8**\n",
    "\n",
    "Given an array of meeting time intervals where intervals[i] = [starti, endi],\n",
    "determine if a person could attend all meetings.\n",
    "\n",
    "Example 1:\n",
    "\n",
    "Input: intervals = [[0,30],[5,10],[15,20]]\n",
    "\n",
    "Output: false"
   ]
  },
  {
   "cell_type": "code",
   "execution_count": 43,
   "id": "b0b7f124",
   "metadata": {},
   "outputs": [
    {
     "name": "stdout",
     "output_type": "stream",
     "text": [
      "False\n"
     ]
    }
   ],
   "source": [
    "def canAttendMeetings(intervals: List[List[int]]) -> bool:\n",
    "        new_intervals = sorted(intervals, key=lambda x: x[0])\n",
    "        for i in range(1,len(new_intervals)):\n",
    "            if new_intervals[i-1][1] > new_intervals[i][0]:return False\n",
    "        return True\n",
    "\n",
    "if __name__ == '__main__':\n",
    "    intervals = [[0,30],[5,10],[15,20]]\n",
    "\n",
    "    print(canAttendMeetings(intervals))"
   ]
  },
  {
   "cell_type": "markdown",
   "id": "f9dadee7",
   "metadata": {},
   "source": [
    "Time Complexity: O(nlogn).\n",
    "    \n",
    "Space Complexity: O(1)."
   ]
  },
  {
   "cell_type": "code",
   "execution_count": null,
   "id": "190b8dd3",
   "metadata": {},
   "outputs": [],
   "source": []
  }
 ],
 "metadata": {
  "kernelspec": {
   "display_name": "Python 3 (ipykernel)",
   "language": "python",
   "name": "python3"
  },
  "language_info": {
   "codemirror_mode": {
    "name": "ipython",
    "version": 3
   },
   "file_extension": ".py",
   "mimetype": "text/x-python",
   "name": "python",
   "nbconvert_exporter": "python",
   "pygments_lexer": "ipython3",
   "version": "3.9.13"
  }
 },
 "nbformat": 4,
 "nbformat_minor": 5
}
