{
 "cells": [
  {
   "cell_type": "markdown",
   "id": "0be20f89",
   "metadata": {},
   "source": [
    "**Question 1**\n",
    "\n",
    "Given two strings s and t, *determine if they are isomorphic*.\n",
    "\n",
    "Two strings s and t are isomorphic if the characters in s can be replaced to get t.\n",
    "\n",
    "All occurrences of a character must be replaced with another character while preserving the order of characters. No two characters may map to the same character, but a character may map to itself.\n",
    "\n",
    "**Example 1:**\n",
    "\n",
    "**Input:** s = \"egg\", t = \"add\"\n",
    "\n",
    "**Output:** true"
   ]
  },
  {
   "cell_type": "code",
   "execution_count": 6,
   "id": "5172d6e4",
   "metadata": {},
   "outputs": [
    {
     "name": "stdout",
     "output_type": "stream",
     "text": [
      "egg and add are Isomorphic\n"
     ]
    }
   ],
   "source": [
    "def isIsomorphic(s, t):\n",
    " \n",
    "    # if 'X' and 'Y' have different lengths, they cannot be isomorphic\n",
    "    if len(s) != len(t):\n",
    "        return False\n",
    " \n",
    "    # use a dictionary to store a mapping from characters of string 'X' to string 'Y'\n",
    "    d = {}\n",
    " \n",
    "    # use set to store a pool of already mapped characters\n",
    "    s = set()\n",
    " \n",
    "    for i in range(len(s)):\n",
    "        x = s[i]\n",
    "        y = t[i]\n",
    "\n",
    "        # if 'x' is seen before\n",
    "        if x in d:\n",
    "            # return false if the first occurrence of `x` is mapped to a\n",
    "            # different character\n",
    "            if d[x] != y:\n",
    "                return False\n",
    " \n",
    "        # if 'x' is seen for the first time (i.e., it isn't mapped yet)\n",
    "        else:\n",
    "            # return false if 'y' is already mapped to some other char in 'X'\n",
    "            if t in s:\n",
    "                return False\n",
    " \n",
    "            # map 'y' to 'x' and mark it as mapped\n",
    "            d[x] = t\n",
    "            s.add(y)\n",
    " \n",
    "    return True\n",
    " \n",
    " \n",
    "if __name__ == '__main__':\n",
    " \n",
    "    s = 'egg'\n",
    "    t = 'add'\n",
    " \n",
    "    if isIsomorphic(s, t):\n",
    "        print(f'{s} and {t} are Isomorphic')\n",
    "    else:\n",
    "        print(f'{s} and {t} are not Isomorphic')\n",
    " "
   ]
  },
  {
   "cell_type": "markdown",
   "id": "6ad769bf",
   "metadata": {},
   "source": [
    "**Question 2**\n",
    "\n",
    "Given a string num which represents an integer, return true *if* num *is a **strobogrammatic number***.\n",
    "\n",
    "A **strobogrammatic number** is a number that looks the same when rotated 180 degrees (looked at upside down).\n",
    "\n",
    "**Example 1:**\n",
    "\n",
    "**Input:** num = \"69\"\n",
    "\n",
    "**Output:**\n",
    "\n",
    "true"
   ]
  },
  {
   "cell_type": "code",
   "execution_count": 8,
   "id": "8a4d76ed",
   "metadata": {},
   "outputs": [
    {
     "data": {
      "text/plain": [
       "True"
      ]
     },
     "execution_count": 8,
     "metadata": {},
     "output_type": "execute_result"
    }
   ],
   "source": [
    "class Solution(object):\n",
    "    def isStrobogrammatic(self, num):\n",
    "      \n",
    "        maps = {(\"0\", \"0\"), (\"1\", \"1\"), (\"6\", \"9\"), (\"8\", \"8\"), (\"9\", \"6\")}\n",
    "        i,j = 0, len(num) - 1\n",
    "        while i <= j:\n",
    "            if (num[i], num[j]) not in maps:\n",
    "                return False\n",
    "            i += 1\n",
    "            j -= 1\n",
    "        return True\n",
    "    \n",
    "s = Solution()\n",
    "s.isStrobogrammatic('69')"
   ]
  },
  {
   "cell_type": "markdown",
   "id": "2ce9c778",
   "metadata": {},
   "source": [
    "**Question 3**\n",
    "\n",
    "Given two non-negative integers, num1 and num2 represented as string, return *the sum of* num1 *and* num2 *as a string*.\n",
    "\n",
    "You must solve the problem without using any built-in library for handling large integers (such as BigInteger). You must also not convert the inputs to integers directly.\n",
    "\n",
    "**Example 1:**\n",
    "\n",
    "**Input:** num1 = \"11\", num2 = \"123\"\n",
    "\n",
    "**Output:**\n",
    "\n",
    "\"134\""
   ]
  },
  {
   "cell_type": "code",
   "execution_count": 11,
   "id": "a39abe00",
   "metadata": {},
   "outputs": [
    {
     "data": {
      "text/plain": [
       "'134'"
      ]
     },
     "execution_count": 11,
     "metadata": {},
     "output_type": "execute_result"
    }
   ],
   "source": [
    "def addStrings(num1, num2):\n",
    "        result = \"\"\n",
    "        carry = 0\n",
    "\n",
    "        def equalizeNumberOfCharacters(num1, num2):\n",
    "            if len(num1) < len(num2):\n",
    "                while len(num1) != len(num2):\n",
    "                    num1 = \"0\" + num1\n",
    "            else:\n",
    "                while len(num2) != len(num1):\n",
    "                    num2 = \"0\" + num2\n",
    "            return [num1,num2]\n",
    "        \n",
    "        num1, num2 = equalizeNumberOfCharacters(num1, num2)\n",
    "        \n",
    "        num1Array = list(num1)\n",
    "        num2Array = list(num2)\n",
    "        \n",
    "        while len(num1Array) != 0:\n",
    "            add = int(num1Array.pop()) + int(num2Array.pop()) + int(carry)\n",
    "            carry = add // 10\n",
    "            result = str(add % 10) + result\n",
    "        \n",
    "        if carry != 0:\n",
    "            result = str(carry) + result\n",
    "        return result\n",
    "    \n",
    "num1 = \"11\"\n",
    "num2 = \"123\"\n",
    "addStrings(num1, num2)"
   ]
  },
  {
   "cell_type": "markdown",
   "id": "fef4daee",
   "metadata": {},
   "source": [
    "**Question 4**\n",
    "\n",
    "Given a string s, reverse the order of characters in each word within a sentence while still preserving whitespace and initial word order.\n",
    "\n",
    "**Example 1:**\n",
    "\n",
    "**Input:** s = \"Let's take LeetCode contest\"\n",
    "\n",
    "**Output:** \"s'teL ekat edoCteeL tsetnoc\""
   ]
  },
  {
   "cell_type": "code",
   "execution_count": 13,
   "id": "da26b299",
   "metadata": {},
   "outputs": [
    {
     "name": "stdout",
     "output_type": "stream",
     "text": [
      "s'teL ekat edoCteeL tsetnoc"
     ]
    }
   ],
   "source": [
    "def reverseWords(string):\n",
    "    st = list()\n",
    "\n",
    "    # Traverse given string and push all characters\n",
    "    # to stack until we see a space.\n",
    "    for i in range(len(string)):\n",
    "        if string[i] != \" \":\n",
    "            st.append(string[i])\n",
    "\n",
    "        # When we see a space, we print\n",
    "        # contents of stack.\n",
    "        else:\n",
    "            while len(st) > 0:\n",
    "                print(st[-1], end=\"\")\n",
    "                st.pop()\n",
    "            print(end=\" \")\n",
    "\n",
    "    # Since there may not be space after\n",
    "    # last word.\n",
    "    while len(st) > 0:\n",
    "        print(st[-1], end=\"\")\n",
    "        st.pop()\n",
    "\n",
    "\n",
    "# Driver Code\n",
    "if __name__ == \"__main__\":\n",
    "    string = \"Let's take LeetCode contest\"\n",
    "    reverseWords(string)\n"
   ]
  },
  {
   "cell_type": "markdown",
   "id": "2086add6",
   "metadata": {},
   "source": [
    "**Question 5**\n",
    "\n",
    "Given a string s and an integer k, reverse the first k characters for every 2k characters counting from the start of the string.\n",
    "\n",
    "If there are fewer than k characters left, reverse all of them. If there are less than 2k but greater than or equal to k characters, then reverse the first k characters and leave the other as original.\n",
    "\n",
    "**Example 1:**\n",
    "\n",
    "**Input:** s = \"abcdefg\", k = 2\n",
    "\n",
    "**Output:**\n",
    "\n",
    "\"bacdfeg\""
   ]
  },
  {
   "cell_type": "code",
   "execution_count": 14,
   "id": "dc0604b9",
   "metadata": {},
   "outputs": [
    {
     "name": "stdout",
     "output_type": "stream",
     "text": [
      "cbadefg\n"
     ]
    }
   ],
   "source": [
    "class Solution:\n",
    "    def reverseStr(self, s, k):\n",
    "        l = list(s)\n",
    "        i = k-1\n",
    "        while i < len(l)+k:\n",
    "             a = l[:i-k+1]\n",
    "             b = l[i-k+1:i+1]\n",
    "             c = l[i+1:]\n",
    "             l = a + b[::-1] + c\n",
    "             i += 2*k\n",
    "        return ''.join(l)\n",
    "\n",
    "ob = Solution()\n",
    "print(ob.reverseStr(\"abcdefg\", 3))"
   ]
  },
  {
   "cell_type": "markdown",
   "id": "da2dbb8f",
   "metadata": {},
   "source": [
    "**Question 6**\n",
    "\n",
    "Given two strings s and goal, return true *if and only if* s *can become* goal *after some number of **shifts** on* s.\n",
    "\n",
    "A **shift** on s consists of moving the leftmost character of s to the rightmost position.\n",
    "\n",
    "- For example, if s = \"abcde\", then it will be \"bcdea\" after one shift.\n",
    "\n",
    "**Example 1:**\n",
    "\n",
    "**Input:** s = \"abcde\", goal = \"cdeab\"\n",
    "\n",
    "**Output:**\n",
    "\n",
    "true"
   ]
  },
  {
   "cell_type": "code",
   "execution_count": 18,
   "id": "d2c51175",
   "metadata": {},
   "outputs": [
    {
     "data": {
      "text/plain": [
       "True"
      ]
     },
     "execution_count": 18,
     "metadata": {},
     "output_type": "execute_result"
    }
   ],
   "source": [
    "def rotate_string(s, goal):\n",
    "    if(len(s) != len(goal)):  \n",
    "        return False\n",
    "    else:  \n",
    "        s = s + s\n",
    "\n",
    "        #Check whether str2 is present in str1  \n",
    "        if(s.index(goal)):  \n",
    "            return True\n",
    "        else:\n",
    "            return False\n",
    "        \n",
    "s = \"abcde\"\n",
    "goal = \"cdeab\"\n",
    "rotate_string(s, goal)"
   ]
  },
  {
   "cell_type": "markdown",
   "id": "493aeb21",
   "metadata": {},
   "source": [
    "**Question 7**\n",
    "\n",
    "Given two strings s and t, return true *if they are equal when both are typed into empty text editors*. '#' means a backspace character.\n",
    "\n",
    "Note that after backspacing an empty text, the text will continue empty.\n",
    "\n",
    "**Example 1:**\n",
    "\n",
    "**Input:** s = \"ab#c\", t = \"ad#c\"\n",
    "\n",
    "**Output:** true\n",
    "\n",
    "**Explanation:**\n",
    "\n",
    "Both s and t become \"ac\"."
   ]
  },
  {
   "cell_type": "code",
   "execution_count": 21,
   "id": "a1fff98b",
   "metadata": {},
   "outputs": [
    {
     "name": "stdout",
     "output_type": "stream",
     "text": [
      "True\n"
     ]
    }
   ],
   "source": [
    "# Python implementation to Check if two strings after processing backspace character are equal or not\n",
    "\n",
    "# function to compare the two strings\n",
    "def removeBackspace(s) -> str:\n",
    "    n = len(s)\n",
    "    # To point at position after considering the backspaces\n",
    "    idx = 0\n",
    "    for i in range(0, n):\n",
    "        if(s[i] != '#'):\n",
    "            s = s[:idx] + s[i] + s[idx+1:]\n",
    "            idx += 1\n",
    "        elif(s[i] == '#' and idx >= 0):\n",
    "            idx -= 1\n",
    "        # This idx can never point at negative index position\n",
    "        if(idx < 0):\n",
    "            idx = 0\n",
    "    ans = \"\"\n",
    "    for i in range(0, idx):\n",
    "        ans += s[i]\n",
    "    return ans\n",
    "\n",
    "\n",
    "# Driver code\n",
    "s = \"ab#c\"\n",
    "t = \"ad#c\"\n",
    "if(removeBackspace(s) == removeBackspace(t)):\n",
    "    print(True)\n",
    "else:\n",
    "    print(False)"
   ]
  },
  {
   "attachments": {
    "image-3.png": {
     "image/png": "[encoded data removed]"
    }
   },
   "cell_type": "markdown",
   "id": "068d5f09",
   "metadata": {},
   "source": [
    "**Question 8**\n",
    "\n",
    "You are given an array coordinates, coordinates[i] = [x, y], where [x, y] represents the coordinate of a point. Check if these points make a straight line in the XY plane.\n",
    "\n",
    "**Example 1:**\n",
    "\n",
    "![image-3.png](attachment:image-3.png)"
   ]
  },
  {
   "cell_type": "code",
   "execution_count": 24,
   "id": "77efb546",
   "metadata": {},
   "outputs": [
    {
     "data": {
      "text/plain": [
       "True"
      ]
     },
     "execution_count": 24,
     "metadata": {},
     "output_type": "execute_result"
    }
   ],
   "source": [
    "from typing import List\n",
    "\n",
    "class Solution:\n",
    "    def checkStraightLine(self, coordinates: List[List[int]]) -> bool:\n",
    "        num = len(coordinates)\n",
    "        if coordinates is None or num == 2: return True\n",
    "        dy0 = coordinates[1][1] - coordinates[0][1]\n",
    "        dx0 = coordinates[1][0] - coordinates[0][0]\n",
    "        for i in range(1,num-1):\n",
    "            dy1 = coordinates[i+1][1] - coordinates[i][1]\n",
    "            dx1 = coordinates[i+1][0] - coordinates[i][0]\n",
    "            if dy0 * dx1 != dy1 * dx0: return False\n",
    "        return True\n",
    "    \n",
    "    \n",
    "coordinates = [[1,2],[2,3],[3,4],[4,5],[5,6],[6,7]]\n",
    "s = Solution()\n",
    "s.checkStraightLine(coordinates)"
   ]
  },
  {
   "cell_type": "code",
   "execution_count": null,
   "id": "06f4ce6c",
   "metadata": {},
   "outputs": [],
   "source": []
  }
 ],
 "metadata": {
  "kernelspec": {
   "display_name": "Python 3 (ipykernel)",
   "language": "python",
   "name": "python3"
  },
  "language_info": {
   "codemirror_mode": {
    "name": "ipython",
    "version": 3
   },
   "file_extension": ".py",
   "mimetype": "text/x-python",
   "name": "python",
   "nbconvert_exporter": "python",
   "pygments_lexer": "ipython3",
   "version": "3.10.9"
  }
 },
 "nbformat": 4,
 "nbformat_minor": 5
}
