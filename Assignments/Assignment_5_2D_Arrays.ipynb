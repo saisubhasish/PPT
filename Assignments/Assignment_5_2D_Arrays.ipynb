{
 "cells": [
  {
   "cell_type": "markdown",
   "id": "0d7686d4",
   "metadata": {},
   "source": [
    "**Question 1**\n",
    "\n",
    "Convert 1D Array Into 2D Array\n",
    "\n",
    "You are given a **0-indexed** 1-dimensional (1D) integer array original, and two integers, m and n. You are tasked with creating a 2-dimensional (2D) array with  m rows and n columns using **all** the elements from original.\n",
    "\n",
    "The elements from indices 0 to n - 1 (**inclusive**) of original should form the first row of the constructed 2D array, the elements from indices n to 2 * n - 1 (**inclusive**) should form the second row of the constructed 2D array, and so on.\n",
    "\n",
    "Return *an* m x n *2D array constructed according to the above procedure, or an empty 2D array if it is impossible*.\n",
    "\n",
    "**Example 1:**\n",
    "\n",
    "**Input:** original = [1,2,3,4], m = 2, n = 2\n",
    "\n",
    "**Output:** [[1,2],[3,4]]\n",
    "\n",
    "**Explanation:** The constructed 2D array should contain 2 rows and 2 columns.\n",
    "\n",
    "The first group of n=2 elements in original, [1,2], becomes the first row in the constructed 2D array.\n",
    "\n",
    "The second group of n=2 elements in original, [3,4], becomes the second row in the constructed 2D array."
   ]
  },
  {
   "cell_type": "code",
   "execution_count": 3,
   "id": "e5b82b77",
   "metadata": {},
   "outputs": [
    {
     "data": {
      "text/plain": [
       "[[1, 2], [3, 4]]"
      ]
     },
     "execution_count": 3,
     "metadata": {},
     "output_type": "execute_result"
    }
   ],
   "source": [
    "def oneDtotwoD(original,m,n):\n",
    "    if m*n != len(original):\n",
    "        return []\n",
    "\n",
    "    ans = []\n",
    "    for i in range(0, m*n, n):\n",
    "        ans.append(original[i:i+n])\n",
    "\n",
    "    return ans\n",
    "\n",
    "original = [1,2,3,4]\n",
    "m = 2\n",
    "n = 2\n",
    "oneDtotwoD(original,m,n)"
   ]
  },
  {
   "cell_type": "markdown",
   "id": "cb8d6335",
   "metadata": {},
   "source": [
    "TC: O(m*n)\n",
    "    \n",
    "SC: O(1)"
   ]
  },
  {
   "cell_type": "markdown",
   "id": "3defc35c",
   "metadata": {},
   "source": [
    "**Question 2**\n",
    "\n",
    "You have n coins and you want to build a staircase with these coins. The staircase consists of k rows where the ith row has exactly i coins. The last row of the staircase **may be** incomplete.\n",
    "\n",
    "Given the integer n, return *the number of **complete rows** of the staircase you will build*.\n",
    "\n",
    "**Input:** n = 5\n",
    "\n",
    "**Output:** 2\n",
    "\n",
    "**Explanation:** Because the 3rd row is incomplete, we return 2."
   ]
  },
  {
   "cell_type": "code",
   "execution_count": 4,
   "id": "e575e1c2",
   "metadata": {},
   "outputs": [
    {
     "data": {
      "text/plain": [
       "2"
      ]
     },
     "execution_count": 4,
     "metadata": {},
     "output_type": "execute_result"
    }
   ],
   "source": [
    "class Solution:\n",
    "    def arrangeCoins(self, n: int) -> int:\n",
    "        if n==1:\n",
    "            return 1\n",
    "        l=0\n",
    "        r=n//2 + 1\n",
    "        while l<=r:\n",
    "            m = l+(r-l)//2\n",
    "            x = (m*(m+1)//2)\n",
    "            if x==n:\n",
    "                return(m)\n",
    "            elif x<n:\n",
    "                l = m+1\n",
    "            else:\n",
    "                r=m-1\n",
    "        return(l-1)\n",
    "    \n",
    "s = Solution()\n",
    "n = 5\n",
    "s.arrangeCoins(n)"
   ]
  },
  {
   "cell_type": "markdown",
   "id": "ee43d86d",
   "metadata": {},
   "source": [
    "TC: O(n)\n",
    "    \n",
    "SC: O(1)"
   ]
  },
  {
   "cell_type": "markdown",
   "id": "ea66f764",
   "metadata": {},
   "source": [
    "**Question 3**\n",
    "\n",
    "Given an integer array nums sorted in **non-decreasing** order, return *an array of **the squares of each number** sorted in non-decreasing order*.\n",
    "\n",
    "**Example 1:**\n",
    "\n",
    "**Input:** nums = [-4,-1,0,3,10]\n",
    "\n",
    "**Output:** [0,1,9,16,100]\n",
    "\n",
    "**Explanation:** After squaring, the array becomes [16,1,0,9,100].\n",
    "\n",
    "After sorting, it becomes [0,1,9,16,100]."
   ]
  },
  {
   "cell_type": "code",
   "execution_count": 6,
   "id": "9a3d56d6",
   "metadata": {},
   "outputs": [
    {
     "name": "stdout",
     "output_type": "stream",
     "text": [
      "Before sort\n",
      "-4 -1 0 3 10 \n",
      "\n",
      "After sort\n",
      "0 1 9 16 100 "
     ]
    }
   ],
   "source": [
    "def sortSquare(arr, n):\n",
    "\n",
    "    # First convert each array\n",
    "    # elements into its square\n",
    "    for i in range(n):\n",
    "        arr[i]= arr[i] * arr[i]\n",
    "    arr.sort()\n",
    "\n",
    "arr = [-4,-1,0,3,10]\n",
    "n = len(arr)\n",
    "\n",
    "print(\"Before sort\")\n",
    "for i in range(n):\n",
    "    print(arr[i], end = \" \")\n",
    "\n",
    "print(\"\\n\")\n",
    "\n",
    "sortSquare(arr, n)\n",
    "\n",
    "print(\"After sort\")\n",
    "for i in range(n):\n",
    "    print(arr[i], end = \" \")"
   ]
  },
  {
   "cell_type": "markdown",
   "id": "83a2ffb8",
   "metadata": {},
   "source": [
    "**Question 4**\n",
    "\n",
    "Given two **0-indexed** integer arrays nums1 and nums2, return *a list* answer *of size* 2 *where:*\n",
    "\n",
    "- answer[0] *is a list of all **distinct** integers in* nums1 *which are **not** present in* nums2*.*\n",
    "- answer[1] *is a list of all **distinct** integers in* nums2 *which are **not** present in* nums1.\n",
    "\n",
    "**Note** that the integers in the lists may be returned in **any** order.\n",
    "\n",
    "**Example 1:**\n",
    "\n",
    "**Input:** nums1 = [1,2,3], nums2 = [2,4,6]\n",
    "\n",
    "**Output:** [[1,3],[4,6]]\n",
    "\n",
    "**Explanation:**\n",
    "\n",
    "For nums1, nums1[1] = 2 is present at index 0 of nums2, whereas nums1[0] = 1 and nums1[2] = 3 are not present in nums2. Therefore, answer[0] = [1,3].\n",
    "\n",
    "For nums2, nums2[0] = 2 is present at index 1 of nums1, whereas nums2[1] = 4 and nums2[2] = 6 are not present in nums2. Therefore, answer[1] = [4,6]."
   ]
  },
  {
   "cell_type": "code",
   "execution_count": 8,
   "id": "b3f4332f",
   "metadata": {},
   "outputs": [
    {
     "data": {
      "text/plain": [
       "[[1, 3], [4, 6]]"
      ]
     },
     "execution_count": 8,
     "metadata": {},
     "output_type": "execute_result"
    }
   ],
   "source": [
    "from typing import List\n",
    "\n",
    "class Solution:\n",
    "    def findDifference(self, nums1: List[int], nums2: List[int]) -> List[List[int]]:\n",
    "        return [list(set(nums1).difference(nums2)), list(set(nums2).difference(nums1))]\n",
    "\n",
    "    \n",
    "s = Solution()\n",
    "nums1 = [1,2,3]\n",
    "nums2 = [2,4,6]\n",
    "s.findDifference(nums1, nums2)"
   ]
  },
  {
   "cell_type": "markdown",
   "id": "59141cc5",
   "metadata": {},
   "source": [
    "TC: O(n)\n",
    "    \n",
    "SC: O(1)"
   ]
  },
  {
   "cell_type": "markdown",
   "id": "eeebcb1a",
   "metadata": {},
   "source": [
    "**Question 5**\n",
    "\n",
    "Given two integer arrays arr1 and arr2, and the integer d, *return the distance value between the two arrays*.\n",
    "\n",
    "The distance value is defined as the number of elements arr1[i] such that there is not any element arr2[j] where |arr1[i]-arr2[j]| <= d.\n",
    "\n",
    "**Example 1:**\n",
    "\n",
    "**Input:** arr1 = [4,5,8], arr2 = [10,9,1,8], d = 2\n",
    "\n",
    "**Output:** 2\n",
    "\n",
    "**Explanation:**\n",
    "\n",
    "For arr1[0]=4 we have:\n",
    "\n",
    "|4-10|=6 > d=2\n",
    "\n",
    "|4-9|=5 > d=2\n",
    "\n",
    "|4-1|=3 > d=2\n",
    "\n",
    "|4-8|=4 > d=2\n",
    "\n",
    "For arr1[1]=5 we have:\n",
    "\n",
    "|5-10|=5 > d=2\n",
    "\n",
    "|5-9|=4 > d=2\n",
    "\n",
    "|5-1|=4 > d=2\n",
    "\n",
    "|5-8|=3 > d=2\n",
    "\n",
    "For arr1[2]=8 we have:\n",
    "\n",
    "**|8-10|=2 <= d=2**\n",
    "\n",
    "**|8-9|=1 <= d=2**\n",
    "\n",
    "|8-1|=7 > d=2\n",
    "\n",
    "**|8-8|=0 <= d=2**\n"
   ]
  },
  {
   "cell_type": "code",
   "execution_count": 10,
   "id": "57786193",
   "metadata": {},
   "outputs": [
    {
     "data": {
      "text/plain": [
       "2"
      ]
     },
     "execution_count": 10,
     "metadata": {},
     "output_type": "execute_result"
    }
   ],
   "source": [
    "class Solution:\n",
    "    def findTheDistanceValue(self, arr1: List[int], arr2: List[int], d: int) -> int:\n",
    "        ctr = 0\n",
    "        for i in arr1:\n",
    "            found = False\n",
    "            for j in arr2:\n",
    "                if abs(i - j) <= d:\n",
    "                    found = True\n",
    "                    break\n",
    "            if not found:\n",
    "                ctr += 1\n",
    "        return ctr\n",
    "    \n",
    "s = Solution()\n",
    "arr1 = [4,5,8]\n",
    "arr2 = [10,9,1,8]\n",
    "d = 2\n",
    "s.findTheDistanceValue(arr1, arr2, d)"
   ]
  },
  {
   "cell_type": "markdown",
   "id": "e3ad2f8d",
   "metadata": {},
   "source": [
    "TC: O(n^2)\n",
    "    \n",
    "SC: O(1)"
   ]
  },
  {
   "cell_type": "markdown",
   "id": "bb6911a1",
   "metadata": {},
   "source": [
    "**Question 6**\n",
    "\n",
    "Given an integer array nums of length n where all the integers of nums are in the range [1, n] and each integer appears **once** or **twice**, return *an array of all the integers that appears **twice***.\n",
    "\n",
    "You must write an algorithm that runs in O(n) time and uses only constant extra space.\n",
    "\n",
    "**Example 1:**\n",
    "\n",
    "**Input:** nums = [4,3,2,7,8,2,3,1]\n",
    "\n",
    "**Output:**\n",
    "\n",
    "[2,3]"
   ]
  },
  {
   "cell_type": "code",
   "execution_count": 18,
   "id": "aa952721",
   "metadata": {},
   "outputs": [
    {
     "data": {
      "text/plain": [
       "[2, 3]"
      ]
     },
     "execution_count": 18,
     "metadata": {},
     "output_type": "execute_result"
    }
   ],
   "source": [
    "def duplicateArray(nums):\n",
    "    hash_map = {}\n",
    "    res = set()\n",
    "    for i,n in enumerate(nums):\n",
    "        if n not in hash_map:\n",
    "            hash_map[n] = 1\n",
    "        else:\n",
    "            hash_map[n]+=1\n",
    "            \n",
    "    for i, n in enumerate(nums):\n",
    "        if hash_map[n]== 2:\n",
    "            res.add(n)\n",
    "    return list(res)\n",
    "\n",
    "nums = [4,3,2,7,8,2,3,1]\n",
    "duplicateArray(nums)"
   ]
  },
  {
   "cell_type": "markdown",
   "id": "34f93276",
   "metadata": {},
   "source": [
    "TC: O(n)\n",
    "    \n",
    "SC: O(1)"
   ]
  },
  {
   "cell_type": "markdown",
   "id": "8dfb47a3",
   "metadata": {},
   "source": [
    "**Question 7**\n",
    "\n",
    "Suppose an array of length n sorted in ascending order is **rotated** between 1 and n times. For example, the array nums = [0,1,2,4,5,6,7] might become:\n",
    "\n",
    "- [4,5,6,7,0,1,2] if it was rotated 4 times.\n",
    "- [0,1,2,4,5,6,7] if it was rotated 7 times.\n",
    "\n",
    "Notice that **rotating** an array [a[0], a[1], a[2], ..., a[n-1]] 1 time results in the array [a[n-1], a[0], a[1], a[2], ..., a[n-2]].\n",
    "\n",
    "Given the sorted rotated array nums of **unique** elements, return *the minimum element of this array*.\n",
    "\n",
    "You must write an algorithm that runs in O(log n) time.\n",
    "\n",
    "**Example 1:**\n",
    "\n",
    "**Input:** nums = [3,4,5,1,2]\n",
    "\n",
    "**Output:** 1\n",
    "\n",
    "**Explanation:**\n",
    "\n",
    "The original array was [1,2,3,4,5] rotated 3 times."
   ]
  },
  {
   "cell_type": "code",
   "execution_count": 19,
   "id": "3cf355b7",
   "metadata": {},
   "outputs": [
    {
     "data": {
      "text/plain": [
       "1"
      ]
     },
     "execution_count": 19,
     "metadata": {},
     "output_type": "execute_result"
    }
   ],
   "source": [
    "class Solution:\n",
    "    def findMin(self, nums: List[int]) -> int:\n",
    "        if nums[0] <= nums[-1]:\n",
    "            return nums[0]\n",
    "        left, right = 0, len(nums) - 1\n",
    "        while left < right:\n",
    "            mid = (left + right) >> 1\n",
    "            if nums[0] <= nums[mid]:\n",
    "                left = mid + 1\n",
    "            else:\n",
    "                right = mid\n",
    "        return nums[left]\n",
    "    \n",
    "s = Solution()\n",
    "nums = [3,4,5,1,2]\n",
    "s.findMin(nums)"
   ]
  },
  {
   "cell_type": "markdown",
   "id": "c87656b7",
   "metadata": {},
   "source": [
    "TC: O(logn)\n",
    "    \n",
    "SC: O(1)"
   ]
  },
  {
   "cell_type": "markdown",
   "id": "f591eefd",
   "metadata": {},
   "source": [
    "**Question 8**\n",
    "\n",
    "An integer array original is transformed into a **doubled** array changed by appending **twice the value** of every element in original, and then randomly **shuffling** the resulting array.\n",
    "\n",
    "Given an array changed, return original *if* changed *is a **doubled** array. If* changed *is not a **doubled** array, return an empty array. The elements in* original *may be returned in **any** order*.\n",
    "\n",
    "**Example 1:**\n",
    "\n",
    "**Input:** changed = [1,3,4,2,6,8]\n",
    "\n",
    "**Output:** [1,3,4]\n",
    "\n",
    "**Explanation:** One possible original array could be [1,3,4]:\n",
    "\n",
    "- Twice the value of 1 is 1 * 2 = 2.\n",
    "- Twice the value of 3 is 3 * 2 = 6.\n",
    "- Twice the value of 4 is 4 * 2 = 8.\n",
    "\n",
    "Other original arrays could be [4,3,1] or [3,1,4]."
   ]
  },
  {
   "cell_type": "code",
   "execution_count": 23,
   "id": "61a7d3c9",
   "metadata": {},
   "outputs": [
    {
     "name": "stdout",
     "output_type": "stream",
     "text": [
      "1 3 4 "
     ]
    }
   ],
   "source": [
    "def findOriginal(arr):\n",
    "\n",
    "    # Stores the numbers and\n",
    "    # their frequency\n",
    "    numFreq = {}\n",
    "\n",
    "    # Add number with their frequencies\n",
    "    # in the hashmap\n",
    "    for i in range(0, len(arr)):\n",
    "        if (arr[i] in numFreq):\n",
    "            numFreq[arr[i]] += 1\n",
    "        else:\n",
    "            numFreq[arr[i]] = 1\n",
    "\n",
    "    # Sort the array\n",
    "    arr.sort()\n",
    "\n",
    "    # Initialize an arraylist\n",
    "    res = []\n",
    "\n",
    "    for i in range(0, len(arr)):\n",
    "\n",
    "        # Get the frequency of the number\n",
    "        freq = numFreq[arr[i]]\n",
    "        if (freq > 0):\n",
    "        \n",
    "            # Element is of original array\n",
    "            res.append(arr[i])\n",
    "\n",
    "            # Decrement the frequency of\n",
    "            # the number\n",
    "            numFreq[arr[i]] -= 1\n",
    "\n",
    "            twice = 2 * arr[i]\n",
    "\n",
    "            # Decrement the frequency of\n",
    "            # the number having double value\n",
    "            numFreq[twice] -= 1\n",
    "\n",
    "    # Return the resultant string\n",
    "    return res\n",
    "\n",
    "\n",
    "arr = [1,3,4,2,6,8]\n",
    "res = findOriginal(arr)\n",
    "\n",
    "# Print the result list\n",
    "for i in range(0, len(res)):\n",
    "    print(res[i], end=\" \")"
   ]
  },
  {
   "cell_type": "markdown",
   "id": "80510dbd",
   "metadata": {},
   "source": [
    "TC: O(nlogn)\n",
    "    \n",
    "SC: O(n)"
   ]
  },
  {
   "cell_type": "code",
   "execution_count": null,
   "id": "4fbc509e",
   "metadata": {},
   "outputs": [],
   "source": []
  }
 ],
 "metadata": {
  "kernelspec": {
   "display_name": "Python 3 (ipykernel)",
   "language": "python",
   "name": "python3"
  },
  "language_info": {
   "codemirror_mode": {
    "name": "ipython",
    "version": 3
   },
   "file_extension": ".py",
   "mimetype": "text/x-python",
   "name": "python",
   "nbconvert_exporter": "python",
   "pygments_lexer": "ipython3",
   "version": "3.8.0"
  }
 },
 "nbformat": 4,
 "nbformat_minor": 5
}
