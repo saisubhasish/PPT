{
 "cells": [
  {
   "cell_type": "markdown",
   "id": "eb0c92a5",
   "metadata": {},
   "source": [
    "# write a function for find out  min and max values  without using min max function"
   ]
  },
  {
   "cell_type": "code",
   "execution_count": 2,
   "id": "cce80ea2",
   "metadata": {},
   "outputs": [
    {
     "name": "stdout",
     "output_type": "stream",
     "text": [
      "[2,3,5,1,6]\n",
      "The minimum value is 1 and the maximum value is 6\n"
     ]
    }
   ],
   "source": [
    "def min_max(lst):\n",
    "    '''\n",
    "    This function finds the minimum and maximum value in a list of elements\n",
    "    '''\n",
    "    min=float('inf')\n",
    "    max=float('-inf')\n",
    "    for i in lst:\n",
    "        if i<min:\n",
    "            min=i\n",
    "        elif i>max:\n",
    "            max=i\n",
    "    print(f\"The minimum value is {min} and the maximum value is {max}\")\n",
    "\n",
    "lst=eval(input())\n",
    "min_max(lst)"
   ]
  },
  {
   "cell_type": "markdown",
   "id": "0f3926df",
   "metadata": {},
   "source": [
    "# Remove the duplicates elements from an array without using any inbuilt functions."
   ]
  },
  {
   "cell_type": "code",
   "execution_count": 7,
   "id": "1c435394",
   "metadata": {},
   "outputs": [
    {
     "name": "stdout",
     "output_type": "stream",
     "text": [
      "[1,2,3,1,2,3]\n"
     ]
    },
    {
     "data": {
      "text/plain": [
       "[1, 2, 3]"
      ]
     },
     "execution_count": 7,
     "metadata": {},
     "output_type": "execute_result"
    }
   ],
   "source": [
    "def remove_duplicates(lst):\n",
    "    '''\n",
    "    This function returns the unique elements from a list of items \n",
    "    '''\n",
    "    res=[]\n",
    "    for i in lst:\n",
    "        if i not in res:\n",
    "            res.append(i)\n",
    "    return res\n",
    "\n",
    "remove_duplicates(lst=eval(input()))"
   ]
  },
  {
   "cell_type": "code",
   "execution_count": null,
   "id": "de7d1fe9",
   "metadata": {},
   "outputs": [],
   "source": []
  }
 ],
 "metadata": {
  "kernelspec": {
   "display_name": "Python 3 (ipykernel)",
   "language": "python",
   "name": "python3"
  },
  "language_info": {
   "codemirror_mode": {
    "name": "ipython",
    "version": 3
   },
   "file_extension": ".py",
   "mimetype": "text/x-python",
   "name": "python",
   "nbconvert_exporter": "python",
   "pygments_lexer": "ipython3",
   "version": "3.10.9"
  }
 },
 "nbformat": 4,
 "nbformat_minor": 5
}
