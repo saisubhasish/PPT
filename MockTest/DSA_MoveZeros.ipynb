{
 "cells": [
  {
   "cell_type": "markdown",
   "id": "2c9c056d",
   "metadata": {},
   "source": [
    "**Move Zeroes**\n",
    "\n",
    "Given an integer array nums, move all 0's to the end of it while maintaining the relative order of the non-zero elements.\n",
    "\n",
    "Note that you must do this in-place without making a copy of the array.\n",
    "\n",
    "Example 1:\n",
    "\n",
    "Input: nums = [0,1,0,3,12]\n",
    "\n",
    "Output: [1,3,12,0,0]\n",
    "\n",
    "Example 2:\n",
    "\n",
    "Input: nums = [0]\n",
    "\n",
    "Output: [0]\n",
    "\n",
    "Constraints:\n",
    "\n",
    "a. 1 <= nums.length <= 10^4\n",
    "\n",
    "b. -2^31 <= nums[i] <= 2^31 - 1\n",
    "\n",
    "Note: Create a GitHub file for the solution and add the file link the the answer section below."
   ]
  },
  {
   "cell_type": "code",
   "execution_count": 19,
   "id": "1e26ec07",
   "metadata": {},
   "outputs": [
    {
     "name": "stdout",
     "output_type": "stream",
     "text": [
      "[1, 3, 12, 0, 0]\n"
     ]
    }
   ],
   "source": [
    "def moveZeros(nums, n):\n",
    "    count = 0\n",
    "    for i in range(n):\n",
    "        if nums[i] !=  0:\n",
    "            nums[count] = nums[i]\n",
    "            count+=1\n",
    "    while count < n:\n",
    "        nums[count] = 0\n",
    "        count+=1\n",
    "    return nums\n",
    "        \n",
    "if __name__ == '__main__':\n",
    "    nums = [0,1,0,3,12]\n",
    "    n = len(nums)\n",
    "    print(moveZeros(nums, n))"
   ]
  },
  {
   "cell_type": "markdown",
   "id": "bd9f5ea1",
   "metadata": {},
   "source": [
    "TC: O(n)\n",
    "    \n",
    "SC: O(1)"
   ]
  },
  {
   "cell_type": "code",
   "execution_count": null,
   "id": "75ea3d8a",
   "metadata": {},
   "outputs": [],
   "source": []
  }
 ],
 "metadata": {
  "kernelspec": {
   "display_name": "Python 3 (ipykernel)",
   "language": "python",
   "name": "python3"
  },
  "language_info": {
   "codemirror_mode": {
    "name": "ipython",
    "version": 3
   },
   "file_extension": ".py",
   "mimetype": "text/x-python",
   "name": "python",
   "nbconvert_exporter": "python",
   "pygments_lexer": "ipython3",
   "version": "3.10.9"
  }
 },
 "nbformat": 4,
 "nbformat_minor": 5
}
