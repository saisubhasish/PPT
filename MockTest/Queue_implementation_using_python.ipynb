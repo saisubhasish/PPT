{
 "cells": [
  {
   "cell_type": "code",
   "execution_count": 6,
   "id": "1cb1c95b",
   "metadata": {},
   "outputs": [
    {
     "name": "stdout",
     "output_type": "stream",
     "text": [
      "Pushed item:  50\n",
      "Pushed item:  30\n",
      "Pushed item:  25\n"
     ]
    },
    {
     "data": {
      "text/plain": [
       "('Total elements: ', 1)"
      ]
     },
     "execution_count": 6,
     "metadata": {},
     "output_type": "execute_result"
    }
   ],
   "source": [
    "# creating queue\n",
    "def create_queue():\n",
    "    queue = list()\n",
    "    return queue\n",
    "\n",
    "def isEmpty(queue):\n",
    "    return len(queue) == 0\n",
    "\n",
    "def enqueue(queue, n):\n",
    "    queue.append(n)\n",
    "    print(\"Pushed item: \",n)\n",
    "    \n",
    "def dequeue(queue):\n",
    "    if (isEmpty(queue)):\n",
    "        return \"Queue is empty\"\n",
    "    else:\n",
    "        return queue.pop(0)\n",
    "\n",
    "def size(queue):\n",
    "    return 'Total elements: ',len(queue)\n",
    "\n",
    "\n",
    "queue = create_queue()\n",
    "isEmpty(queue)\n",
    "enqueue(queue, 50)\n",
    "enqueue(queue, 30)\n",
    "enqueue(queue, 25)\n",
    "dequeue(queue)\n",
    "dequeue(queue)\n",
    "size(queue)"
   ]
  },
  {
   "cell_type": "code",
   "execution_count": null,
   "id": "3b63085f",
   "metadata": {},
   "outputs": [],
   "source": []
  }
 ],
 "metadata": {
  "kernelspec": {
   "display_name": "Python 3 (ipykernel)",
   "language": "python",
   "name": "python3"
  },
  "language_info": {
   "codemirror_mode": {
    "name": "ipython",
    "version": 3
   },
   "file_extension": ".py",
   "mimetype": "text/x-python",
   "name": "python",
   "nbconvert_exporter": "python",
   "pygments_lexer": "ipython3",
   "version": "3.10.9"
  }
 },
 "nbformat": 4,
 "nbformat_minor": 5
}
