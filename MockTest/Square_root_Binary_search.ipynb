{
 "cells": [
  {
   "cell_type": "markdown",
   "id": "84cbc147",
   "metadata": {},
   "source": [
    "Given a non-negative integer x, return the square root of x rounded down to the nearest integer. The returned integer should be non-negative as well. You must not use any built-in exponent function or operator. \n",
    "\n",
    " Example 1:\n",
    "Input: x = 4 Output: 2 Explanation: The square root of 4 is 2, so we return 2.\n",
    "Example 2:\n",
    "\n",
    "Input: x = 8 Output: 2 Explanation: The square root of 8 is 2.82842..., and since we round it down to the nearest integer, 2 is returned.\n",
    "Constraints:\n",
    "\n",
    "0 <= x <= 2^31 - 1\n",
    "\n",
    "Note: Create a GitHub file for the solution and add the file link the the answer section below."
   ]
  },
  {
   "cell_type": "code",
   "execution_count": 1,
   "id": "9e0e4f53",
   "metadata": {},
   "outputs": [
    {
     "data": {
      "text/plain": [
       "2.0"
      ]
     },
     "execution_count": 1,
     "metadata": {},
     "output_type": "execute_result"
    }
   ],
   "source": [
    "class Solution:\n",
    "    def squareRoot(self, n):\n",
    "        start = 1    # considering the 1st element for calculation\n",
    "        end = n/2    # considering the middle element for binary search\n",
    "        while start < end:    # loop will run until condition false\n",
    "            m = (start+end)//2    # finding the mid index\n",
    "            if m*m>n:    # if mid square is greater than n \n",
    "                end = m-1    # reducing end to mid\n",
    "            else:    # mid square is less than the input\n",
    "                start = m+1    # increasing start to mid\n",
    "        return end    # otherwise return half value\n",
    "    \n",
    "s = Solution()\n",
    "s.squareRoot(8)"
   ]
  },
  {
   "cell_type": "markdown",
   "id": "b335cecb",
   "metadata": {},
   "source": [
    "TC: O(log n)  -> binary searching\n",
    "    \n",
    "Auxilary Space: O(1)  -> no extra space"
   ]
  },
  {
   "cell_type": "code",
   "execution_count": null,
   "id": "e0f80e93",
   "metadata": {},
   "outputs": [],
   "source": []
  }
 ],
 "metadata": {
  "kernelspec": {
   "display_name": "Python 3 (ipykernel)",
   "language": "python",
   "name": "python3"
  },
  "language_info": {
   "codemirror_mode": {
    "name": "ipython",
    "version": 3
   },
   "file_extension": ".py",
   "mimetype": "text/x-python",
   "name": "python",
   "nbconvert_exporter": "python",
   "pygments_lexer": "ipython3",
   "version": "3.10.9"
  }
 },
 "nbformat": 4,
 "nbformat_minor": 5
}
