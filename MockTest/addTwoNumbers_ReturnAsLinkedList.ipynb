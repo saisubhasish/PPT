{
 "cells": [
  {
   "cell_type": "markdown",
   "id": "ff2190bf",
   "metadata": {},
   "source": [
    "You are given two non-empty linked lists representing two non-negative integers. The digits are stored in reverse order, and each of their nodes contains a single digit. Add the two numbers and return the sum as a linked list.\n",
    "\n",
    "You may assume the two numbers do not contain any leading zero, except the number 0 itself.\n",
    "\n",
    "\n",
    "Example 1:\n",
    "\n",
    "Input: l1 = [2,4,3], l2 = [5,6,4] Output: [7,0,8] Explanation: 342 + 465 = 807.\n",
    "\n",
    "Example 2:\n",
    "\n",
    "Input: l1 = [0], l2 = [0] Output: [0]\n",
    "\n",
    "Example 3:\n",
    "\n",
    "Input: l1 = [9,9,9,9,9,9,9], l2 = [9,9,9,9] Output: [8,9,9,9,0,0,0,1]\n",
    "\n",
    " \n",
    "\n",
    "Constraints:\n",
    "\n",
    "The number of nodes in each linked list is in the range [1, 100].\n",
    "0 <= Node.val <= 9 It is guaranteed that the list represents a number that does not have leading zeros.\n",
    "\n",
    "\n",
    "\n",
    "Note: Create a GitHub file for the solution and add the file link the the answer section below."
   ]
  },
  {
   "cell_type": "code",
   "execution_count": 3,
   "id": "cc291820",
   "metadata": {},
   "outputs": [],
   "source": [
    "class Solution:\n",
    "    def reverse(self, head):\n",
    "        if head is None:    # handling the corner case\n",
    "            return head\n",
    "        curr = head    # it's not a good idea to move head again and again\n",
    "        prev = None    # declaring the previous element\n",
    "        while curr:    # trversing over LL\n",
    "            temp = curr.next    # storing to a temporary variable\n",
    "            curr.next = prev    # reversing the LL\n",
    "            prev = curr    # Moving ahead\n",
    "            head = temp    # Moving ahead\n",
    "        return prev    # returning reversed LL\n",
    "    def addTwoNumbers(self, l1, l2):\n",
    "        l1 = int(''.join(self.reverse(l1)))\n",
    "        l2 = int(''.join(self.reverse(l2)))\n",
    "        res = l1+l2\n",
    "        return str(res).split()"
   ]
  },
  {
   "cell_type": "markdown",
   "id": "1b8abbee",
   "metadata": {},
   "source": [
    "TC: O(n)\n",
    "    \n",
    "Auxilary space: O(1)"
   ]
  },
  {
   "cell_type": "code",
   "execution_count": null,
   "id": "0af23981",
   "metadata": {},
   "outputs": [],
   "source": []
  }
 ],
 "metadata": {
  "kernelspec": {
   "display_name": "Python 3 (ipykernel)",
   "language": "python",
   "name": "python3"
  },
  "language_info": {
   "codemirror_mode": {
    "name": "ipython",
    "version": 3
   },
   "file_extension": ".py",
   "mimetype": "text/x-python",
   "name": "python",
   "nbconvert_exporter": "python",
   "pygments_lexer": "ipython3",
   "version": "3.10.9"
  }
 },
 "nbformat": 4,
 "nbformat_minor": 5
}
