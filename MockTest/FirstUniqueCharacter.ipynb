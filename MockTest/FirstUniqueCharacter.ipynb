{
 "cells": [
  {
   "cell_type": "markdown",
   "id": "992772b0",
   "metadata": {},
   "source": [
    "**First Unique Character in a String**\n",
    "\n",
    "Given a string s, find the first non-repeating character in it and return its index. If it does not exist, return -1.\n",
    "\n",
    "Example 1:\n",
    "Input: s = \"leetcode\"\n",
    "Output: 0\n",
    "\n",
    "Example 2:\n",
    "Input: s = \"loveleetcode\"\n",
    "Output: 2\n",
    "\n",
    "Example 3:\n",
    "Input: s = \"aabb\"\n",
    "Output: -1\n",
    "\n",
    "Constraints:\n",
    "a. 1 <= s.length <= 10^5\n",
    "b. s consists of only lowercase English letters.\n",
    "\n",
    "Note: Create a GitHub file for the solution and add the file link the the answer section below."
   ]
  },
  {
   "cell_type": "code",
   "execution_count": 6,
   "id": "0e9d8ec7",
   "metadata": {},
   "outputs": [
    {
     "data": {
      "text/plain": [
       "2"
      ]
     },
     "execution_count": 6,
     "metadata": {},
     "output_type": "execute_result"
    }
   ],
   "source": [
    "def firstUnique(s):\n",
    "    hash_map = {}\n",
    "    for i in s:\n",
    "        if i not in hash_map:\n",
    "            hash_map[i] = 1\n",
    "        else:\n",
    "            hash_map[i]+=1\n",
    "    for i in s:\n",
    "        if hash_map[i] == 1:\n",
    "            return s.index(i)\n",
    "\n",
    "firstUnique(\"loveleetcode\")"
   ]
  },
  {
   "cell_type": "markdown",
   "id": "eceb9ec6",
   "metadata": {},
   "source": [
    "TC: O(n)\n",
    "    \n",
    "SC: O(i)"
   ]
  },
  {
   "cell_type": "code",
   "execution_count": null,
   "id": "a07b9dad",
   "metadata": {},
   "outputs": [],
   "source": []
  }
 ],
 "metadata": {
  "kernelspec": {
   "display_name": "Python 3 (ipykernel)",
   "language": "python",
   "name": "python3"
  },
  "language_info": {
   "codemirror_mode": {
    "name": "ipython",
    "version": 3
   },
   "file_extension": ".py",
   "mimetype": "text/x-python",
   "name": "python",
   "nbconvert_exporter": "python",
   "pygments_lexer": "ipython3",
   "version": "3.10.9"
  }
 },
 "nbformat": 4,
 "nbformat_minor": 5
}
