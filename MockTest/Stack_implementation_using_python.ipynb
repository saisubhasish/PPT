{
 "cells": [
  {
   "cell_type": "code",
   "execution_count": 11,
   "id": "2a3cf6a3",
   "metadata": {},
   "outputs": [
    {
     "name": "stdout",
     "output_type": "stream",
     "text": [
      "Pushed item:  52\n",
      "Pushed item:  26\n",
      "Pushed item:  30\n",
      "Pushed item:  40\n",
      "The stack elements are :\n",
      "52\n",
      "40\n"
     ]
    }
   ],
   "source": [
    "# creating stack\n",
    "def create_stack():\n",
    "    stack = list()\n",
    "    return stack\n",
    "\n",
    "def isEmpty(stack):\n",
    "    return len(stack) == 0\n",
    "\n",
    "# pushing element\n",
    "def push(staack, n):\n",
    "    stack.append(n)\n",
    "    print(\"Pushed item: \",n)\n",
    "    \n",
    "# removing element\n",
    "def pop(stack):\n",
    "    if (isEmpty(stack)):\n",
    "        return \"Stack is empty\"\n",
    "    else:\n",
    "        return stack.pop()\n",
    "    \n",
    "# displayign the stack elements\n",
    "def show(stack):\n",
    "    print(\"The stack elements are :\")\n",
    "    for i in stack:\n",
    "        print(i)\n",
    "        \n",
    "stack = create_stack()\n",
    "push(stack, str(52))\n",
    "push(stack, str(26))\n",
    "push(stack, str(30))\n",
    "isEmpty(stack)\n",
    "pop(stack)\n",
    "pop(stack)\n",
    "push(stack, str(40))\n",
    "show(stack)"
   ]
  },
  {
   "cell_type": "code",
   "execution_count": null,
   "id": "8a018591",
   "metadata": {},
   "outputs": [],
   "source": []
  }
 ],
 "metadata": {
  "kernelspec": {
   "display_name": "Python 3 (ipykernel)",
   "language": "python",
   "name": "python3"
  },
  "language_info": {
   "codemirror_mode": {
    "name": "ipython",
    "version": 3
   },
   "file_extension": ".py",
   "mimetype": "text/x-python",
   "name": "python",
   "nbconvert_exporter": "python",
   "pygments_lexer": "ipython3",
   "version": "3.10.9"
  }
 },
 "nbformat": 4,
 "nbformat_minor": 5
}
