{
 "cells": [
  {
   "cell_type": "code",
   "execution_count": null,
   "id": "2d71319b",
   "metadata": {},
   "outputs": [],
   "source": []
  },
  {
   "cell_type": "markdown",
   "id": "c2e2a27c",
   "metadata": {},
   "source": [
    "# Write a function that takes a list of numbers as input and returns a new list containing only the even numbers from the input list. Use list comprehension to solve this problem."
   ]
  },
  {
   "cell_type": "code",
   "execution_count": 13,
   "id": "a452c9e3",
   "metadata": {},
   "outputs": [
    {
     "data": {
      "text/plain": [
       "[2, 4, 6, 8, 10]"
      ]
     },
     "execution_count": 13,
     "metadata": {},
     "output_type": "execute_result"
    }
   ],
   "source": [
    "l=[1, 2, 3, 4, 5, 6, 7, 8, 9, 10]\n",
    "[x for x in l if x%2==0]"
   ]
  },
  {
   "cell_type": "markdown",
   "id": "106b2ca2",
   "metadata": {},
   "source": [
    "# Implement a decorator function called ‘timer’ that measures the execution time of a function. The ‘timer’ decorator should print the time taken by the decorated function to execute. Use the ‘time’ module in Python to calculate the execution time."
   ]
  },
  {
   "cell_type": "code",
   "execution_count": 12,
   "id": "179c3e05",
   "metadata": {},
   "outputs": [
    {
     "name": "stdout",
     "output_type": "stream",
     "text": [
      "This is decor function\n",
      "This is inner function\n",
      "This is original function\n",
      "Execution time: 0:00:00\n"
     ]
    }
   ],
   "source": [
    "from datetime import datetime\n",
    "\n",
    "def decor(func):\n",
    "    \n",
    "    global start    # declaring start as global variable\n",
    "    start=datetime.now()\n",
    "    \n",
    "    def inner():\n",
    "        print('This is inner function')    # 5 -> flow of execution\n",
    "        func()    # 6 -> original function will get executed\n",
    "        \n",
    "    print(\"This is decor function\")    # 3 -> flow of execution\n",
    "    \n",
    "    return inner    # 4 -> now inner() function will get executed\n",
    "\n",
    "@decor    # 2 -> execution starts from here\n",
    "def main():\n",
    "    end=datetime.now()\n",
    "    print(\"This is original function\")    # 7 -> flow of execution\n",
    "    print(f\"Execution time: {end-start}\")    # 8 -> flow of execution\n",
    "    \n",
    "main()    # 1 -> function call"
   ]
  },
  {
   "cell_type": "markdown",
   "id": "8dcd6665",
   "metadata": {},
   "source": [
    "# Write a function called ‘calculate_mean’ that takes a list of numbers as input and returns the mean (average) of the numbers. The function should calculate the mean using the sum of the numbers divided by the total count."
   ]
  },
  {
   "cell_type": "code",
   "execution_count": 16,
   "id": "472a950f",
   "metadata": {},
   "outputs": [
    {
     "name": "stdout",
     "output_type": "stream",
     "text": [
      "[1,2,3,4,5]\n",
      "The mean is:  3.0\n"
     ]
    }
   ],
   "source": [
    "def calculate_mean(l):\n",
    "    '''\n",
    "    This function retuns the mean of list of numbers\n",
    "    '''\n",
    "    num_sum=sum(l)\n",
    "    n=len(l)\n",
    "    return num_sum/n\n",
    "\n",
    "print(\"The mean is: \", calculate_mean(eval(input())))"
   ]
  },
  {
   "cell_type": "markdown",
   "id": "f95e47c6",
   "metadata": {},
   "source": [
    "# Write a function called ‘perform_hypothesis_test’ that takes two lists of numbers as input, representing two samples. The function should perform a two-sample t-test and return the p-value. Use the ‘scipy.stats’ module in Python to calculate the t-test and p-value."
   ]
  },
  {
   "cell_type": "code",
   "execution_count": 3,
   "id": "05670ac4",
   "metadata": {},
   "outputs": [
    {
     "name": "stdout",
     "output_type": "stream",
     "text": [
      "[5, 10, 15, 20, 25]\n",
      "[10, 20, 30, 40, 50]\n",
      "P-value:  0.09434977284243756\n"
     ]
    }
   ],
   "source": [
    "from scipy import stats\n",
    "\n",
    "def perform_hypothesis_test(sample1, sample2):\n",
    "    t_statistics, p_value=stats.ttest_ind(sample1, sample2)\n",
    "    return p_value\n",
    "\n",
    "\n",
    "sample1=eval(input())\n",
    "sample2=eval(input())\n",
    "print('P-value: ',perform_hypothesis_test(sample1, sample2))"
   ]
  },
  {
   "cell_type": "code",
   "execution_count": null,
   "id": "66270cf9",
   "metadata": {},
   "outputs": [],
   "source": []
  }
 ],
 "metadata": {
  "kernelspec": {
   "display_name": "Python 3 (ipykernel)",
   "language": "python",
   "name": "python3"
  },
  "language_info": {
   "codemirror_mode": {
    "name": "ipython",
    "version": 3
   },
   "file_extension": ".py",
   "mimetype": "text/x-python",
   "name": "python",
   "nbconvert_exporter": "python",
   "pygments_lexer": "ipython3",
   "version": "3.10.9"
  }
 },
 "nbformat": 4,
 "nbformat_minor": 5
}
