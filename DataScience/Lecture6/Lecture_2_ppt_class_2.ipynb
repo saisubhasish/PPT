{
  "cells": [
    {
      "cell_type": "code",
      "execution_count": null,
      "id": "23955f40",
      "metadata": {
        "id": "23955f40"
      },
      "outputs": [],
      "source": [
        "  #my name is sunny"
      ]
    },
    {
      "cell_type": "code",
      "execution_count": null,
      "id": "4655f6e2",
      "metadata": {
        "id": "4655f6e2"
      },
      "outputs": [],
      "source": [
        "mystr=\"\"\"shfhsd\n",
        "sdghjsgsdfg\n",
        "shglksdfg\n",
        "shgklndfg\n",
        "hsbkgndsfg\n",
        "bdkgndf\"\"\""
      ]
    },
    {
      "cell_type": "code",
      "execution_count": null,
      "id": "446f7efc",
      "metadata": {
        "id": "446f7efc",
        "outputId": "780f59e9-9608-4bfd-efd1-f4943bd9a9fd"
      },
      "outputs": [
        {
          "data": {
            "text/plain": [
              "'shfhsd\\nsdghjsgsdfg\\nshglksdfg\\nshgklndfg\\nhsbkgndsfg\\nbdkgndf'"
            ]
          },
          "execution_count": 4,
          "metadata": {},
          "output_type": "execute_result"
        }
      ],
      "source": [
        "mystr"
      ]
    },
    {
      "cell_type": "code",
      "execution_count": null,
      "id": "a6fc3294",
      "metadata": {
        "id": "a6fc3294",
        "outputId": "e9bc9485-3e47-4cc3-f109-ac722702e181"
      },
      "outputs": [
        {
          "data": {
            "text/plain": [
              "1836016031088"
            ]
          },
          "execution_count": 7,
          "metadata": {},
          "output_type": "execute_result"
        }
      ],
      "source": [
        "id(mystr)"
      ]
    },
    {
      "cell_type": "code",
      "execution_count": null,
      "id": "d2d0f76c",
      "metadata": {
        "id": "d2d0f76c",
        "outputId": "d30b6a86-81d9-4f39-9629-6028452e9206"
      },
      "outputs": [
        {
          "data": {
            "text/plain": [
              "106"
            ]
          },
          "execution_count": 9,
          "metadata": {},
          "output_type": "execute_result"
        }
      ],
      "source": [
        "import sys\n",
        "sys.getsizeof(mystr)"
      ]
    },
    {
      "cell_type": "code",
      "execution_count": null,
      "id": "04f23b7a",
      "metadata": {
        "id": "04f23b7a"
      },
      "outputs": [],
      "source": [
        "what is a difference between mutable and immutable"
      ]
    },
    {
      "cell_type": "code",
      "execution_count": null,
      "id": "5f8bd0af",
      "metadata": {
        "id": "5f8bd0af"
      },
      "outputs": [],
      "source": [
        "mylist=[1,2,3]"
      ]
    },
    {
      "cell_type": "code",
      "execution_count": null,
      "id": "b44be19e",
      "metadata": {
        "id": "b44be19e"
      },
      "outputs": [],
      "source": [
        "mytuple=(1,2,3)"
      ]
    },
    {
      "cell_type": "code",
      "execution_count": null,
      "id": "86d4f646",
      "metadata": {
        "id": "86d4f646"
      },
      "outputs": [],
      "source": [
        "mylist[1]=6"
      ]
    },
    {
      "cell_type": "code",
      "execution_count": null,
      "id": "c1a9ca53",
      "metadata": {
        "id": "c1a9ca53",
        "outputId": "ab765198-fa24-4b05-b72f-83bce9264181"
      },
      "outputs": [
        {
          "data": {
            "text/plain": [
              "[1, 6, 3]"
            ]
          },
          "execution_count": 13,
          "metadata": {},
          "output_type": "execute_result"
        }
      ],
      "source": [
        "mylist"
      ]
    },
    {
      "cell_type": "code",
      "execution_count": null,
      "id": "0d0aa31e",
      "metadata": {
        "id": "0d0aa31e",
        "outputId": "5316dd19-1771-4d6f-a237-bcc741703cb2"
      },
      "outputs": [
        {
          "ename": "TypeError",
          "evalue": "'tuple' object does not support item assignment",
          "output_type": "error",
          "traceback": [
            "\u001b[1;31m---------------------------------------------------------------------------\u001b[0m",
            "\u001b[1;31mTypeError\u001b[0m                                 Traceback (most recent call last)",
            "\u001b[1;32m~\\AppData\\Local\\Temp/ipykernel_9564/1082423468.py\u001b[0m in \u001b[0;36m<module>\u001b[1;34m\u001b[0m\n\u001b[1;32m----> 1\u001b[1;33m \u001b[0mmytuple\u001b[0m\u001b[1;33m[\u001b[0m\u001b[1;36m1\u001b[0m\u001b[1;33m]\u001b[0m\u001b[1;33m=\u001b[0m\u001b[1;36m6\u001b[0m\u001b[1;33m\u001b[0m\u001b[1;33m\u001b[0m\u001b[0m\n\u001b[0m",
            "\u001b[1;31mTypeError\u001b[0m: 'tuple' object does not support item assignment"
          ]
        }
      ],
      "source": [
        "mytuple[1]=6"
      ]
    },
    {
      "cell_type": "code",
      "execution_count": null,
      "id": "11c769f9",
      "metadata": {
        "id": "11c769f9"
      },
      "outputs": [],
      "source": [
        "mylist=[1,2,3]"
      ]
    },
    {
      "cell_type": "code",
      "execution_count": null,
      "id": "4316e858",
      "metadata": {
        "id": "4316e858"
      },
      "outputs": [],
      "source": [
        "a,b,c=mylist"
      ]
    },
    {
      "cell_type": "code",
      "execution_count": null,
      "id": "c2316182",
      "metadata": {
        "id": "c2316182",
        "outputId": "275246e4-8d48-4256-8b8a-ec175937831f"
      },
      "outputs": [
        {
          "data": {
            "text/plain": [
              "1"
            ]
          },
          "execution_count": 17,
          "metadata": {},
          "output_type": "execute_result"
        }
      ],
      "source": [
        "a"
      ]
    },
    {
      "cell_type": "code",
      "execution_count": null,
      "id": "472b3e74",
      "metadata": {
        "id": "472b3e74",
        "outputId": "60a97538-4342-4187-ba11-4051c1b91c17"
      },
      "outputs": [
        {
          "data": {
            "text/plain": [
              "2"
            ]
          },
          "execution_count": 18,
          "metadata": {},
          "output_type": "execute_result"
        }
      ],
      "source": [
        "b"
      ]
    },
    {
      "cell_type": "code",
      "execution_count": null,
      "id": "989a8f29",
      "metadata": {
        "id": "989a8f29",
        "outputId": "a0827064-ee5e-470d-f198-6b93f57b2082"
      },
      "outputs": [
        {
          "data": {
            "text/plain": [
              "3"
            ]
          },
          "execution_count": 19,
          "metadata": {},
          "output_type": "execute_result"
        }
      ],
      "source": [
        "c"
      ]
    },
    {
      "cell_type": "code",
      "execution_count": null,
      "id": "b9ce38ff",
      "metadata": {
        "id": "b9ce38ff"
      },
      "outputs": [],
      "source": [
        "import copy\n",
        "mylist=[[1,2],[3,4]]"
      ]
    },
    {
      "cell_type": "code",
      "execution_count": null,
      "id": "559a2b4a",
      "metadata": {
        "id": "559a2b4a"
      },
      "outputs": [],
      "source": [
        "mycopylist=copy.deepcopy(mylist)"
      ]
    },
    {
      "cell_type": "code",
      "execution_count": null,
      "id": "c5a32c53",
      "metadata": {
        "id": "c5a32c53",
        "outputId": "1ca274b1-8271-4201-c5f2-f42de7066ce5"
      },
      "outputs": [
        {
          "data": {
            "text/plain": [
              "1836011781696"
            ]
          },
          "execution_count": 105,
          "metadata": {},
          "output_type": "execute_result"
        }
      ],
      "source": [
        "id(mycopylist)"
      ]
    },
    {
      "cell_type": "code",
      "execution_count": null,
      "id": "b67d0b55",
      "metadata": {
        "id": "b67d0b55",
        "outputId": "9902a8cd-c3b5-4662-ab4d-59b6b2351e07"
      },
      "outputs": [
        {
          "data": {
            "text/plain": [
              "[[1, 2], [3, 4]]"
            ]
          },
          "execution_count": 27,
          "metadata": {},
          "output_type": "execute_result"
        }
      ],
      "source": [
        "mylist"
      ]
    },
    {
      "cell_type": "code",
      "execution_count": null,
      "id": "09830e91",
      "metadata": {
        "id": "09830e91",
        "outputId": "135cafde-9cc6-4ae4-c387-b830992efdf5"
      },
      "outputs": [
        {
          "data": {
            "text/plain": [
              "[[1, 2], [3, 4]]"
            ]
          },
          "execution_count": 28,
          "metadata": {},
          "output_type": "execute_result"
        }
      ],
      "source": [
        "mycopylist"
      ]
    },
    {
      "cell_type": "code",
      "execution_count": null,
      "id": "ab7d0a38",
      "metadata": {
        "id": "ab7d0a38"
      },
      "outputs": [],
      "source": [
        "mylist[0][0]=6"
      ]
    },
    {
      "cell_type": "code",
      "execution_count": null,
      "id": "dc0852c5",
      "metadata": {
        "id": "dc0852c5",
        "outputId": "097ec01f-a98e-44ee-fb7e-b93acc4a6c45"
      },
      "outputs": [
        {
          "data": {
            "text/plain": [
              "[[6, 2], [3, 4]]"
            ]
          },
          "execution_count": 35,
          "metadata": {},
          "output_type": "execute_result"
        }
      ],
      "source": [
        "mylist"
      ]
    },
    {
      "cell_type": "code",
      "execution_count": null,
      "id": "ccf77726",
      "metadata": {
        "id": "ccf77726",
        "outputId": "41971786-ad0c-444c-c670-e2bb9f41dba9"
      },
      "outputs": [
        {
          "data": {
            "text/plain": [
              "[[1, 2], [3, 4]]"
            ]
          },
          "execution_count": 31,
          "metadata": {},
          "output_type": "execute_result"
        }
      ],
      "source": [
        "mycopylist"
      ]
    },
    {
      "cell_type": "code",
      "execution_count": null,
      "id": "91870486",
      "metadata": {
        "id": "91870486"
      },
      "outputs": [],
      "source": [
        "mycopylist[0][0]=7"
      ]
    },
    {
      "cell_type": "code",
      "execution_count": null,
      "id": "8323ee12",
      "metadata": {
        "id": "8323ee12",
        "outputId": "f978b1cf-7c78-47eb-ef39-d6efa353eb4a"
      },
      "outputs": [
        {
          "data": {
            "text/plain": [
              "[[7, 2], [3, 4]]"
            ]
          },
          "execution_count": 34,
          "metadata": {},
          "output_type": "execute_result"
        }
      ],
      "source": [
        "mycopylist"
      ]
    },
    {
      "cell_type": "code",
      "execution_count": null,
      "id": "c3492e30",
      "metadata": {
        "id": "c3492e30"
      },
      "outputs": [],
      "source": [
        "myshallowcopy=copy.copy(mylist)"
      ]
    },
    {
      "cell_type": "code",
      "execution_count": null,
      "id": "3968b92d",
      "metadata": {
        "id": "3968b92d",
        "outputId": "dcd886c1-6eed-44da-8a3a-96d787684cb3"
      },
      "outputs": [
        {
          "data": {
            "text/plain": [
              "[[6, 2], [3, 4]]"
            ]
          },
          "execution_count": 36,
          "metadata": {},
          "output_type": "execute_result"
        }
      ],
      "source": [
        "mylist"
      ]
    },
    {
      "cell_type": "code",
      "execution_count": null,
      "id": "63c9b11b",
      "metadata": {
        "id": "63c9b11b",
        "outputId": "ace6be63-de20-47d4-ec7f-6540ddd24f7c"
      },
      "outputs": [
        {
          "data": {
            "text/plain": [
              "[[6, 2], [3, 4]]"
            ]
          },
          "execution_count": 37,
          "metadata": {},
          "output_type": "execute_result"
        }
      ],
      "source": [
        "myshallowcopy"
      ]
    },
    {
      "cell_type": "code",
      "execution_count": null,
      "id": "be54642a",
      "metadata": {
        "id": "be54642a",
        "outputId": "88515504-4922-40d7-cc4d-253d34c95e9e"
      },
      "outputs": [
        {
          "data": {
            "text/plain": [
              "[[1, 'sunny'], [3, 4]]"
            ]
          },
          "execution_count": 84,
          "metadata": {},
          "output_type": "execute_result"
        }
      ],
      "source": [
        "mylist"
      ]
    },
    {
      "cell_type": "code",
      "execution_count": null,
      "id": "074e8787",
      "metadata": {
        "id": "074e8787"
      },
      "outputs": [],
      "source": [
        "mylist[0][1]=\"rohit\""
      ]
    },
    {
      "cell_type": "code",
      "execution_count": null,
      "id": "218df07d",
      "metadata": {
        "id": "218df07d"
      },
      "outputs": [],
      "source": [
        "mylist[0][0]=\"data scientist\""
      ]
    },
    {
      "cell_type": "code",
      "execution_count": null,
      "id": "8ce76b19",
      "metadata": {
        "id": "8ce76b19",
        "outputId": "e9907690-31c4-476f-b85d-9e29e0c75ab4"
      },
      "outputs": [
        {
          "data": {
            "text/plain": [
              "[['data scientist', 'rohit'], [3, 4]]"
            ]
          },
          "execution_count": 101,
          "metadata": {},
          "output_type": "execute_result"
        }
      ],
      "source": [
        "mylist"
      ]
    },
    {
      "cell_type": "code",
      "execution_count": null,
      "id": "559129e6",
      "metadata": {
        "id": "559129e6",
        "outputId": "99b00127-c146-47a0-c034-703eb4cb3917"
      },
      "outputs": [
        {
          "data": {
            "text/plain": [
              "[['data scientist', 'rohit'], [3, 4]]"
            ]
          },
          "execution_count": 102,
          "metadata": {},
          "output_type": "execute_result"
        }
      ],
      "source": [
        "myshallowcopy"
      ]
    },
    {
      "cell_type": "code",
      "execution_count": null,
      "id": "4ac38732",
      "metadata": {
        "id": "4ac38732",
        "outputId": "53e0c976-2fd5-4364-95e0-9e52b73b3b7f"
      },
      "outputs": [
        {
          "name": "stdout",
          "output_type": "stream",
          "text": [
            "1836011635456\n",
            "1836016641344\n"
          ]
        }
      ],
      "source": [
        "#assigmenmt\n",
        "print(id(mylist))\n",
        "print(id(myshallowcopy))\n"
      ]
    },
    {
      "cell_type": "code",
      "execution_count": null,
      "id": "1993d4b7",
      "metadata": {
        "id": "1993d4b7"
      },
      "outputs": [],
      "source": [
        "mylist=myshallowcopy\n"
      ]
    },
    {
      "cell_type": "code",
      "execution_count": null,
      "id": "5aaca125",
      "metadata": {
        "id": "5aaca125"
      },
      "outputs": [],
      "source": [
        "genrator\n",
        "iterator itrable\n",
        "decorator\n",
        "dunder method\n",
        "__name__=__main__\n",
        "super()\n",
        "class.__init__()"
      ]
    },
    {
      "cell_type": "code",
      "execution_count": null,
      "id": "e0c42662",
      "metadata": {
        "id": "e0c42662"
      },
      "outputs": [],
      "source": [
        "mylist=[1,2,3,5,6]"
      ]
    },
    {
      "cell_type": "code",
      "execution_count": null,
      "id": "aa72d809",
      "metadata": {
        "id": "aa72d809"
      },
      "outputs": [],
      "source": [
        "mylist.append(100)"
      ]
    },
    {
      "cell_type": "code",
      "execution_count": null,
      "id": "a99585e2",
      "metadata": {
        "id": "a99585e2",
        "outputId": "ca8c7e0c-8e29-4546-e3e6-b8c038ee5120"
      },
      "outputs": [
        {
          "data": {
            "text/plain": [
              "[1, 2, 3, 5, 6, 100]"
            ]
          },
          "execution_count": 43,
          "metadata": {},
          "output_type": "execute_result"
        }
      ],
      "source": [
        "mylist"
      ]
    },
    {
      "cell_type": "code",
      "execution_count": null,
      "id": "f8e468d4",
      "metadata": {
        "id": "f8e468d4"
      },
      "outputs": [],
      "source": [
        "mylist.append([100,200,300])"
      ]
    },
    {
      "cell_type": "code",
      "execution_count": null,
      "id": "90304ae4",
      "metadata": {
        "id": "90304ae4",
        "outputId": "a5eb0ff4-bce3-45c7-8f50-860e5d86826d"
      },
      "outputs": [
        {
          "data": {
            "text/plain": [
              "[1, 2, 3, 5, 6, 100, [100, 200, 300]]"
            ]
          },
          "execution_count": 45,
          "metadata": {},
          "output_type": "execute_result"
        }
      ],
      "source": [
        "mylist"
      ]
    },
    {
      "cell_type": "code",
      "execution_count": null,
      "id": "26a08003",
      "metadata": {
        "id": "26a08003"
      },
      "outputs": [],
      "source": [
        "mylist.extend([100,200,300])"
      ]
    },
    {
      "cell_type": "code",
      "execution_count": null,
      "id": "262df5d0",
      "metadata": {
        "id": "262df5d0",
        "outputId": "345b87dc-7365-4ce2-d8bd-81c614ae9b38"
      },
      "outputs": [
        {
          "data": {
            "text/plain": [
              "[1, 2, 3, 5, 6, 100, [100, 200, 300], 100, 200, 300]"
            ]
          },
          "execution_count": 47,
          "metadata": {},
          "output_type": "execute_result"
        }
      ],
      "source": [
        "mylist"
      ]
    },
    {
      "cell_type": "code",
      "execution_count": null,
      "id": "fffcfa10",
      "metadata": {
        "id": "fffcfa10",
        "outputId": "9dc811d0-1089-423d-b520-cc57c6675529"
      },
      "outputs": [
        {
          "name": "stdout",
          "output_type": "stream",
          "text": [
            "Variable is an integer\n"
          ]
        }
      ],
      "source": [
        "my_variable = 42\n",
        "if isinstance(my_variable, int):\n",
        "    print(\"Variable is an integer\")\n"
      ]
    },
    {
      "cell_type": "code",
      "execution_count": null,
      "id": "e48821a9",
      "metadata": {
        "id": "e48821a9"
      },
      "outputs": [],
      "source": [
        "numbers = [1, 2, 3, 4, 5]\n",
        "squared_numbers = [x**2 for x in numbers]\n"
      ]
    },
    {
      "cell_type": "code",
      "execution_count": null,
      "id": "ff9e0d17",
      "metadata": {
        "id": "ff9e0d17",
        "outputId": "ef9de505-8b65-4916-a8f8-f60af89b4366"
      },
      "outputs": [
        {
          "data": {
            "text/plain": [
              "[1, 4, 9, 16, 25]"
            ]
          },
          "execution_count": 51,
          "metadata": {},
          "output_type": "execute_result"
        }
      ],
      "source": [
        "squared_numbers"
      ]
    },
    {
      "cell_type": "code",
      "execution_count": null,
      "id": "6fdee548",
      "metadata": {
        "id": "6fdee548",
        "outputId": "a5e6468d-dd4a-4222-a311-40d86cd30c96"
      },
      "outputs": [
        {
          "name": "stdout",
          "output_type": "stream",
          "text": [
            "[]\n"
          ]
        }
      ],
      "source": [
        "my_list = [1, 2, 3, 4, 5]\n",
        "print(my_list[-1:-4])"
      ]
    },
    {
      "cell_type": "code",
      "execution_count": null,
      "id": "3ec9a59e",
      "metadata": {
        "id": "3ec9a59e",
        "outputId": "fd9d592e-e1ac-40ae-fbaf-35516741541a"
      },
      "outputs": [
        {
          "name": "stdout",
          "output_type": "stream",
          "text": [
            "0\n",
            "1\n",
            "2\n",
            "4\n"
          ]
        }
      ],
      "source": [
        "for i in range(5):\n",
        "    if i == 3:\n",
        "        continue\n",
        "    print(i)"
      ]
    },
    {
      "cell_type": "code",
      "execution_count": null,
      "id": "ac550daf",
      "metadata": {
        "id": "ac550daf"
      },
      "outputs": [],
      "source": [
        "def test(a,b):\n",
        "    print(a,b)"
      ]
    },
    {
      "cell_type": "code",
      "execution_count": null,
      "id": "c73c265b",
      "metadata": {
        "id": "c73c265b"
      },
      "outputs": [],
      "source": [
        "#latest defination of the\n",
        "def test(a,b,c):\n",
        "    print(a,b,c)"
      ]
    },
    {
      "cell_type": "code",
      "execution_count": null,
      "id": "849a5439",
      "metadata": {
        "id": "849a5439",
        "outputId": "480dc0d6-5ae2-4b46-8622-22d8fd804b6e"
      },
      "outputs": [
        {
          "ename": "TypeError",
          "evalue": "test() missing 1 required positional argument: 'c'",
          "output_type": "error",
          "traceback": [
            "\u001b[1;31m---------------------------------------------------------------------------\u001b[0m",
            "\u001b[1;31mTypeError\u001b[0m                                 Traceback (most recent call last)",
            "\u001b[1;32m~\\AppData\\Local\\Temp/ipykernel_9564/3407544882.py\u001b[0m in \u001b[0;36m<module>\u001b[1;34m\u001b[0m\n\u001b[1;32m----> 1\u001b[1;33m \u001b[0mtest\u001b[0m\u001b[1;33m(\u001b[0m\u001b[1;36m1\u001b[0m\u001b[1;33m,\u001b[0m\u001b[1;36m2\u001b[0m\u001b[1;33m)\u001b[0m\u001b[1;33m\u001b[0m\u001b[1;33m\u001b[0m\u001b[0m\n\u001b[0m",
            "\u001b[1;31mTypeError\u001b[0m: test() missing 1 required positional argument: 'c'"
          ]
        }
      ],
      "source": [
        "test(1,2)"
      ]
    },
    {
      "cell_type": "code",
      "execution_count": null,
      "id": "e808f27e",
      "metadata": {
        "id": "e808f27e"
      },
      "outputs": [],
      "source": [
        "def my_function(*args):\n",
        "    print(args)\n",
        "    for arg in args:\n",
        "        print(arg)\n",
        "\n",
        "\n"
      ]
    },
    {
      "cell_type": "code",
      "execution_count": null,
      "id": "f2b9cf74",
      "metadata": {
        "id": "f2b9cf74",
        "outputId": "89e6d02a-dfec-4187-9a3e-1491ea4edc25"
      },
      "outputs": [
        {
          "name": "stdout",
          "output_type": "stream",
          "text": [
            "(1, 2, 3)\n",
            "1\n",
            "2\n",
            "3\n"
          ]
        }
      ],
      "source": [
        "my_function(1, 2, 3)"
      ]
    },
    {
      "cell_type": "code",
      "execution_count": null,
      "id": "0dde77c0",
      "metadata": {
        "id": "0dde77c0",
        "outputId": "84b21e28-9eb4-4e6c-b5f1-48e61447ba51"
      },
      "outputs": [
        {
          "name": "stdout",
          "output_type": "stream",
          "text": [
            "(1, 2)\n",
            "1\n",
            "2\n"
          ]
        }
      ],
      "source": [
        "my_function(1, 2)"
      ]
    },
    {
      "cell_type": "code",
      "execution_count": null,
      "id": "8a74fb84",
      "metadata": {
        "id": "8a74fb84",
        "outputId": "dea3ea71-ac4f-4b9c-9478-906da3c3dad3"
      },
      "outputs": [
        {
          "name": "stdout",
          "output_type": "stream",
          "text": [
            "(1, 2, 23, 54, 5, 6, 56, 346)\n",
            "1\n",
            "2\n",
            "23\n",
            "54\n",
            "5\n",
            "6\n",
            "56\n",
            "346\n"
          ]
        }
      ],
      "source": [
        "my_function(1, 2,23,54,5,6,56,346)"
      ]
    },
    {
      "cell_type": "code",
      "execution_count": null,
      "id": "3347a509",
      "metadata": {
        "id": "3347a509",
        "outputId": "1337ad1e-31ac-4222-b621-7cca634efead"
      },
      "outputs": [
        {
          "name": "stdout",
          "output_type": "stream",
          "text": [
            "{'name': 'Alice', 'age': 25}\n",
            "name Alice\n",
            "age 25\n"
          ]
        }
      ],
      "source": [
        "def my_function(**kwargs):\n",
        "    print(kwargs)\n",
        "    for key, value in kwargs.items():\n",
        "        print(key, value)\n",
        "\n",
        "my_function(name=\"Alice\", age=25)\n"
      ]
    },
    {
      "cell_type": "code",
      "execution_count": null,
      "id": "3333c216",
      "metadata": {
        "id": "3333c216"
      },
      "outputs": [],
      "source": [
        "my_list = [1, 2, 3, 4, 5]\n",
        "new_list = my_list.copy()\n"
      ]
    },
    {
      "cell_type": "code",
      "execution_count": null,
      "id": "4af559bb",
      "metadata": {
        "id": "4af559bb"
      },
      "outputs": [],
      "source": [
        "my_list[4]=100"
      ]
    },
    {
      "cell_type": "code",
      "execution_count": null,
      "id": "a27e8c6f",
      "metadata": {
        "id": "a27e8c6f",
        "outputId": "e032d69e-b6fe-46a4-b1bc-7ec498709e79"
      },
      "outputs": [
        {
          "data": {
            "text/plain": [
              "[1, 2, 3, 4, 100]"
            ]
          },
          "execution_count": 74,
          "metadata": {},
          "output_type": "execute_result"
        }
      ],
      "source": [
        "my_list"
      ]
    },
    {
      "cell_type": "code",
      "execution_count": null,
      "id": "19714057",
      "metadata": {
        "id": "19714057",
        "outputId": "c441f07a-0a55-400c-a80b-c0f875183dcd"
      },
      "outputs": [
        {
          "data": {
            "text/plain": [
              "1836016618560"
            ]
          },
          "execution_count": 76,
          "metadata": {},
          "output_type": "execute_result"
        }
      ],
      "source": [
        "id(my_list)"
      ]
    },
    {
      "cell_type": "code",
      "execution_count": null,
      "id": "6752f041",
      "metadata": {
        "id": "6752f041",
        "outputId": "aa768657-9d62-4bd3-aa5a-28419ebec816"
      },
      "outputs": [
        {
          "data": {
            "text/plain": [
              "[1, 2, 3, 4, 5]"
            ]
          },
          "execution_count": 75,
          "metadata": {},
          "output_type": "execute_result"
        }
      ],
      "source": [
        "new_list"
      ]
    },
    {
      "cell_type": "code",
      "execution_count": null,
      "id": "cab6943b",
      "metadata": {
        "id": "cab6943b",
        "outputId": "b7d902cb-c2cc-4147-eb20-883278ce8347"
      },
      "outputs": [
        {
          "data": {
            "text/plain": [
              "1836016641280"
            ]
          },
          "execution_count": 77,
          "metadata": {},
          "output_type": "execute_result"
        }
      ],
      "source": [
        "id(new_list)"
      ]
    },
    {
      "cell_type": "code",
      "execution_count": null,
      "id": "6bc9daf8",
      "metadata": {
        "id": "6bc9daf8",
        "outputId": "7595c47e-458d-4435-fbcc-a3a3e8398d31"
      },
      "outputs": [
        {
          "data": {
            "text/plain": [
              "'Hello World'"
            ]
          },
          "execution_count": 106,
          "metadata": {},
          "output_type": "execute_result"
        }
      ],
      "source": [
        "my_list = [\"Hello\", \"World\"]\n",
        "\" \".join(my_list)\n"
      ]
    },
    {
      "cell_type": "code",
      "execution_count": null,
      "id": "980c4230",
      "metadata": {
        "id": "980c4230"
      },
      "outputs": [],
      "source": [
        "my_string = \"Hello Hello World!\"\n",
        "my_string=my_string.split()"
      ]
    },
    {
      "cell_type": "code",
      "execution_count": null,
      "id": "132ade96",
      "metadata": {
        "id": "132ade96",
        "outputId": "8ec460eb-a5a5-4f94-86a2-44c5e0ffe962"
      },
      "outputs": [
        {
          "data": {
            "text/plain": [
              "{'Hello', 'World!'}"
            ]
          },
          "execution_count": 120,
          "metadata": {},
          "output_type": "execute_result"
        }
      ],
      "source": [
        "set(my_string)"
      ]
    },
    {
      "cell_type": "code",
      "execution_count": null,
      "id": "185451e3",
      "metadata": {
        "id": "185451e3",
        "outputId": "58239a81-f9da-4b77-bf52-70fd38362d54"
      },
      "outputs": [
        {
          "data": {
            "text/plain": [
              "{'Hello', 'Hello,', 'World!'}"
            ]
          },
          "execution_count": 115,
          "metadata": {},
          "output_type": "execute_result"
        }
      ],
      "source": [
        "set(my_string)"
      ]
    },
    {
      "cell_type": "code",
      "execution_count": null,
      "id": "902e62f0",
      "metadata": {
        "id": "902e62f0",
        "outputId": "748b2fee-2b15-4c78-dec5-305e26f373de"
      },
      "outputs": [
        {
          "data": {
            "text/plain": [
              "'Hello, Hello World!'"
            ]
          },
          "execution_count": 112,
          "metadata": {},
          "output_type": "execute_result"
        }
      ],
      "source": [
        "my_string = \"Hello Hello World!\"\n",
        "my_string=my_string.split()\n",
        "\" \".join(set(my_string))\n"
      ]
    },
    {
      "cell_type": "code",
      "execution_count": null,
      "id": "659c7fc4",
      "metadata": {
        "id": "659c7fc4"
      },
      "outputs": [],
      "source": [
        "my_string = \"Hello, hello World!\"\n",
        "unique_string = ''.join(set(my_string))\n"
      ]
    },
    {
      "cell_type": "code",
      "execution_count": null,
      "id": "2ae33427",
      "metadata": {
        "id": "2ae33427",
        "outputId": "e3b30487-de60-4866-d71b-81a7095140aa"
      },
      "outputs": [
        {
          "data": {
            "text/plain": [
              "' HeWlo!dr,'"
            ]
          },
          "execution_count": 111,
          "metadata": {},
          "output_type": "execute_result"
        }
      ],
      "source": [
        "unique_string"
      ]
    },
    {
      "cell_type": "code",
      "execution_count": null,
      "id": "c33166dc",
      "metadata": {
        "id": "c33166dc",
        "outputId": "441c616e-5ac5-4a21-b523-ad350e01a5d6"
      },
      "outputs": [
        {
          "name": "stdout",
          "output_type": "stream",
          "text": [
            "Hello Hello World!\n"
          ]
        }
      ],
      "source": [
        "string_with_comma = \"Hello, Hello World!\"\n",
        "string_without_comma = string_with_comma.replace(\",\", \"\")\n",
        "print(string_without_comma)\n"
      ]
    },
    {
      "cell_type": "code",
      "execution_count": null,
      "id": "921e5527",
      "metadata": {
        "id": "921e5527"
      },
      "outputs": [],
      "source": [
        "list1=[1,2,3]\n",
        "list2=[1,2,3,4,5]\n",
        "if list1 in list2:\n",
        "    print(\"yes\")\n"
      ]
    },
    {
      "cell_type": "code",
      "execution_count": null,
      "id": "846bce4f",
      "metadata": {
        "id": "846bce4f"
      },
      "outputs": [],
      "source": [
        "L1 = [1, 2, 3]\n",
        "L2 = [1, 2, 3, 4, 5]\n",
        "\n",
        "set1 = set(L1)\n",
        "set2 = set(L2)\n",
        "\n",
        "is_subset = set1.issubset(set2)\n",
        "\n",
        "if is_subset:\n",
        "    print(\"L1 is a subset of L2\")\n",
        "else:\n",
        "    print(\"L1 is not a subset of L2\")\n"
      ]
    },
    {
      "cell_type": "code",
      "execution_count": null,
      "id": "7dbff617",
      "metadata": {
        "id": "7dbff617",
        "outputId": "b4152b73-ff23-4ce6-dbc4-558418617424"
      },
      "outputs": [
        {
          "name": "stdout",
          "output_type": "stream",
          "text": [
            "It is a subset\n",
            "It is a subset\n",
            "Not a subset\n"
          ]
        }
      ],
      "source": [
        "l1 = [1,2,50]\n",
        "l2 = [1,2,3,4,5]\n",
        "\n",
        "for i in l1:\n",
        "    if i not in l2:\n",
        "        print(\"Not a subset\")\n",
        "        break\n",
        "\n",
        "    else:\n",
        "        print(\"It is a subset\")\n"
      ]
    },
    {
      "cell_type": "code",
      "execution_count": null,
      "id": "f6d0c3a2",
      "metadata": {
        "id": "f6d0c3a2",
        "outputId": "97989015-2e78-4434-9d08-3a3b846e04e9",
        "colab": {
          "base_uri": "https://localhost:8080/"
        }
      },
      "outputs": [
        {
          "output_type": "stream",
          "name": "stdout",
          "text": [
            "subset\n"
          ]
        }
      ],
      "source": [
        "list1= [1,2,3,4,5]\n",
        "list2= [1,2,3,5]\n",
        "m=0\n",
        "for i in range(len(list2)):\n",
        "  if list2[i] in list1:\n",
        "    m=1\n",
        "  else:\n",
        "    m=0\n",
        "if m==1:\n",
        "  print(\"subset\")\n",
        "else:\n",
        "  print(\"not subset\")\n"
      ]
    },
    {
      "cell_type": "code",
      "execution_count": null,
      "id": "f0a1bbe1",
      "metadata": {
        "id": "f0a1bbe1",
        "outputId": "b68faf6b-cfa0-49ad-a5e2-948368994cdf",
        "colab": {
          "base_uri": "https://localhost:8080/"
        }
      },
      "outputs": [
        {
          "output_type": "execute_result",
          "data": {
            "text/plain": [
              "range(0, 5)"
            ]
          },
          "metadata": {},
          "execution_count": 2
        }
      ],
      "source": [
        "range(len(list1))"
      ]
    },
    {
      "cell_type": "code",
      "source": [],
      "metadata": {
        "id": "KK0tQDheFMIl"
      },
      "id": "KK0tQDheFMIl",
      "execution_count": null,
      "outputs": []
    }
  ],
  "metadata": {
    "kernelspec": {
      "display_name": "Python 3 (ipykernel)",
      "language": "python",
      "name": "python3"
    },
    "language_info": {
      "codemirror_mode": {
        "name": "ipython",
        "version": 3
      },
      "file_extension": ".py",
      "mimetype": "text/x-python",
      "name": "python",
      "nbconvert_exporter": "python",
      "pygments_lexer": "ipython3",
      "version": "3.9.7"
    },
    "colab": {
      "provenance": []
    }
  },
  "nbformat": 4,
  "nbformat_minor": 5
}