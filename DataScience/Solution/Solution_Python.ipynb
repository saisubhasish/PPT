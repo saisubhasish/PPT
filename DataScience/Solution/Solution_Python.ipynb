{
 "cells": [
  {
   "cell_type": "markdown",
   "id": "fa10ca35",
   "metadata": {},
   "source": [
    "# 1. Write a Python program to reverse a string without using any built-in string reversal functions. "
   ]
  },
  {
   "cell_type": "code",
   "execution_count": 7,
   "id": "454c0f47",
   "metadata": {},
   "outputs": [
    {
     "name": "stdout",
     "output_type": "stream",
     "text": [
      "DATASCIENCE\n"
     ]
    },
    {
     "data": {
      "text/plain": [
       "'ECNEICSATAD'"
      ]
     },
     "execution_count": 7,
     "metadata": {},
     "output_type": "execute_result"
    }
   ],
   "source": [
    "def reverse_string(s):\n",
    "    '''\n",
    "    This function returns revrse of a string \n",
    "    '''\n",
    "    if len(s)==0:    # corner case\n",
    "        return 'Empty String'\n",
    "    temp = s\n",
    "    res = ''\n",
    "    while temp:\n",
    "        res=res+temp[-1]    # adding last element to res\n",
    "        temp=temp[:-1]    # removing last element from temp\n",
    "    return res\n",
    "\n",
    "reverse_string(s=input())"
   ]
  },
  {
   "cell_type": "code",
   "execution_count": 5,
   "id": "feef37ab",
   "metadata": {},
   "outputs": [
    {
     "data": {
      "text/plain": [
       "'DATASCIENC'"
      ]
     },
     "execution_count": 5,
     "metadata": {},
     "output_type": "execute_result"
    }
   ],
   "source": [
    "s = 'DATASCIENCE'\n",
    "s[:-1]"
   ]
  },
  {
   "cell_type": "markdown",
   "id": "1efbfb3a",
   "metadata": {},
   "source": [
    "# 2. Implement a function to check if a given string is a palindrome."
   ]
  },
  {
   "cell_type": "code",
   "execution_count": 8,
   "id": "77d27918",
   "metadata": {},
   "outputs": [
    {
     "name": "stdout",
     "output_type": "stream",
     "text": [
      "AIA\n"
     ]
    },
    {
     "data": {
      "text/plain": [
       "True"
      ]
     },
     "execution_count": 8,
     "metadata": {},
     "output_type": "execute_result"
    }
   ],
   "source": [
    "def string_palindrome(s):\n",
    "    '''\n",
    "    This function checks if a string is palindrome or not\n",
    "    '''\n",
    "    if len(s)==0:    # corner case\n",
    "        return 'Empty String'\n",
    "    temp = s\n",
    "    res = ''\n",
    "    while temp:\n",
    "        res+=temp[-1]    # adding last element to res\n",
    "        temp=temp[:-1]    # removing last element from temp\n",
    "    return res==s\n",
    "\n",
    "string_palindrome(s=input())"
   ]
  },
  {
   "cell_type": "markdown",
   "id": "f18186f8",
   "metadata": {},
   "source": [
    "# 3. Write a program to find the largest element in a given list. "
   ]
  },
  {
   "cell_type": "code",
   "execution_count": 9,
   "id": "0abda3ed",
   "metadata": {},
   "outputs": [
    {
     "name": "stdout",
     "output_type": "stream",
     "text": [
      "[5,7,1,6,2]\n"
     ]
    },
    {
     "data": {
      "text/plain": [
       "7"
      ]
     },
     "execution_count": 9,
     "metadata": {},
     "output_type": "execute_result"
    }
   ],
   "source": [
    "def largest_element(my_list):\n",
    "    '''\n",
    "    This function finds the largest element in a list\n",
    "    '''\n",
    "    if len(my_list)==0:    # corner case\n",
    "        return 'Empty List'\n",
    "    largest=my_list[0]\n",
    "    for i in my_list:\n",
    "        if i>largest:\n",
    "            largest=i\n",
    "    return largest\n",
    "\n",
    "my_list=eval(input())\n",
    "largest_element(my_list)"
   ]
  },
  {
   "cell_type": "markdown",
   "id": "18908a68",
   "metadata": {},
   "source": [
    "# 4. Implement a function to count the occurrence of each element in a list. "
   ]
  },
  {
   "cell_type": "code",
   "execution_count": 23,
   "id": "2bc887e6",
   "metadata": {},
   "outputs": [
    {
     "name": "stdout",
     "output_type": "stream",
     "text": [
      "1 4 5 1 4 1 2 3 4 1 2 3 1\n"
     ]
    },
    {
     "data": {
      "text/plain": [
       "{1: 5, 4: 3, 5: 1, 2: 2, 3: 2}"
      ]
     },
     "execution_count": 23,
     "metadata": {},
     "output_type": "execute_result"
    }
   ],
   "source": [
    "def occurances(my_list):\n",
    "    '''\n",
    "    This function returns the occurances of each element in the list\n",
    "    '''\n",
    "    if len(my_list)==0:    # corner case\n",
    "        return 'Empty List'\n",
    "    index_map={}\n",
    "    for i in my_list:\n",
    "        if i not in index_map:\n",
    "            index_map[i]=1    # assign a value\n",
    "        else:\n",
    "            index_map[i]+=1    # increase the value\n",
    "    return index_map\n",
    "\n",
    "my_list=list(map(int, input().split()))\n",
    "occurances(my_list)"
   ]
  },
  {
   "cell_type": "markdown",
   "id": "fe19803f",
   "metadata": {},
   "source": [
    "# 5. Write a Python program to find the second largest number in a list."
   ]
  },
  {
   "cell_type": "code",
   "execution_count": 21,
   "id": "2582bf38",
   "metadata": {},
   "outputs": [
    {
     "name": "stdout",
     "output_type": "stream",
     "text": [
      "[1,5,8,7,6]\n"
     ]
    },
    {
     "data": {
      "text/plain": [
       "7"
      ]
     },
     "execution_count": 21,
     "metadata": {},
     "output_type": "execute_result"
    }
   ],
   "source": [
    "from functools import reduce\n",
    "\n",
    "def second_largest(my_list):\n",
    "    '''\n",
    "    This function returns the second largest number from the list\n",
    "    '''\n",
    "    if len(my_list)==0:    # corner case\n",
    "        return 'Empty List'\n",
    "    largest=float('-inf')    # Initialize largest as negative infinity\n",
    "    second_largest=float('-inf')    #  Initialize second largest as negative infinity\n",
    "    \n",
    "    for num in my_list:\n",
    "        if num>largest:\n",
    "            second_largest=largest    # Current largest becomes second largest\n",
    "            largest=num    # Update largest with new maximum\n",
    "        elif num>second_largest and num!=largest:\n",
    "            second_largest=num    # Update second largest with new maximum (excluding largest)\n",
    "            \n",
    "    return second_largest\n",
    "        \n",
    "    \n",
    "my_list=eval(input())\n",
    "second_largest(my_list)"
   ]
  },
  {
   "cell_type": "markdown",
   "id": "26f92133",
   "metadata": {},
   "source": [
    "# 6. Implement a function to remove duplicate elements from a list. "
   ]
  },
  {
   "cell_type": "code",
   "execution_count": 29,
   "id": "691cee23",
   "metadata": {},
   "outputs": [
    {
     "name": "stdout",
     "output_type": "stream",
     "text": [
      "1,2,4,5,3,1,4,2,3,4,5,6,7,8,9,1,7,4,5,2,3,5\n"
     ]
    },
    {
     "data": {
      "text/plain": [
       "[1, 2, 3, 4, 5, 6, 7, 8, 9]"
      ]
     },
     "execution_count": 29,
     "metadata": {},
     "output_type": "execute_result"
    }
   ],
   "source": [
    "def remove_duplicates(my_list):\n",
    "    '''\n",
    "    This function removes duplicates from a list\n",
    "    '''\n",
    "    if len(my_list)==0:    # corner case\n",
    "        return 'Empty List'\n",
    "    res=set(my_list)\n",
    "    return list(res)\n",
    "\n",
    "my_list=list(map(int, input().split(',')))\n",
    "remove_duplicates(my_list)"
   ]
  },
  {
   "cell_type": "code",
   "execution_count": 30,
   "id": "44123f21",
   "metadata": {},
   "outputs": [
    {
     "name": "stdout",
     "output_type": "stream",
     "text": [
      "1,2,4,5,3,1,4,2,3,4,5,6,7,8,9,1,7,4,5,2,3,5\n"
     ]
    },
    {
     "data": {
      "text/plain": [
       "[1, 2, 4, 5, 3, 6, 7, 8, 9]"
      ]
     },
     "execution_count": 30,
     "metadata": {},
     "output_type": "execute_result"
    }
   ],
   "source": [
    "# using another list\n",
    "\n",
    "def remove_duplicates(my_list):\n",
    "    '''\n",
    "    This function removes duplicates from a list\n",
    "    '''\n",
    "    if len(my_list)==0:    # corner case\n",
    "        return 'Empty List'\n",
    "    res=[]\n",
    "    for i in my_list:\n",
    "        if i not in res:\n",
    "            res.append(i)\n",
    "    return res\n",
    "    \n",
    "my_list=list(map(int, input().split(',')))\n",
    "remove_duplicates(my_list)"
   ]
  },
  {
   "cell_type": "markdown",
   "id": "eb41200b",
   "metadata": {},
   "source": [
    "# 7. Write a program to calculate the factorial of a given number. "
   ]
  },
  {
   "cell_type": "code",
   "execution_count": 1,
   "id": "26826369",
   "metadata": {},
   "outputs": [
    {
     "data": {
      "text/plain": [
       "120"
      ]
     },
     "execution_count": 1,
     "metadata": {},
     "output_type": "execute_result"
    }
   ],
   "source": [
    "def factorial(n):\n",
    "    '''\n",
    "    This function calculates the factorial of a number using recussion\n",
    "    '''\n",
    "    if n==0:\n",
    "        return 1\n",
    "    elif n<0:\n",
    "        return -1\n",
    "    return n*factorial(n-1)\n",
    "    \n",
    "factorial(5)"
   ]
  },
  {
   "cell_type": "markdown",
   "id": "f38120d3",
   "metadata": {},
   "source": [
    "# 8. Implement a function to check if a given number is prime. "
   ]
  },
  {
   "cell_type": "code",
   "execution_count": 14,
   "id": "6176ca9f",
   "metadata": {},
   "outputs": [
    {
     "name": "stdout",
     "output_type": "stream",
     "text": [
      "4\n",
      "Not a Prime\n"
     ]
    }
   ],
   "source": [
    "def is_prime(n):\n",
    "    '''\n",
    "    This function checks if a number is prime or not\n",
    "    '''\n",
    "    if n<1:\n",
    "        return 'Please enter a valid number'\n",
    "    elif n==1:\n",
    "        return '1 is a special number, please enter a valid number'\n",
    "    for i in range(2,int(n+1//2)):\n",
    "        if n%i==0:\n",
    "            return 'Not a Prime'\n",
    "    return 'Prime Number'\n",
    "\n",
    "print(is_prime(n=int(input())))"
   ]
  },
  {
   "cell_type": "markdown",
   "id": "abc035c3",
   "metadata": {},
   "source": [
    "# 9. Write a Python program to sort a list of integers in ascending order. "
   ]
  },
  {
   "cell_type": "code",
   "execution_count": 16,
   "id": "763b314c",
   "metadata": {},
   "outputs": [
    {
     "name": "stdout",
     "output_type": "stream",
     "text": [
      "2,1,3,4,5\n"
     ]
    },
    {
     "data": {
      "text/plain": [
       "[1, 2, 3, 4, 5]"
      ]
     },
     "execution_count": 16,
     "metadata": {},
     "output_type": "execute_result"
    }
   ],
   "source": [
    "# using built-in function\n",
    "\n",
    "def sort_list(nums):\n",
    "    '''\n",
    "    This function sorts list of numbers\n",
    "    '''\n",
    "    nums.sort()\n",
    "    return nums\n",
    "\n",
    "nums=list(map(int, input().split(',')))\n",
    "sort_list(nums)"
   ]
  },
  {
   "cell_type": "code",
   "execution_count": 19,
   "id": "781bd461",
   "metadata": {},
   "outputs": [
    {
     "name": "stdout",
     "output_type": "stream",
     "text": [
      "2,1,3,4,5\n"
     ]
    },
    {
     "data": {
      "text/plain": [
       "[1, 2, 3, 4, 5]"
      ]
     },
     "execution_count": 19,
     "metadata": {},
     "output_type": "execute_result"
    }
   ],
   "source": [
    "def sort_list1(nums):\n",
    "    '''\n",
    "    This function sorts list of numbers using for loop\n",
    "    '''\n",
    "    n=len(nums)\n",
    "    for i in range(n):    # Iterating over nums index\n",
    "        for j in range(0,n-i-1):    # Iterating over index by reducing length by 1\n",
    "            if nums[j] > nums[j+1]:\n",
    "                nums[j], nums[j+1] = nums[j+1], nums[j]\n",
    "    return nums\n",
    "\n",
    "nums=list(map(int, input().split(',')))\n",
    "sort_list1(nums)"
   ]
  },
  {
   "cell_type": "markdown",
   "id": "a47527cd",
   "metadata": {},
   "source": [
    "# 10. Implement a function to find the sum of all numbers in a list. "
   ]
  },
  {
   "cell_type": "code",
   "execution_count": 23,
   "id": "841294a9",
   "metadata": {},
   "outputs": [
    {
     "name": "stdout",
     "output_type": "stream",
     "text": [
      "1 2 3 4 5 6 7\n"
     ]
    },
    {
     "data": {
      "text/plain": [
       "28"
      ]
     },
     "execution_count": 23,
     "metadata": {},
     "output_type": "execute_result"
    }
   ],
   "source": [
    "from functools import reduce\n",
    "\n",
    "def sum_list_element(my_list):\n",
    "    '''\n",
    "    This function returns the sum of all elements in a list using lambda function and reduce function\n",
    "    '''\n",
    "    sum_el =  reduce(lambda a,b:a+b, my_list)\n",
    "    return sum_el\n",
    "\n",
    "my_list=list(map(int, input().split()))\n",
    "sum_list_element(my_list)"
   ]
  },
  {
   "cell_type": "markdown",
   "id": "f03d4c17",
   "metadata": {},
   "source": [
    "# 11. Write a program to find the common elements between two lists. "
   ]
  },
  {
   "cell_type": "code",
   "execution_count": 29,
   "id": "ddd3bd04",
   "metadata": {},
   "outputs": [
    {
     "name": "stdout",
     "output_type": "stream",
     "text": [
      "[1,2,4,5,6]\n",
      "[3,4,5,6,7]\n"
     ]
    },
    {
     "data": {
      "text/plain": [
       "[4, 5, 6]"
      ]
     },
     "execution_count": 29,
     "metadata": {},
     "output_type": "execute_result"
    }
   ],
   "source": [
    "def common_elements(l1, l2):\n",
    "    '''\n",
    "    This function returns the common elements in two list using set-intersection\n",
    "    '''\n",
    "    common_elements=set(l1).intersection(l2)\n",
    "    return list(common_elements)\n",
    "\n",
    "l1=eval(input())\n",
    "l2=eval(input())\n",
    "common_elements(l1, l2)"
   ]
  },
  {
   "cell_type": "code",
   "execution_count": 27,
   "id": "d54d65fb",
   "metadata": {},
   "outputs": [
    {
     "name": "stdout",
     "output_type": "stream",
     "text": [
      "[1,2,4,5,6]\n",
      "[3,4,5,6,7]\n"
     ]
    },
    {
     "data": {
      "text/plain": [
       "[4, 5, 6]"
      ]
     },
     "execution_count": 27,
     "metadata": {},
     "output_type": "execute_result"
    }
   ],
   "source": [
    "def common_elements(l1, l2):\n",
    "    '''\n",
    "    This function returns the common elements in two list using for loop\n",
    "    '''\n",
    "    res=[]\n",
    "    for i in l1:\n",
    "        if i in l2:\n",
    "            res.append(i)\n",
    "    return res\n",
    "\n",
    "l1=eval(input())\n",
    "l2=eval(input())\n",
    "common_elements(l1, l2)"
   ]
  },
  {
   "cell_type": "markdown",
   "id": "c162d2f9",
   "metadata": {},
   "source": [
    "# 12. Implement a function to check if a given string is an anagram of another string. "
   ]
  },
  {
   "cell_type": "code",
   "execution_count": 9,
   "id": "c2824484",
   "metadata": {},
   "outputs": [
    {
     "name": "stdout",
     "output_type": "stream",
     "text": [
      "sai\n",
      "ias\n"
     ]
    },
    {
     "data": {
      "text/plain": [
       "True"
      ]
     },
     "execution_count": 9,
     "metadata": {},
     "output_type": "execute_result"
    }
   ],
   "source": [
    "def check_anagram(s1, s2):\n",
    "    '''\n",
    "    This function returns True if two strings are anagram\n",
    "    '''\n",
    "    s1=sorted(s1)\n",
    "    s2=sorted(s2)\n",
    "    return s1==s2\n",
    "\n",
    "check_anagram(s1=input(), s2=input())"
   ]
  },
  {
   "cell_type": "markdown",
   "id": "d6e6a682",
   "metadata": {},
   "source": [
    "# 13. Write a Python program to generate all permutations of a given string. "
   ]
  },
  {
   "cell_type": "code",
   "execution_count": 1,
   "id": "223771ed",
   "metadata": {},
   "outputs": [
    {
     "name": "stdout",
     "output_type": "stream",
     "text": [
      "Data\n",
      "Daat\n",
      "Dtaa\n",
      "Dtaa\n",
      "Daat\n",
      "Data\n",
      "aDta\n",
      "aDat\n",
      "atDa\n",
      "ataD\n",
      "aaDt\n",
      "aatD\n",
      "tDaa\n",
      "tDaa\n",
      "taDa\n",
      "taaD\n",
      "taDa\n",
      "taaD\n",
      "aDat\n",
      "aDta\n",
      "aaDt\n",
      "aatD\n",
      "atDa\n",
      "ataD\n"
     ]
    }
   ],
   "source": [
    "from itertools import permutations\n",
    "\n",
    "def string_permutation(s):\n",
    "    permutate= permutations(s)\n",
    "    for i in permutate:\n",
    "        print(''.join(i))\n",
    "        \n",
    "string_permutation('Data')"
   ]
  },
  {
   "cell_type": "markdown",
   "id": "d31f6602",
   "metadata": {},
   "source": [
    "14. Implement a function to calculate the Fibonacci sequence up to a given number of terms. "
   ]
  },
  {
   "cell_type": "code",
   "execution_count": 10,
   "id": "30277509",
   "metadata": {},
   "outputs": [
    {
     "name": "stdout",
     "output_type": "stream",
     "text": [
      "10\n",
      "0\n",
      "1\n",
      "1\n",
      "2\n",
      "3\n",
      "5\n",
      "8\n",
      "13\n",
      "21\n",
      "34\n"
     ]
    }
   ],
   "source": [
    "def fibonacci_seq(n):\n",
    "    '''\n",
    "    This function prints the fibonacci sequence upto a given number of terms\n",
    "    '''\n",
    "    x=0\n",
    "    y=1\n",
    "    for i in range(n):    # moving in the range of numbers\n",
    "        print(x)\n",
    "        x,y = y,x+y    # moving forwad\n",
    "\n",
    "        \n",
    "fibonacci_seq(n=int(input()))"
   ]
  },
  {
   "cell_type": "markdown",
   "id": "df4829d7",
   "metadata": {},
   "source": [
    "15. Write a program to find the median of a list of numbers. "
   ]
  },
  {
   "cell_type": "code",
   "execution_count": 2,
   "id": "f55b6a18",
   "metadata": {},
   "outputs": [
    {
     "name": "stdout",
     "output_type": "stream",
     "text": [
      "[1,2,3,4,5,6]\n"
     ]
    },
    {
     "data": {
      "text/plain": [
       "3.5"
      ]
     },
     "execution_count": 2,
     "metadata": {},
     "output_type": "execute_result"
    }
   ],
   "source": [
    "from statistics import median\n",
    "\n",
    "def list_median(my_list):\n",
    "    '''\n",
    "    This function returns the median of a list of elements\n",
    "    '''\n",
    "    return median(my_list)\n",
    "\n",
    "list_median(my_list=eval(input()))"
   ]
  },
  {
   "cell_type": "markdown",
   "id": "bdf8170e",
   "metadata": {},
   "source": [
    "16. Implement a function to check if a given list is sorted in non-decreasing order. "
   ]
  },
  {
   "cell_type": "code",
   "execution_count": 5,
   "id": "e6467249",
   "metadata": {},
   "outputs": [
    {
     "name": "stdout",
     "output_type": "stream",
     "text": [
      "[5,4,3,2,1]\n"
     ]
    },
    {
     "data": {
      "text/plain": [
       "True"
      ]
     },
     "execution_count": 5,
     "metadata": {},
     "output_type": "execute_result"
    }
   ],
   "source": [
    "def check_sorted(my_list):\n",
    "    '''\n",
    "    This function checks if a list of numbers is sorted in descending order\n",
    "    '''\n",
    "    if not my_list:\n",
    "        return 'Empty list'\n",
    "    res= my_list    # store list in another variable\n",
    "    res=sorted(res, reverse=True)    # sort in descending order\n",
    "    if res==my_list:    # check\n",
    "        return True\n",
    "    else:\n",
    "        return False\n",
    "    \n",
    "check_sorted(eval(input()))"
   ]
  },
  {
   "cell_type": "markdown",
   "id": "26f4916c",
   "metadata": {},
   "source": [
    "17. Write a Python program to find the intersection of two lists. "
   ]
  },
  {
   "cell_type": "code",
   "execution_count": 6,
   "id": "08c73398",
   "metadata": {},
   "outputs": [
    {
     "name": "stdout",
     "output_type": "stream",
     "text": [
      "[1,2,3,4,5]\n",
      "[3,4,5,6,7]\n"
     ]
    },
    {
     "data": {
      "text/plain": [
       "{3, 4, 5}"
      ]
     },
     "execution_count": 6,
     "metadata": {},
     "output_type": "execute_result"
    }
   ],
   "source": [
    "def list_intersection(l1, l2):\n",
    "    '''\n",
    "    This function returns the intersection(common) elements between two lists\n",
    "    '''\n",
    "    if len(l1)==0 or len(l2)==0:\n",
    "        return 'Empty List'\n",
    "    res = set(l1).intersection(l2)    # built-in function\n",
    "    return res\n",
    "\n",
    "l1=eval(input())\n",
    "l2=eval(input())\n",
    "list_intersection(l1, l2)"
   ]
  },
  {
   "cell_type": "markdown",
   "id": "fab243cb",
   "metadata": {},
   "source": [
    "18. Implement a function to find the maximum subarray sum in a given list. "
   ]
  },
  {
   "cell_type": "code",
   "execution_count": 14,
   "id": "4aa4f601",
   "metadata": {},
   "outputs": [
    {
     "name": "stdout",
     "output_type": "stream",
     "text": [
      "[2,5,3,4,7,8]\n"
     ]
    },
    {
     "data": {
      "text/plain": [
       "29"
      ]
     },
     "execution_count": 14,
     "metadata": {},
     "output_type": "execute_result"
    }
   ],
   "source": [
    "def maximum_subarray(l):\n",
    "    '''\n",
    "    This function returns the maximum subarray sum of a given list\n",
    "    '''\n",
    "    if not l:\n",
    "        return 0\n",
    "    current_sum=0\n",
    "    max_sum=float('-inf')\n",
    "    for num in l:\n",
    "        current_sum = max(num, current_sum+num)\n",
    "        max_sum = max(max_sum, current_sum)\n",
    "    return max_sum\n",
    "\n",
    "maximum_subarray(eval(input()))"
   ]
  },
  {
   "cell_type": "markdown",
   "id": "b1ddc291",
   "metadata": {},
   "source": [
    "19. Write a program to remove all vowels from a given string. "
   ]
  },
  {
   "cell_type": "code",
   "execution_count": 21,
   "id": "5521dabe",
   "metadata": {},
   "outputs": [
    {
     "name": "stdout",
     "output_type": "stream",
     "text": [
      "subhasish\n"
     ]
    },
    {
     "data": {
      "text/plain": [
       "'sbhssh'"
      ]
     },
     "execution_count": 21,
     "metadata": {},
     "output_type": "execute_result"
    }
   ],
   "source": [
    "def remove_vowels(s):\n",
    "    '''\n",
    "    THis function returns a atring by removing vosels\n",
    "    '''\n",
    "    res=''\n",
    "    for i in(s):    # iterating over the cha\n",
    "        if i not in 'aeiou':    # check if the character in vowels\n",
    "            res+=i\n",
    "    return res\n",
    "\n",
    "remove_vowels(s=input())"
   ]
  },
  {
   "cell_type": "markdown",
   "id": "a1fd27de",
   "metadata": {},
   "source": [
    "20. Implement a function to reverse the order of words in a given sentence. "
   ]
  },
  {
   "cell_type": "code",
   "execution_count": 6,
   "id": "3902f133",
   "metadata": {},
   "outputs": [
    {
     "name": "stdout",
     "output_type": "stream",
     "text": [
      "sai subhasish rout\n"
     ]
    },
    {
     "data": {
      "text/plain": [
       "'rout subhasish sai'"
      ]
     },
     "execution_count": 6,
     "metadata": {},
     "output_type": "execute_result"
    }
   ],
   "source": [
    "def reverse_words(l):\n",
    "    '''\n",
    "    This function reverse the order of sequence of words \n",
    "    '''\n",
    "    l.reverse()    # using built-in function\n",
    "    return ' '.join(l)\n",
    "\n",
    "l=input().split()\n",
    "reverse_words(l)"
   ]
  },
  {
   "cell_type": "markdown",
   "id": "cbb23044",
   "metadata": {},
   "source": [
    "21. Write a Python program to check if two strings are anagrams of each other. "
   ]
  },
  {
   "cell_type": "code",
   "execution_count": 13,
   "id": "aa27a7a2",
   "metadata": {},
   "outputs": [
    {
     "name": "stdout",
     "output_type": "stream",
     "text": [
      "data\n",
      "science\n"
     ]
    },
    {
     "data": {
      "text/plain": [
       "False"
      ]
     },
     "execution_count": 13,
     "metadata": {},
     "output_type": "execute_result"
    }
   ],
   "source": [
    "def string_anagram(s1, s2):\n",
    "    '''\n",
    "    This function checks if two strings are anagram to each other (means strings should be equal after sorting)\n",
    "    '''\n",
    "    s1=sorted(s1)\n",
    "    s2=sorted(s2)\n",
    "    return s1==s2    # comparing two sorted strings\n",
    "\n",
    "s1=input()\n",
    "s2=input()\n",
    "string_anagram(s1, s2)"
   ]
  },
  {
   "cell_type": "markdown",
   "id": "2aec7665",
   "metadata": {},
   "source": [
    "22. Implement a function to find the first non-repeating character in a string. "
   ]
  },
  {
   "cell_type": "code",
   "execution_count": 5,
   "id": "d11d3bda",
   "metadata": {},
   "outputs": [
    {
     "name": "stdout",
     "output_type": "stream",
     "text": [
      "subhasish\n",
      "u\n"
     ]
    }
   ],
   "source": [
    "def unique_char(s):\n",
    "    '''\n",
    "    This function iterates over the string and returns the first unique character\n",
    "    '''\n",
    "    index_map={}\n",
    "    for i in s:\n",
    "        if i not in index_map:    # storing the count of each number\n",
    "            index_map[i]=1\n",
    "        else:\n",
    "            index_map[i]+=1\n",
    "    for i in s:    # checking the count by iterating over loop\n",
    "        if index_map[i]==1:\n",
    "            print(i)\n",
    "            break\n",
    "            \n",
    "unique_char(s=input())"
   ]
  },
  {
   "cell_type": "markdown",
   "id": "80b2a794",
   "metadata": {},
   "source": [
    "23. Write a program to find the prime factors of a given number. "
   ]
  },
  {
   "cell_type": "code",
   "execution_count": 35,
   "id": "ce6b91c9",
   "metadata": {},
   "outputs": [
    {
     "name": "stdout",
     "output_type": "stream",
     "text": [
      "10000000000000\n"
     ]
    },
    {
     "data": {
      "text/plain": [
       "[2, 2, 2, 2, 2, 2, 2, 2, 2, 2, 2, 2, 2, 5, 5, 5, 5, 5, 5, 5, 5, 5, 5, 5, 5, 5]"
      ]
     },
     "execution_count": 35,
     "metadata": {},
     "output_type": "execute_result"
    }
   ],
   "source": [
    "def prime_factors(num):\n",
    "    '''\n",
    "    This function finds the prime factors of a number\n",
    "    '''\n",
    "    factors=[]\n",
    "    divisors=2\n",
    "    \n",
    "    while divisors<=num:    \n",
    "        if num%divisors==0:    # if number if divisible by divisor\n",
    "            factors.append(divisors)    # add to the list\n",
    "            num/=divisors    # reduce number\n",
    "        else:    # otherwise increase divisor by 1\n",
    "            divisors+=1\n",
    "    return factors\n",
    "\n",
    "prime_factors(num=int(input()))"
   ]
  },
  {
   "cell_type": "markdown",
   "id": "dfacf33d",
   "metadata": {},
   "source": [
    "24. Implement a function to check if a given number is a power of two. "
   ]
  },
  {
   "cell_type": "code",
   "execution_count": 34,
   "id": "f87bdacc",
   "metadata": {},
   "outputs": [
    {
     "name": "stdout",
     "output_type": "stream",
     "text": [
      "1024\n"
     ]
    },
    {
     "data": {
      "text/plain": [
       "True"
      ]
     },
     "execution_count": 34,
     "metadata": {},
     "output_type": "execute_result"
    }
   ],
   "source": [
    "def power_of_two(n):\n",
    "    '''\n",
    "    This function checks if a number is power of 2\n",
    "    '''\n",
    "    power=1\n",
    "    while power<=n:\n",
    "        if power==n:\n",
    "            return True\n",
    "        power*=2\n",
    "    return False\n",
    "\n",
    "power_of_two(n=int(input()))"
   ]
  },
  {
   "cell_type": "markdown",
   "id": "101416d0",
   "metadata": {},
   "source": [
    "25. Write a Python program to merge two sorted lists into a single sorted list. "
   ]
  },
  {
   "cell_type": "code",
   "execution_count": 50,
   "id": "2e8b4b52",
   "metadata": {},
   "outputs": [
    {
     "name": "stdout",
     "output_type": "stream",
     "text": [
      "[1,2,3,4,5,6]\n",
      "[7,8,9]\n"
     ]
    },
    {
     "data": {
      "text/plain": [
       "[1, 2, 3, 4, 5, 6, 7, 8, 9]"
      ]
     },
     "execution_count": 50,
     "metadata": {},
     "output_type": "execute_result"
    }
   ],
   "source": [
    "def merge_two_lists(list1, list2):\n",
    "    '''\n",
    "    This function merges two sorted lists and returns a merged sorted list\n",
    "    '''\n",
    "    merged_list=[]\n",
    "    i=j=0\n",
    "    while i<len(list1) and j<len(list2):    # iterate over the lists\n",
    "        if list1[i]<list2[j]:    # comparing values\n",
    "            merged_list.append(list1[i])\n",
    "            i+=1\n",
    "        else:\n",
    "            merged_list.append(list2[j])\n",
    "            j+=1\n",
    "    while i<len(list1):    # if size of two lists is not matched then add the rest elements\n",
    "        merged_list.append(list1[i])\n",
    "        i+=1\n",
    "    while j<len(list2):    # if size of two lists is not matched then add the rest elements\n",
    "        merged_list.append(list2[j])\n",
    "        j+=1\n",
    "    return merged_list\n",
    "\n",
    "l1=eval(input())\n",
    "l2=eval(input())\n",
    "merge_sorted_lists(l1, l2)"
   ]
  },
  {
   "cell_type": "markdown",
   "id": "9d8af6cc",
   "metadata": {},
   "source": [
    "26. Implement a function to find the mode of a list of numbers. "
   ]
  },
  {
   "cell_type": "code",
   "execution_count": 51,
   "id": "b8dc78a5",
   "metadata": {},
   "outputs": [
    {
     "name": "stdout",
     "output_type": "stream",
     "text": [
      "1 1 2 1 3 1 2 1 4 5 1 6\n"
     ]
    },
    {
     "data": {
      "text/plain": [
       "1"
      ]
     },
     "execution_count": 51,
     "metadata": {},
     "output_type": "execute_result"
    }
   ],
   "source": [
    "def list_mode(nums):\n",
    "    '''\n",
    "    This function returns mode number from list of numbers using index_map\n",
    "    '''\n",
    "    index_map={}\n",
    "    for i in nums:\n",
    "        if i not in index_map:    # adding elements to index_map\n",
    "            index_map[i]=1\n",
    "        else:\n",
    "            index_map[i]+=1\n",
    "    max_value=0\n",
    "    for k,v in index_map.items():    # getting the key value from index_map\n",
    "        if v>max_value:\n",
    "            max_value=v    # storing the max repeatation value\n",
    "    return index_map[max_value]\n",
    "\n",
    "nums=map(int, input().split())\n",
    "list_mode(nums)"
   ]
  },
  {
   "cell_type": "code",
   "execution_count": 54,
   "id": "92e834ac",
   "metadata": {},
   "outputs": [
    {
     "name": "stdout",
     "output_type": "stream",
     "text": [
      "1 1 2 3 1 5 1 6 1\n"
     ]
    },
    {
     "data": {
      "text/plain": [
       "1"
      ]
     },
     "execution_count": 54,
     "metadata": {},
     "output_type": "execute_result"
    }
   ],
   "source": [
    "from statistics import mode\n",
    "\n",
    "def list_mode(nums):\n",
    "    '''\n",
    "    This function returns mode number from list of numbers using built-in function\n",
    "    '''\n",
    "    return mode(nums)    # using built-in function\n",
    "\n",
    "nums=map(int, input().split())\n",
    "list_mode(nums)"
   ]
  },
  {
   "cell_type": "markdown",
   "id": "0ec2fd96",
   "metadata": {},
   "source": [
    "27. Write a program to find the greatest common divisor (GCD) of two numbers. "
   ]
  },
  {
   "cell_type": "code",
   "execution_count": 55,
   "id": "dcbe9d96",
   "metadata": {},
   "outputs": [
    {
     "name": "stdout",
     "output_type": "stream",
     "text": [
      "Enter the first number: 11\n",
      "Enter the second number: 5\n",
      "The GCD of 11 and 5 is 1\n"
     ]
    }
   ],
   "source": [
    "def gcd(a, b):\n",
    "    '''\n",
    "    This function returns the greatest common divisors of two divisors\n",
    "    '''\n",
    "    if a < b:    # Ensure a is always greater than or equal to b\n",
    "        a, b = b, a\n",
    "    \n",
    "    while b != 0:\n",
    "        rem = a % b    # Calculate the remainder\n",
    "        \n",
    "        a = b    # Update the values of a and b\n",
    "        b = rem\n",
    "    \n",
    "    return a    # The GCD is the final non-zero remainder\n",
    "\n",
    "# Test the program\n",
    "num1 = int(input(\"Enter the first number: \"))\n",
    "num2 = int(input(\"Enter the second number: \"))\n",
    "\n",
    "result = gcd(num1, num2)\n",
    "print(\"The GCD of\", num1, \"and\", num2, \"is\", result)"
   ]
  },
  {
   "cell_type": "code",
   "execution_count": 3,
   "id": "25c0554f",
   "metadata": {},
   "outputs": [
    {
     "name": "stdout",
     "output_type": "stream",
     "text": [
      "11\n",
      "1\n"
     ]
    },
    {
     "data": {
      "text/plain": [
       "1"
      ]
     },
     "execution_count": 3,
     "metadata": {},
     "output_type": "execute_result"
    }
   ],
   "source": [
    "from math import gcd\n",
    "\n",
    "def gcd_nums(a, b):\n",
    "    '''\n",
    "    This function returns mode of two numbers using built-in functions\n",
    "    '''\n",
    "    return gcd(a, b)    \n",
    "\n",
    "gcd_nums(a=int(input()), b=int(input()))"
   ]
  },
  {
   "cell_type": "markdown",
   "id": "2973dc2b",
   "metadata": {},
   "source": [
    "28. Implement a function to calculate the square root of a given number. "
   ]
  },
  {
   "cell_type": "code",
   "execution_count": 5,
   "id": "dd69fd4d",
   "metadata": {},
   "outputs": [
    {
     "name": "stdout",
     "output_type": "stream",
     "text": [
      "10\n"
     ]
    },
    {
     "data": {
      "text/plain": [
       "3.1622776601683795"
      ]
     },
     "execution_count": 5,
     "metadata": {},
     "output_type": "execute_result"
    }
   ],
   "source": [
    "from math import sqrt\n",
    "\n",
    "def square_root(n):\n",
    "    '''\n",
    "    This function returns square root of a number using built-in function\n",
    "    '''\n",
    "    return sqrt(n)\n",
    "\n",
    "square_root(n=int(input()))"
   ]
  },
  {
   "cell_type": "markdown",
   "id": "8d27d375",
   "metadata": {},
   "source": [
    "29. Write a Python program to check if a given string is a valid palindrome ignoring non-alphanumeric characters. "
   ]
  },
  {
   "cell_type": "code",
   "execution_count": 10,
   "id": "d2dfd994",
   "metadata": {},
   "outputs": [
    {
     "name": "stdout",
     "output_type": "stream",
     "text": [
      "111\n"
     ]
    },
    {
     "data": {
      "text/plain": [
       "True"
      ]
     },
     "execution_count": 10,
     "metadata": {},
     "output_type": "execute_result"
    }
   ],
   "source": [
    "def string_palindrome(s):\n",
    "    '''\n",
    "    This function returns checks and ignores the  non-alpha numeric characters and returns true if it is a palindrome\n",
    "    '''\n",
    "    rev=''\n",
    "    temp=s\n",
    "    while temp:\n",
    "        if not temp[-1].isalnum():    # ignoring non-alpha numric characters\n",
    "            temp=temp[:-1]\n",
    "            pass\n",
    "        else:\n",
    "            rev+=temp[-1]    # adding alpha numeric characters\n",
    "            temp=temp[:-1]\n",
    "    return rev==s\n",
    "\n",
    "s=input()\n",
    "string_palindrome(s)"
   ]
  },
  {
   "cell_type": "markdown",
   "id": "2e6d0b80",
   "metadata": {},
   "source": [
    "\n",
    "30. Implement a function to find the minimum element in a rotated sorted list. "
   ]
  },
  {
   "cell_type": "code",
   "execution_count": 3,
   "id": "73317359",
   "metadata": {},
   "outputs": [
    {
     "name": "stdout",
     "output_type": "stream",
     "text": [
      "5, 6, 1, 2, 3, 4\n",
      " 1\n"
     ]
    }
   ],
   "source": [
    "def minimum_element(nums):\n",
    "    '''\n",
    "    This function finds the minimum lement in a rotated list\n",
    "    '''\n",
    "    min_ele=nums[0]\n",
    "    for i in range(len(nums)):\n",
    "        if nums[i]<min_ele:\n",
    "            min_ele=nums[i]\n",
    "    return min_ele\n",
    "\n",
    "nums=input().split(',')\n",
    "print(minimum_element(nums))"
   ]
  },
  {
   "cell_type": "markdown",
   "id": "9a12b6b2",
   "metadata": {},
   "source": [
    "31. Write a program to find the sum of all even numbers in a list. "
   ]
  },
  {
   "cell_type": "code",
   "execution_count": null,
   "id": "90453666",
   "metadata": {},
   "outputs": [],
   "source": [
    "def even_sum(nums):\n",
    "    '''\n",
    "    This function sums up the even numbers in a list using list comprehension\n",
    "    '''\n",
    "    return sum([x for x in nums if x%2==0])\n",
    "\n",
    "nums=eval(input())\n",
    "even_sum(nums)"
   ]
  },
  {
   "cell_type": "code",
   "execution_count": 27,
   "id": "25921f04",
   "metadata": {},
   "outputs": [
    {
     "name": "stdout",
     "output_type": "stream",
     "text": [
      "[1, 2, 3, 4, 5]\n"
     ]
    },
    {
     "data": {
      "text/plain": [
       "6"
      ]
     },
     "execution_count": 27,
     "metadata": {},
     "output_type": "execute_result"
    }
   ],
   "source": [
    "def even_sum(nums):\n",
    "    '''\n",
    "    This function sums up the even numbers in a list using for loop\n",
    "    '''\n",
    "    res=0\n",
    "    for i in nums:\n",
    "        if i%2==0:\n",
    "            res+=i\n",
    "    return res\n",
    "\n",
    "nums=eval(input())\n",
    "even_sum(nums)"
   ]
  },
  {
   "cell_type": "markdown",
   "id": "f5e87344",
   "metadata": {},
   "source": [
    "32. Implement a function to calculate the power of a number using recursion. "
   ]
  },
  {
   "cell_type": "code",
   "execution_count": 8,
   "id": "bb926c71",
   "metadata": {},
   "outputs": [
    {
     "name": "stdout",
     "output_type": "stream",
     "text": [
      "5\n",
      "2\n"
     ]
    },
    {
     "data": {
      "text/plain": [
       "25"
      ]
     },
     "execution_count": 8,
     "metadata": {},
     "output_type": "execute_result"
    }
   ],
   "source": [
    "def power(base, exponent):\n",
    "    '''\n",
    "    This function calculated the exponent value of a number\n",
    "    '''\n",
    "    # base case: if the exponent is 0, return 1\n",
    "    if exponent == 0:\n",
    "        return 1\n",
    "    \n",
    "    # recursive case: multiply the base by the result of power() with a reduced exponent\n",
    "    return base*power(base, exponent - 1)\n",
    "\n",
    "    \n",
    "base=int(input())\n",
    "exponent=int(input())\n",
    "power(base, exponent)"
   ]
  },
  {
   "cell_type": "markdown",
   "id": "61d4d738",
   "metadata": {},
   "source": [
    "33. Write a Python program to remove duplicates from a list while preserving the order. "
   ]
  },
  {
   "cell_type": "code",
   "execution_count": 12,
   "id": "9d9f3f55",
   "metadata": {},
   "outputs": [
    {
     "name": "stdout",
     "output_type": "stream",
     "text": [
      "[3, 1, 2, 4, 6, 5]\n"
     ]
    }
   ],
   "source": [
    "# Using built-in function\n",
    "\n",
    "from collections import OrderedDict\n",
    "\n",
    "l=[3,3,1,1,2,4,6,5,5,4,4]\n",
    "res = list(OrderedDict.fromkeys(l))\n",
    "print(res)"
   ]
  },
  {
   "cell_type": "code",
   "execution_count": 13,
   "id": "5e17c0d0",
   "metadata": {},
   "outputs": [
    {
     "data": {
      "text/plain": [
       "[3, 1, 2, 4, 6, 5]"
      ]
     },
     "execution_count": 13,
     "metadata": {},
     "output_type": "execute_result"
    }
   ],
   "source": [
    "def remove_duplicates_preserve_order(lst):\n",
    "    '''\n",
    "    This function removes duplicates from a list while preserving the order using set\n",
    "    '''\n",
    "    seen = set()\n",
    "    new_lst = [x for x in lst if not (x in seen or seen.add(x))]\n",
    "    return new_lst\n",
    "\n",
    "lst=[3,3,1,1,2,4,6,5,5,4,4]\n",
    "remove_duplicates_preserve_order(lst)"
   ]
  },
  {
   "cell_type": "markdown",
   "id": "5857e1d3",
   "metadata": {},
   "source": [
    "34. Implement a function to find the longest common prefix among a list of strings. "
   ]
  },
  {
   "cell_type": "code",
   "execution_count": 15,
   "id": "a342fb47",
   "metadata": {},
   "outputs": [
    {
     "name": "stdout",
     "output_type": "stream",
     "text": [
      "['sai', 'sa','sais','saist']\n"
     ]
    },
    {
     "data": {
      "text/plain": [
       "'sa'"
      ]
     },
     "execution_count": 15,
     "metadata": {},
     "output_type": "execute_result"
    }
   ],
   "source": [
    "def longest_common_prefix(lst_str):\n",
    "    '''\n",
    "    This function finds the longest common prefix in list of strings\n",
    "    '''\n",
    "    prefix=lst_str[0]\n",
    "    for string in lst_str:    # iterating over list of strings\n",
    "        if string.startswith(prefix):    # check if string starts with prefix\n",
    "            pass\n",
    "        else:    # otherwise reduce the prefix with 1 character\n",
    "            prefix=prefix[:-1]\n",
    "    return prefix\n",
    "\n",
    "lst_str=eval(input())\n",
    "longest_common_prefix(lst_str)"
   ]
  },
  {
   "cell_type": "markdown",
   "id": "b9da139b",
   "metadata": {},
   "source": [
    "35. Write a program to check if a given number is a perfect square. "
   ]
  },
  {
   "cell_type": "code",
   "execution_count": 21,
   "id": "f4d1f707",
   "metadata": {},
   "outputs": [
    {
     "name": "stdout",
     "output_type": "stream",
     "text": [
      "2502\n",
      "No\n"
     ]
    }
   ],
   "source": [
    "from math import sqrt\n",
    "\n",
    "def perfect_sqrt(num):\n",
    "    '''\n",
    "    This function checks and returns True if given number is a perfect square\n",
    "    '''\n",
    "    if x>=0:\n",
    "        sqrt_num=sqrt(num)\n",
    "        return (sqrt_num*sqrt_num)==num\n",
    "    return False\n",
    "\n",
    "num=int(input())\n",
    "if (perfect_sqrt(num)):\n",
    "    print('Yes')\n",
    "else:\n",
    "    print('No')"
   ]
  },
  {
   "cell_type": "markdown",
   "id": "81f3eae2",
   "metadata": {},
   "source": [
    "36. Implement a function to calculate the product of all elements in a list. "
   ]
  },
  {
   "cell_type": "code",
   "execution_count": 29,
   "id": "2d8e459d",
   "metadata": {},
   "outputs": [
    {
     "name": "stdout",
     "output_type": "stream",
     "text": [
      "[1,2,3,4,5,6]\n"
     ]
    },
    {
     "data": {
      "text/plain": [
       "720"
      ]
     },
     "execution_count": 29,
     "metadata": {},
     "output_type": "execute_result"
    }
   ],
   "source": [
    "from numpy import multiply\n",
    "\n",
    "def product_lements(list_nums):\n",
    "    '''\n",
    "    This function returns the product of list of numbers\n",
    "    '''\n",
    "    res=1\n",
    "    for i in list_nums:\n",
    "        res*=i\n",
    "    return res\n",
    "\n",
    "list_nums=eval(input())\n",
    "product_lements(list_nums)"
   ]
  },
  {
   "cell_type": "markdown",
   "id": "9d1017e5",
   "metadata": {},
   "source": [
    "37. Write a Python program to reverse the order of words in a sentence while preserving the word order. "
   ]
  },
  {
   "cell_type": "code",
   "execution_count": 30,
   "id": "0dcf7847",
   "metadata": {},
   "outputs": [
    {
     "name": "stdout",
     "output_type": "stream",
     "text": [
      "['s', 'f', 'c']\n"
     ]
    },
    {
     "data": {
      "text/plain": [
       "['c', 'f', 's']"
      ]
     },
     "execution_count": 30,
     "metadata": {},
     "output_type": "execute_result"
    }
   ],
   "source": [
    "def reverse_word(w):\n",
    "    '''\n",
    "    This function returns the reversed order word sequennce\n",
    "    '''\n",
    "    reversed_words = sorted(w)\n",
    "    return reversed_words\n",
    "\n",
    "reverse_word(w=eval(input()))"
   ]
  },
  {
   "cell_type": "markdown",
   "id": "467ec816",
   "metadata": {},
   "source": [
    "38. Implement a function to find the missing number in a given list of consecutive numbers. "
   ]
  },
  {
   "cell_type": "code",
   "execution_count": 9,
   "id": "34a2a1ad",
   "metadata": {},
   "outputs": [
    {
     "name": "stdout",
     "output_type": "stream",
     "text": [
      "[1,2,4,5]\n",
      "3\n"
     ]
    }
   ],
   "source": [
    "def find_missing_number(numbers):\n",
    "    '''\n",
    "    This function prints the missing number in a list of consecutive numbers\n",
    "    '''\n",
    "    n = len(numbers)\n",
    "    expectedNumCount=n+1    # including missing numbeer count\n",
    "    for i in range(1,expectedNumCount):\n",
    "        if i not in numbers:    # check in the sequence\n",
    "            print(i)\n",
    "\n",
    "find_missing_number(numbers=eval(input()))"
   ]
  },
  {
   "cell_type": "markdown",
   "id": "b931466e",
   "metadata": {},
   "source": [
    "39. Write a program to find the sum of digits of a given number. "
   ]
  },
  {
   "cell_type": "code",
   "execution_count": 4,
   "id": "a19eefe0",
   "metadata": {},
   "outputs": [
    {
     "name": "stdout",
     "output_type": "stream",
     "text": [
      "254\n"
     ]
    },
    {
     "data": {
      "text/plain": [
       "11"
      ]
     },
     "execution_count": 4,
     "metadata": {},
     "output_type": "execute_result"
    }
   ],
   "source": [
    "def sum_of_digits(num):\n",
    "    '''\n",
    "    This function returns the the sum of digits of given number\n",
    "    '''\n",
    "    sum=0\n",
    "    temp=num\n",
    "    while temp:\n",
    "        rem=temp%10    # get reminder\n",
    "        sum+=rem    # adding to the sum\n",
    "        temp//=10    # reducing numbber\n",
    "        \n",
    "    return sum\n",
    "\n",
    "sum_of_digits(num=int(input()))"
   ]
  },
  {
   "cell_type": "markdown",
   "id": "be2873fd",
   "metadata": {},
   "source": [
    "40. Implement a function to check if a given string is a valid palindrome considering case sensitivity. "
   ]
  },
  {
   "cell_type": "code",
   "execution_count": 16,
   "id": "abcaee4d",
   "metadata": {},
   "outputs": [
    {
     "name": "stdout",
     "output_type": "stream",
     "text": [
      "Sas\n"
     ]
    },
    {
     "data": {
      "text/plain": [
       "True"
      ]
     },
     "execution_count": 16,
     "metadata": {},
     "output_type": "execute_result"
    }
   ],
   "source": [
    "def is_palindrome(s):\n",
    "    '''\n",
    "    This function handles cases sensitivity of a string and retuns True if it is a valid palindrome\n",
    "    '''\n",
    "    lower_case_str=s.lower()    # converting to lower case\n",
    "    reversed_str=lower_case_str[::-1]    # reverse string\n",
    "    return lower_case_str==reversed_str    # compare\n",
    "\n",
    "is_palindrome(s=input())"
   ]
  },
  {
   "cell_type": "markdown",
   "id": "9910d1f5",
   "metadata": {},
   "source": [
    "41. Write a Python program to find the smallest missing positive integer in a list. "
   ]
  },
  {
   "cell_type": "code",
   "execution_count": 13,
   "id": "57fe73b5",
   "metadata": {},
   "outputs": [
    {
     "name": "stdout",
     "output_type": "stream",
     "text": [
      "[1, 2, 3, 5, 7]\n",
      "4\n"
     ]
    }
   ],
   "source": [
    "def find_smallest_missing_positive(lst):\n",
    "    '''\n",
    "    This function will find the the minimum missing number in a squence\n",
    "    '''\n",
    "    lst = [x for x in lst if x > 0]    # Remove negative numbers and zeros from the list\n",
    "\n",
    "    max_num = max(lst)    # Find the maximum number in the list\n",
    "\n",
    "    all_nums = set(range(1, max_num+1))   # Create a set of all numbers from 1 to the maximum number\n",
    "\n",
    "    missing_nums = all_nums - set(lst)    # Find the missing numbers by subtracting the set of list numbers from the set of all numbers\n",
    "\n",
    "    return min(missing_nums)    # Return the smallest missing positive integer\n",
    "\n",
    "lst=eval(input())\n",
    "smallest_missing = find_smallest_missing_positive(lst)\n",
    "print(smallest_missing)\n"
   ]
  },
  {
   "cell_type": "markdown",
   "id": "d6aeed06",
   "metadata": {},
   "source": [
    "42. Implement a function to find the longest palindrome substring in a given string. "
   ]
  },
  {
   "cell_type": "code",
   "execution_count": null,
   "id": "b06eeb4d",
   "metadata": {},
   "outputs": [],
   "source": []
  },
  {
   "cell_type": "markdown",
   "id": "f5df2bd8",
   "metadata": {},
   "source": [
    "43. Write a program to find the number of occurrences of a given element in a list. "
   ]
  },
  {
   "cell_type": "code",
   "execution_count": 10,
   "id": "2a648871",
   "metadata": {},
   "outputs": [
    {
     "name": "stdout",
     "output_type": "stream",
     "text": [
      "1 2 3 7 7 7\n",
      "7\n"
     ]
    },
    {
     "data": {
      "text/plain": [
       "3"
      ]
     },
     "execution_count": 10,
     "metadata": {},
     "output_type": "execute_result"
    }
   ],
   "source": [
    "def element_occurrance(lst_ele, n):\n",
    "    '''\n",
    "    This function returns the occurance of a number in a sequence\n",
    "    '''\n",
    "    ans=0\n",
    "    for i in lst_ele:\n",
    "        if int(i)==n:\n",
    "            ans+=1\n",
    "    return ans\n",
    "\n",
    "lst_ele=map(int, input().split())\n",
    "n=int(input())\n",
    "element_occurrance(lst_ele, n)"
   ]
  },
  {
   "cell_type": "markdown",
   "id": "67433a1b",
   "metadata": {},
   "source": [
    "44. Implement a function to check if a given number is a perfect number."
   ]
  },
  {
   "cell_type": "code",
   "execution_count": 2,
   "id": "6dd7c7f9",
   "metadata": {},
   "outputs": [
    {
     "name": "stdout",
     "output_type": "stream",
     "text": [
      "28\n"
     ]
    },
    {
     "data": {
      "text/plain": [
       "True"
      ]
     },
     "execution_count": 2,
     "metadata": {},
     "output_type": "execute_result"
    }
   ],
   "source": [
    "def perfect_num(n):\n",
    "    if n==1:\n",
    "        return True\n",
    "    sum=0\n",
    "    for i in range(1,n):\n",
    "        if n%i==0:\n",
    "            sum+=i\n",
    "    return sum==n\n",
    "\n",
    "perfect_num(n=int(input()))"
   ]
  },
  {
   "cell_type": "markdown",
   "id": "7b73ae29",
   "metadata": {},
   "source": [
    "45. Write a Python program to remove all duplicates from a string."
   ]
  },
  {
   "cell_type": "code",
   "execution_count": 5,
   "id": "c9db1719",
   "metadata": {},
   "outputs": [
    {
     "name": "stdout",
     "output_type": "stream",
     "text": [
      "subhasish\n"
     ]
    },
    {
     "data": {
      "text/plain": [
       "'hsubia'"
      ]
     },
     "execution_count": 5,
     "metadata": {},
     "output_type": "execute_result"
    }
   ],
   "source": [
    "def remove_duplicates(string):\n",
    "    return ''.join(set(string))\n",
    "     \n",
    "remove_duplicates(input())"
   ]
  },
  {
   "cell_type": "markdown",
   "id": "62d5394c",
   "metadata": {},
   "source": [
    "46. Implement a function to find the first missing positive "
   ]
  },
  {
   "cell_type": "code",
   "execution_count": 8,
   "id": "47d56bde",
   "metadata": {},
   "outputs": [
    {
     "name": "stdout",
     "output_type": "stream",
     "text": [
      "1 2 4 5\n"
     ]
    },
    {
     "data": {
      "text/plain": [
       "3"
      ]
     },
     "execution_count": 8,
     "metadata": {},
     "output_type": "execute_result"
    }
   ],
   "source": [
    "def first_missing(nums):\n",
    "    '''\n",
    "    This function returs the first missing number\n",
    "    '''\n",
    "    lst=[x for x in nums if x>0]    # removing al the negative numbers\n",
    "    max_num=max(lst)    # find the maximum of list of numbers\n",
    "    all_nums=set(range(1,max_num+1))    # set of all numbers\n",
    "    missing_num=all_nums-set(lst)    # missing number from sequence\n",
    "    return min(missing_num)    # first missing\n",
    "\n",
    "first_missing(nums=map(int, input().split()))"
   ]
  }
 ],
 "metadata": {
  "kernelspec": {
   "display_name": "Python 3 (ipykernel)",
   "language": "python",
   "name": "python3"
  },
  "language_info": {
   "codemirror_mode": {
    "name": "ipython",
    "version": 3
   },
   "file_extension": ".py",
   "mimetype": "text/x-python",
   "name": "python",
   "nbconvert_exporter": "python",
   "pygments_lexer": "ipython3",
   "version": "3.10.9"
  }
 },
 "nbformat": 4,
 "nbformat_minor": 5
}
