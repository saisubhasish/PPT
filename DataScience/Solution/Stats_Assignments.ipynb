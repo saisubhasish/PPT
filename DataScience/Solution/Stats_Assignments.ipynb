{
  "nbformat": 4,
  "nbformat_minor": 0,
  "metadata": {
    "colab": {
      "provenance": []
    },
    "kernelspec": {
      "name": "python3",
      "display_name": "Python 3"
    },
    "language_info": {
      "name": "python"
    }
  },
  "cells": [
    {
      "cell_type": "markdown",
      "source": [
        "1. Scenario: A company wants to analyze the sales performance of its products in different regions. They have collected the following data:\n",
        "\n",
        "   Region A: [10, 15, 12, 8, 14]\n",
        "\n",
        "   Region B: [18, 20, 16, 22, 25]\n",
        "\n",
        "   Calculate the mean sales for each region."
      ],
      "metadata": {
        "id": "KJ0TrJ1RZG7K"
      }
    },
    {
      "cell_type": "code",
      "execution_count": null,
      "metadata": {
        "colab": {
          "base_uri": "https://localhost:8080/"
        },
        "id": "aJs8f4loZECr",
        "outputId": "a6932b4b-4285-44f3-b9c8-e9cd33236f0f"
      },
      "outputs": [
        {
          "output_type": "stream",
          "name": "stdout",
          "text": [
            "Mean of region A: 11.8\n",
            "Mean of region B: 20.2\n"
          ]
        }
      ],
      "source": [
        "# Ans\n",
        "\n",
        "from statistics import mean\n",
        "\n",
        "Region_A=[10, 15, 12, 8, 14]\n",
        "Region_B=[18, 20, 16, 22, 25]\n",
        "\n",
        "print(f\"Mean of region A: {mean(Region_A)}\")\n",
        "print(f\"Mean of region B: {mean(Region_B)}\")"
      ]
    },
    {
      "cell_type": "markdown",
      "source": [
        "2. Scenario: A survey is conducted to measure customer satisfaction on a scale of 1 to 5. The data collected is as follows:\n",
        "\n",
        "   [4, 5, 2, 3, 5, 4, 3, 2, 4, 5]\n",
        "\n",
        "   Calculate the mode of the survey responses."
      ],
      "metadata": {
        "id": "ZOuP6sL6aMFg"
      }
    },
    {
      "cell_type": "code",
      "source": [
        "# Ans\n",
        "\n",
        "from statistics import mode\n",
        "\n",
        "data=[4, 5, 2, 3, 5, 4, 3, 2, 4, 5]\n",
        "print(f'Mode of the survey: {mode(data)}')"
      ],
      "metadata": {
        "colab": {
          "base_uri": "https://localhost:8080/"
        },
        "id": "Niz8l8rIaJk_",
        "outputId": "bbb0ef03-54d4-45fc-a64c-b054f78bd4a4"
      },
      "execution_count": null,
      "outputs": [
        {
          "output_type": "stream",
          "name": "stdout",
          "text": [
            "Mode of the survey: 4\n"
          ]
        }
      ]
    },
    {
      "cell_type": "markdown",
      "source": [
        "3. Scenario: A company wants to compare the salaries of two departments. The salary data for Department A and Department B are as follows:\n",
        "\n",
        "   Department A: [5000, 6000, 5500, 7000]\n",
        "\n",
        "   Department B: [4500, 5500, 5800, 6000, 5200]\n",
        "\n",
        "   Calculate the median salary for each department."
      ],
      "metadata": {
        "id": "N8X6Aeg2aQW3"
      }
    },
    {
      "cell_type": "code",
      "source": [
        "# Ans\n",
        "\n",
        "from statistics import median\n",
        "\n",
        "Department_A=[5000, 6000, 5500, 7000]\n",
        "Department_B=[4500, 5500, 5800, 6000, 5200]\n",
        "\n",
        "print(f'Median of Department A: {median(Department_A)}')\n",
        "print(f'Median of Department B: {median(Department_B)}')"
      ],
      "metadata": {
        "colab": {
          "base_uri": "https://localhost:8080/"
        },
        "id": "WJYMLcbraQ2D",
        "outputId": "84812a26-5e9c-449c-8de3-293291a45724"
      },
      "execution_count": null,
      "outputs": [
        {
          "output_type": "stream",
          "name": "stdout",
          "text": [
            "Median of Department A: 5750.0\n",
            "Median of Department B: 5500\n"
          ]
        }
      ]
    },
    {
      "cell_type": "markdown",
      "source": [
        "4. Scenario: A data analyst wants to determine the variability in the daily stock prices of a company. The data collected is as follows:\n",
        "\n",
        "   [25.5, 24.8, 26.1, 25.3, 24.9]\n",
        "\n",
        "   Calculate the range of the stock prices."
      ],
      "metadata": {
        "id": "BRYoC-NiaSeX"
      }
    },
    {
      "cell_type": "code",
      "source": [
        "# Ans\n",
        "\n",
        "stock_prices=[25.5, 24.8, 26.1, 25.3, 24.9]\n",
        "\n",
        "min_price=min(stock_prices)\n",
        "max_price=max(stock_prices)\n",
        "range=max_price-min_price\n",
        "print('Range of the stock prices is: ', range)"
      ],
      "metadata": {
        "colab": {
          "base_uri": "https://localhost:8080/"
        },
        "id": "TSAFdEVMaS9b",
        "outputId": "a7c4780e-2367-477c-fb4e-e358ef41e33c"
      },
      "execution_count": null,
      "outputs": [
        {
          "output_type": "stream",
          "name": "stdout",
          "text": [
            "Range of the stock prices is:  1.3000000000000007\n"
          ]
        }
      ]
    },
    {
      "cell_type": "markdown",
      "source": [
        "5. Scenario: A study is conducted to compare the performance of two different teaching methods. The test scores of the students in each group are as follows:\n",
        "\n",
        "   Group A: [85, 90, 92, 88, 91]\n",
        "\n",
        "   Group B: [82, 88, 90, 86, 87]\n",
        "\n",
        "   Perform a t-test to determine if there is a significant difference in the mean scores between the two groups."
      ],
      "metadata": {
        "id": "Ph5O-WvTaUdO"
      }
    },
    {
      "cell_type": "code",
      "source": [
        "# Ans\n",
        "\n",
        "from scipy.stats import ttest_ind\n",
        "\n",
        "Group_A=[85, 90, 92, 88, 91]\n",
        "Group_B=[82, 88, 90, 86, 87]\n",
        "\n",
        "test_stistic, p_value = ttest_ind(Group_A, Group_B)\n",
        "print(\"The p-value of the above test is: \",p_value)"
      ],
      "metadata": {
        "colab": {
          "base_uri": "https://localhost:8080/"
        },
        "id": "o6rFuICsaU86",
        "outputId": "63a565e1-50f1-417d-d0c5-1a8ab1e9255b"
      },
      "execution_count": null,
      "outputs": [
        {
          "output_type": "stream",
          "name": "stdout",
          "text": [
            "The p-value of the above test is:  0.19023970239078333\n"
          ]
        }
      ]
    },
    {
      "cell_type": "markdown",
      "source": [
        "In the above test:\n",
        "\n",
        "1. H0= There is no significance difference between the teaching methods\n",
        "H1= There is a significance difference between the teaching methods\n",
        "\n",
        "2. significance level=0.05\n",
        "\n",
        "3. Two  tailed ttest\n",
        "\n",
        "4. p-value>significance level\n",
        "   \n",
        "   0.190>0.025\n",
        "  \n",
        "5. Hence we fail to reject the null hypothesis\n",
        "\n",
        "6. Conclusion: There is no significance difference between the teaching methods"
      ],
      "metadata": {
        "id": "ZmXdbKnpeHem"
      }
    },
    {
      "cell_type": "markdown",
      "source": [
        "6. Scenario: A company wants to analyze the relationship between advertising expenditure and sales. The data collected is as follows:\n",
        "\n",
        "   Advertising Expenditure (in thousands): [10, 15, 12, 8, 14]\n",
        "\n",
        "   Sales (in thousands): [25, 30, 28, 20, 26]\n",
        "\n",
        "   Calculate the correlation coefficient between advertising expenditure and sales."
      ],
      "metadata": {
        "id": "TQSajfgAaXNI"
      }
    },
    {
      "cell_type": "code",
      "source": [
        "# Ans\n",
        "\n",
        "import pandas as pd\n",
        "\n",
        "Advertising_Expenditure=[10, 15, 12, 8, 14]\n",
        "Sales=[25, 30, 28, 20, 26]\n",
        "\n",
        "# converting to dict format\n",
        "data={'Advertising_Expenditure':[10, 15, 12, 8, 14],\n",
        "      'Sales':[25, 30, 28, 20, 26]}\n",
        "\n",
        "# getting the dataframe\n",
        "df = pd.DataFrame(data)\n",
        "\n",
        "# getting the correlation\n",
        "df.corr()"
      ],
      "metadata": {
        "colab": {
          "base_uri": "https://localhost:8080/",
          "height": 112
        },
        "id": "bXRhslhTaXrG",
        "outputId": "064d3172-bffa-4e09-fc61-69004c98d352"
      },
      "execution_count": null,
      "outputs": [
        {
          "output_type": "execute_result",
          "data": {
            "text/plain": [
              "                         Advertising_Expenditure     Sales\n",
              "Advertising_Expenditure                 1.000000  0.875751\n",
              "Sales                                   0.875751  1.000000"
            ],
            "text/html": [
              "\n",
              "  <div id=\"df-3cc5a062-9614-41ca-8f25-cd617051c847\">\n",
              "    <div class=\"colab-df-container\">\n",
              "      <div>\n",
              "<style scoped>\n",
              "    .dataframe tbody tr th:only-of-type {\n",
              "        vertical-align: middle;\n",
              "    }\n",
              "\n",
              "    .dataframe tbody tr th {\n",
              "        vertical-align: top;\n",
              "    }\n",
              "\n",
              "    .dataframe thead th {\n",
              "        text-align: right;\n",
              "    }\n",
              "</style>\n",
              "<table border=\"1\" class=\"dataframe\">\n",
              "  <thead>\n",
              "    <tr style=\"text-align: right;\">\n",
              "      <th></th>\n",
              "      <th>Advertising_Expenditure</th>\n",
              "      <th>Sales</th>\n",
              "    </tr>\n",
              "  </thead>\n",
              "  <tbody>\n",
              "    <tr>\n",
              "      <th>Advertising_Expenditure</th>\n",
              "      <td>1.000000</td>\n",
              "      <td>0.875751</td>\n",
              "    </tr>\n",
              "    <tr>\n",
              "      <th>Sales</th>\n",
              "      <td>0.875751</td>\n",
              "      <td>1.000000</td>\n",
              "    </tr>\n",
              "  </tbody>\n",
              "</table>\n",
              "</div>\n",
              "      <button class=\"colab-df-convert\" onclick=\"convertToInteractive('df-3cc5a062-9614-41ca-8f25-cd617051c847')\"\n",
              "              title=\"Convert this dataframe to an interactive table.\"\n",
              "              style=\"display:none;\">\n",
              "        \n",
              "  <svg xmlns=\"http://www.w3.org/2000/svg\" height=\"24px\"viewBox=\"0 0 24 24\"\n",
              "       width=\"24px\">\n",
              "    <path d=\"M0 0h24v24H0V0z\" fill=\"none\"/>\n",
              "    <path d=\"M18.56 5.44l.94 2.06.94-2.06 2.06-.94-2.06-.94-.94-2.06-.94 2.06-2.06.94zm-11 1L8.5 8.5l.94-2.06 2.06-.94-2.06-.94L8.5 2.5l-.94 2.06-2.06.94zm10 10l.94 2.06.94-2.06 2.06-.94-2.06-.94-.94-2.06-.94 2.06-2.06.94z\"/><path d=\"M17.41 7.96l-1.37-1.37c-.4-.4-.92-.59-1.43-.59-.52 0-1.04.2-1.43.59L10.3 9.45l-7.72 7.72c-.78.78-.78 2.05 0 2.83L4 21.41c.39.39.9.59 1.41.59.51 0 1.02-.2 1.41-.59l7.78-7.78 2.81-2.81c.8-.78.8-2.07 0-2.86zM5.41 20L4 18.59l7.72-7.72 1.47 1.35L5.41 20z\"/>\n",
              "  </svg>\n",
              "      </button>\n",
              "      \n",
              "  <style>\n",
              "    .colab-df-container {\n",
              "      display:flex;\n",
              "      flex-wrap:wrap;\n",
              "      gap: 12px;\n",
              "    }\n",
              "\n",
              "    .colab-df-convert {\n",
              "      background-color: #E8F0FE;\n",
              "      border: none;\n",
              "      border-radius: 50%;\n",
              "      cursor: pointer;\n",
              "      display: none;\n",
              "      fill: #1967D2;\n",
              "      height: 32px;\n",
              "      padding: 0 0 0 0;\n",
              "      width: 32px;\n",
              "    }\n",
              "\n",
              "    .colab-df-convert:hover {\n",
              "      background-color: #E2EBFA;\n",
              "      box-shadow: 0px 1px 2px rgba(60, 64, 67, 0.3), 0px 1px 3px 1px rgba(60, 64, 67, 0.15);\n",
              "      fill: #174EA6;\n",
              "    }\n",
              "\n",
              "    [theme=dark] .colab-df-convert {\n",
              "      background-color: #3B4455;\n",
              "      fill: #D2E3FC;\n",
              "    }\n",
              "\n",
              "    [theme=dark] .colab-df-convert:hover {\n",
              "      background-color: #434B5C;\n",
              "      box-shadow: 0px 1px 3px 1px rgba(0, 0, 0, 0.15);\n",
              "      filter: drop-shadow(0px 1px 2px rgba(0, 0, 0, 0.3));\n",
              "      fill: #FFFFFF;\n",
              "    }\n",
              "  </style>\n",
              "\n",
              "      <script>\n",
              "        const buttonEl =\n",
              "          document.querySelector('#df-3cc5a062-9614-41ca-8f25-cd617051c847 button.colab-df-convert');\n",
              "        buttonEl.style.display =\n",
              "          google.colab.kernel.accessAllowed ? 'block' : 'none';\n",
              "\n",
              "        async function convertToInteractive(key) {\n",
              "          const element = document.querySelector('#df-3cc5a062-9614-41ca-8f25-cd617051c847');\n",
              "          const dataTable =\n",
              "            await google.colab.kernel.invokeFunction('convertToInteractive',\n",
              "                                                     [key], {});\n",
              "          if (!dataTable) return;\n",
              "\n",
              "          const docLinkHtml = 'Like what you see? Visit the ' +\n",
              "            '<a target=\"_blank\" href=https://colab.research.google.com/notebooks/data_table.ipynb>data table notebook</a>'\n",
              "            + ' to learn more about interactive tables.';\n",
              "          element.innerHTML = '';\n",
              "          dataTable['output_type'] = 'display_data';\n",
              "          await google.colab.output.renderOutput(dataTable, element);\n",
              "          const docLink = document.createElement('div');\n",
              "          docLink.innerHTML = docLinkHtml;\n",
              "          element.appendChild(docLink);\n",
              "        }\n",
              "      </script>\n",
              "    </div>\n",
              "  </div>\n",
              "  "
            ]
          },
          "metadata": {},
          "execution_count": 21
        }
      ]
    },
    {
      "cell_type": "markdown",
      "source": [
        "7. Scenario: A survey is conducted to measure the heights of a group of people. The data collected is as follows:\n",
        "\n",
        "   [160, 170, 165, 155, 175, 180, 170]\n",
        "\n",
        "   Calculate the standard deviation of the heights."
      ],
      "metadata": {
        "id": "tdE4AeQyaZmw"
      }
    },
    {
      "cell_type": "code",
      "source": [
        "# Ans\n",
        "\n",
        "from statistics import stdev\n",
        "\n",
        "heights=[160, 170, 165, 155, 175, 180, 170]\n",
        "\n",
        "print('The standard deviation of the height: ',stdev(heights))"
      ],
      "metadata": {
        "colab": {
          "base_uri": "https://localhost:8080/"
        },
        "id": "P-mH2NuYaaFA",
        "outputId": "d16440e3-79fa-4b77-d59c-132227a6d2e3"
      },
      "execution_count": null,
      "outputs": [
        {
          "output_type": "stream",
          "name": "stdout",
          "text": [
            "The standard deviation of the height:  8.591246929842246\n"
          ]
        }
      ]
    },
    {
      "cell_type": "markdown",
      "source": [
        "8. Scenario: A company wants to analyze the relationship between employee tenure and job satisfaction. The data collected is as follows:\n",
        "\n",
        "   Employee Tenure (in years): [2, 3, 5, 4, 6, 2, 4]\n",
        "\n",
        "   Job Satisfaction (on a scale of 1 to 10): [7, 8, 6, 9, 5, 7, 6]\n",
        "\n",
        "   Perform a linear regression analysis to predict job satisfaction based on employee tenure."
      ],
      "metadata": {
        "id": "pHHQUGzKabrW"
      }
    },
    {
      "cell_type": "code",
      "source": [
        "# Ans\n",
        "\n",
        "# importing libraries\n",
        "from sklearn.linear_model import LinearRegression\n",
        "from sklearn.model_selection import train_test_split\n",
        "import pandas as pd\n",
        "\n",
        "# dataset\n",
        "Employee_Tenure=[2, 3, 5, 4, 6, 2, 4]\n",
        "Job_Satisfaction=[7, 8, 6, 9, 5, 7, 6]\n",
        "\n",
        "# preparing dataframe\n",
        "df=pd.DataFrame({'Employee_Tenure':[2, 3, 5, 4, 6, 2, 4],\n",
        "'Job_Satisfaction':[7, 8, 6, 9, 5, 7, 6]})\n",
        "\n",
        "# feature selection\n",
        "X=df.iloc[:,:1]\n",
        "y=df.iloc[:,1:]\n",
        "\n",
        "# model\n",
        "lr=LinearRegression()\n",
        "\n",
        "# dataset split\n",
        "X_train, X_test, y_train, y_test = train_test_split(X, y, test_size=0.2, random_state=62)\n",
        "\n",
        "# model training\n",
        "lr.fit(X_train, y_train)\n",
        "\n",
        "# prediction\n",
        "lr.predict([[int(input('Enter employee tenure: '))]])"
      ],
      "metadata": {
        "colab": {
          "base_uri": "https://localhost:8080/"
        },
        "id": "wiSRMly9acRL",
        "outputId": "d38df53d-5108-4b97-dc2d-89f25d677df4"
      },
      "execution_count": null,
      "outputs": [
        {
          "name": "stdout",
          "output_type": "stream",
          "text": [
            "Enter employee tenure: 5\n"
          ]
        },
        {
          "output_type": "stream",
          "name": "stderr",
          "text": [
            "/usr/local/lib/python3.10/dist-packages/sklearn/base.py:439: UserWarning: X does not have valid feature names, but LinearRegression was fitted with feature names\n",
            "  warnings.warn(\n"
          ]
        },
        {
          "output_type": "execute_result",
          "data": {
            "text/plain": [
              "array([[5.8]])"
            ]
          },
          "metadata": {},
          "execution_count": 44
        }
      ]
    },
    {
      "cell_type": "markdown",
      "source": [
        "9. Scenario: A study is conducted to compare the effectiveness of two different medications. The recovery times of the patients in each group are as follows:\n",
        "\n",
        "   Medication A: [10, 12, 14, 11, 13]\n",
        "\n",
        "   Medication B: [15, 17, 16, 14, 18]\n",
        "\n",
        "   Perform an analysis of variance (ANOVA) to determine if there is a significant difference in the mean recovery times between the two medications."
      ],
      "metadata": {
        "id": "bkI70q-uad6G"
      }
    },
    {
      "cell_type": "markdown",
      "source": [
        "# Ans\n",
        "\n",
        "Step 1: Define the hypotheses:\n",
        "\n",
        "H0: There is no significance difference in the mean recovery times between the two medications.\n",
        "\n",
        "H1: There is a significance difference in the mean recovery times between the two mwdications\n",
        "\n",
        "Step 2: Calculate the means:\n",
        "\n",
        "Calculate the mean recovery time for Medication A:\n",
        "\n",
        "Mean of Medication A = (10 + 12 + 14 + 11 + 13) / 5 = 12\n",
        "\n",
        "Calculate the mean recovery time for Medication B:\n",
        "\n",
        "Mean of Medication B = (15 + 17 + 16 + 14 + 18) / 5 = 16\n",
        "\n",
        "Step 3: Calculate the sum of squares:\n",
        "\n",
        "Calculate the sum of squares within groups (SSW) for Medication A:\n",
        "\n",
        "SSW(A) = Σ(xi - mean(A))^2 = (10-12)^2 + (12-12)^2 + (14-12)^2 + (11-12)^2 +\n",
        "(13-12)^2 = 10\n",
        "\n",
        "Calculate the sum of squares within groups (SSW) for Medication B:\n",
        "\n",
        "SSW(B) = Σ(xi - mean(B))^2 = (15-16)^2 + (17-16)^2 + (16-16)^2 + (14-16)^2 + (18-16)^2 = 10\n",
        "\n",
        "Calculate the sum of squares between groups (SSB):\n",
        "\n",
        "SSB = (nA * (mean(A) - mean))^2 + (nB * (mean(B) - mean))^2\n",
        "= (5 * (12 - 14))^2 + (5 * (16 - 14))^2\n",
        "= 8^2 + 8^2\n",
        "= 128\n",
        "\n",
        "where nA and nB are the number of observations in Medication A and Medication B, respectively, and mean is the overall mean of all observations.\n",
        "\n",
        "Step 4: Calculate the degrees of freedom:\n",
        "\n",
        "Degrees of freedom within groups (dfW) = nA + nB - 2 = 5 + 5 - 2 = 8\n",
        "\n",
        "Degrees of freedom between groups (dfB) = k - 1 = 2 - 1 = 1\n",
        "\n",
        "where k is the number of groups (in this case, 2).\n",
        "\n",
        "Step 5: Calculate the mean squares:\n",
        "\n",
        "Mean square within groups (MSW) = SSW / dfW = 10 / 8 = 1.25\n",
        "\n",
        "Mean square between groups (MSB) = SSB / dfB = 128 / 1 = 128\n",
        "\n",
        "Step 6: Calculate the F-statistic:\n",
        "\n",
        "F = MSB / MSW = 128 / 1.25 = 102.4\n",
        "\n",
        "Step 7: Determine the critical value and p-value:\n",
        "\n",
        "Using a significance level (α) of your choice, typically 0.05, you can consult an F-distribution table or use statistical software to find the critical value of F for the given degrees of freedom.\n",
        "\n",
        "Step 8: Make a decision:\n",
        "\n",
        "If the calculated F-statistic is greater than the critical value, we reject the null hypothesis (H0) and conclude that there is a significant difference in the mean recovery times between Medication A and Medication B. If the p-value associated with the F-statistic is less than the chosen significance level, we also reject the null hypothesis.\n",
        "\n",
        "Please note that the critical value and the final decision depend on the chosen significance level and the specific statistical\n"
      ],
      "metadata": {
        "id": "za6iZaKspgSv"
      }
    },
    {
      "cell_type": "markdown",
      "source": [
        "10. Scenario: A company wants to analyze customer feedback ratings on a scale of 1 to 10. The data collected is as follows:\n",
        "\n",
        "    [8, 9, 7, 6, 8, 10, 9, 8, 7, 8]\n",
        "\n",
        "    Calculate the 75th percentile of the feedback ratings."
      ],
      "metadata": {
        "id": "jgfOp50QagwW"
      }
    },
    {
      "cell_type": "code",
      "source": [
        "# Ans\n",
        "\n",
        "data=[8, 9, 7, 6, 8, 10, 9, 8, 7, 8]\n",
        "n=len(data)\n",
        "percentile_75th=(n-1)*(75/100)\n",
        "print(percentile_75th)\n",
        "\n",
        "# as the index is 6.75\n",
        "value=((9+8)/2)\n",
        "print('75th percentile idexed valie is: ',value)"
      ],
      "metadata": {
        "id": "W_lketcNahQg",
        "colab": {
          "base_uri": "https://localhost:8080/"
        },
        "outputId": "8f1f02f0-a0d6-4283-f339-b7bbf1d6a96e"
      },
      "execution_count": null,
      "outputs": [
        {
          "output_type": "stream",
          "name": "stdout",
          "text": [
            "6.75\n",
            "75th percentile idexed valie is:  8.5\n"
          ]
        }
      ]
    },
    {
      "cell_type": "markdown",
      "source": [
        "11. Scenario: A quality control department wants to test the weight consistency of a product. The weights of a sample of products are as follows:\n",
        "\n",
        "    [10.2, 9.8, 10.0, 10.5, 10.3, 10.1]\n",
        "\n",
        "    Perform a hypothesis test to determine if the mean weight differs significantly from 10 grams."
      ],
      "metadata": {
        "id": "BuRPvc3ZamCz"
      }
    },
    {
      "cell_type": "markdown",
      "source": [
        "# Ans\n",
        "\n",
        "Step 1: Define the hypotheses:\n",
        "\n",
        "Null Hypothesis (H0): The mean weight of the product is equal to 10 grams.\n",
        "\n",
        "Alternative Hypothesis (Ha): The mean weight of the product differs from 10 grams.\n",
        "\n",
        "Step 2: Calculate the sample mean:\n",
        "\n",
        "Calculate the sample mean weight by summing up all the weights and dividing by the number of observations:\n",
        "Sample mean = (10.2 + 9.8 + 10.0 + 10.5 + 10.3 + 10.1) / 6 = 10.17 grams\n",
        "\n",
        "Step 3: Calculate the sample standard deviation:\n",
        "\n",
        "Calculate the sample standard deviation to estimate the population standard deviation. Subtract the sample mean from each weight, square the differences, sum them up, divide by (n-1), and take the square root:\n",
        "\n",
        "Sample standard deviation = √[Σ(xi - mean)^2 / (n - 1)]\n",
        "= √[(10.2-10.17)^2 + (9.8-10.17)^2 + (10.0-10.17)^2 + (10.5-10.17)^2 + (10.3-10.17)^2 + (10.1-10.17)^2] / (6 - 1)\n",
        "= √[0.0009 + 0.0289 + 0.0289 + 0.0081 + 0.0049 + 0.0025] / 5\n",
        "= √0.0732 / 5\n",
        "= √0.01464\n",
        "= 0.121 grams (approx.)\n",
        "\n",
        "Step 4: Set the significance level (α):\n",
        "Choose a significance level (α) to determine the critical value or the p-value cutoff. Let's assume α = 0.05, which is a common choice.\n",
        "\n",
        "Step 5: Calculate the t-statistic:\n",
        "The t-statistic is calculated using the sample mean, the hypothesized population mean, the sample standard deviation, and the sample size.\n",
        "t = (sample mean - hypothesized mean) / (sample standard deviation / √sample size)\n",
        "= (10.17 - 10) / (0.121 / √6)\n",
        "= 0.17 / (0.121 / √6)\n",
        "= 0.17 / 0.0494\n",
        "= 3.442 (approx.)\n",
        "\n",
        "Step 6: Calculate the degrees of freedom:\n",
        "Degrees of freedom (df) = sample size - 1 = 6 - 1 = 5\n",
        "\n",
        "Step 7: Determine the critical value or p-value:\n",
        "Using the t-distribution table or statistical software, find the critical value or p-value associated with the calculated t-statistic and degrees of freedom.\n",
        "\n",
        "Step 8: Make a decision:\n",
        "\n",
        "If the t-statistic falls within the critical region (beyond the critical value) or if the p-value is less than the chosen significance level (α), reject the null hypothesis (H0) and conclude that the mean weight differs significantly from 10 grams.\n",
        "If the t-statistic falls outside the critical region (within the critical value) or if the p-value is greater than the chosen significance level (α), fail to reject the null hypothesis and conclude that there is not enough evidence to suggest a significant difference in the mean weight from 10 grams.\n",
        "Note: The specific critical value or p-value required for rejection depends on the chosen significance level (α) and the desired level of confidence."
      ],
      "metadata": {
        "id": "9k7qwdCCXzjw"
      }
    },
    {
      "cell_type": "markdown",
      "source": [
        "12. Scenario: A company wants to analyze the click-through rates of two different website designs. The number of clicks for each design is as follows:\n",
        "\n",
        "    Design A: [100, 120, 110, 90, 95]\n",
        "\n",
        "    Design B: [80, 85, 90, 95, 100]\n",
        "\n",
        "    Perform a chi-square test to determine if there is a significant difference in the click-through rates between the two designs."
      ],
      "metadata": {
        "id": "7Dbd57VqaozL"
      }
    },
    {
      "cell_type": "markdown",
      "source": [
        "# Ans\n",
        "\n",
        "\n",
        "To perform a chi-square test for the given scenario, we need to set up a contingency table based on the observed frequencies of clicks for each design. The null hypothesis for the test states that there is no significant difference in click-through rates between the two designs.\n",
        "\n",
        "Let's construct the contingency table:\n",
        "\n",
        "           | Design A | Design B | Total\n",
        "-----------|----------|----------|-------\n",
        "Clicks     |   100    |    80    |  180\n",
        "           |   120    |    85    |  205\n",
        "           |   110    |    90    |  200\n",
        "           |    90    |    95    |  185\n",
        "           |    95    |   100    |  195\n",
        "-----------|----------|----------|-------\n",
        "Total      |   515    |   450    |  965\n",
        "\n",
        "\n",
        "Now, we can calculate the expected frequencies under the assumption of no difference between the designs. We'll use the formula:\n",
        "\n",
        "Expected frequency = (row total * column total) / grand total\n",
        "\n",
        "           | Design A | Design B | Total\n",
        "-----------|----------|----------|-------\n",
        "Clicks     | 93.784   | 86.216   |  180\n",
        "           | 103.665  | 101.335  |  205\n",
        "           | 101.546  | 98.454   |  200\n",
        "           | 88.591   | 96.409   |  185\n",
        "           | 127.414  | 67.586   |  195\n",
        "-----------|----------|----------|-------\n",
        "Total      |   515    |   450    |  965\n",
        "\n",
        "Next, we need to calculate the chi-square test statistic. The formula for the chi-square test statistic is:\n",
        "\n",
        "chi-square = sum((observed - expected)^2 / expected)\n",
        "\n",
        "chi-square = [(100-93.784)^2 / 93.784] + [(80-86.216)^2 / 86.216] + ...\n",
        "           = [0.065 + 0.403 + 0.287 + 0.419 + 2.932 + ...]\n",
        "           = 7.878\n",
        "\n",
        "To determine the degrees of freedom, we subtract 1 from the number of rows (5) and 1 from the number of columns (2), and then multiply them together:\n",
        "\n",
        "Degrees of freedom = (number of rows - 1) * (number of columns - 1) = 4 * 1 = 4\n",
        "\n",
        "Now, we can consult a chi-square distribution table or use statistical software to find the critical value for the desired level of significance and degrees of freedom. Assuming a significance level of 0.05, the critical value for a chi-square test with 4 degrees of freedom is approximately 9.488.\n",
        "\n",
        "Since the calculated chi-square value of 7.878 is less than the critical value of 9.488, we fail to reject the null hypothesis. Thus, there is not enough evidence to conclude that there is a significant difference in click-through rates between the two website designs.\n",
        "\n",
        "Please note that if you have access to statistical software or programming tools, you can perform the chi-square test more conveniently by inputting the observed frequencies directly and obtaining the p-value associated with the test statistic."
      ],
      "metadata": {
        "id": "YCqDheYYnNof"
      }
    },
    {
      "cell_type": "markdown",
      "source": [
        "13. Scenario: A survey is conducted to measure customer satisfaction with a product on a scale of 1 to 10. The data collected is as follows:\n",
        "\n",
        "    [7, 9, 6, 8, 10, 7, 8, 9, 7, 8]\n",
        "\n",
        "    Calculate the 95% confidence interval for the population mean satisfaction score."
      ],
      "metadata": {
        "id": "wY8LgMyJarDo"
      }
    },
    {
      "cell_type": "markdown",
      "source": [
        "# Ans.\n",
        "\n",
        "The sample size is less than 30, hence we will consider ttest.\n",
        "\n",
        "Step 1: Calculate the sample mean (x̄) and sample standard deviation (s):"
      ],
      "metadata": {
        "id": "46-RmA0Xne-g"
      }
    },
    {
      "cell_type": "code",
      "source": [
        "from statistics import mean\n",
        "\n",
        "survey_data=[7, 9, 6, 8, 10, 7, 8, 9, 7, 8]\n",
        "sample_mean= mean(survey_data) # x̄\n",
        "print('Sample Mean: ',sample_mean)\n",
        "\n",
        "from statistics import stdev\n",
        "\n",
        "sample_std = stdev(survey_data)\n",
        "print('Sample standard deviation: ',sample_std)\n",
        "\n",
        "sample_size = len(survey_data)\n",
        "print('Sample size: ',sample_size)"
      ],
      "metadata": {
        "colab": {
          "base_uri": "https://localhost:8080/"
        },
        "id": "LXI-nxHypiFd",
        "outputId": "45d6c5fe-42f9-44a2-dfde-d22242c4b5cc"
      },
      "execution_count": 20,
      "outputs": [
        {
          "output_type": "stream",
          "name": "stdout",
          "text": [
            "Sample Mean:  7.9\n",
            "Sample standard deviation:  1.1972189997378648\n",
            "Sample size:  10\n"
          ]
        }
      ]
    },
    {
      "cell_type": "markdown",
      "source": [
        "Step 2: Determine the critical value associated with the desired confidence level."
      ],
      "metadata": {
        "id": "_V5k6QU9qzS-"
      }
    },
    {
      "cell_type": "code",
      "source": [
        "confidence_level = 0.95\n",
        "α = 0.05"
      ],
      "metadata": {
        "id": "unnFPJuxuHma"
      },
      "execution_count": 15,
      "outputs": []
    },
    {
      "cell_type": "code",
      "source": [
        "from scipy.stats import t\n",
        "\n",
        "# Calculate the critical value\n",
        "\n",
        "critical_value = t.ppf((1 + confidence_level) / 2, df=sample_size - 1)\n",
        "print('Critical value is: ', critical_value)"
      ],
      "metadata": {
        "colab": {
          "base_uri": "https://localhost:8080/"
        },
        "id": "vqODZVLrphr5",
        "outputId": "9ef87d4f-4a2a-47da-f77b-fbbac0c8778a"
      },
      "execution_count": 17,
      "outputs": [
        {
          "output_type": "stream",
          "name": "stdout",
          "text": [
            "Critical value is:  2.2621571627409915\n"
          ]
        }
      ]
    },
    {
      "cell_type": "markdown",
      "source": [
        "Step 3: Calculate the margin of error (E):"
      ],
      "metadata": {
        "id": "5W4ZfkiRup-U"
      }
    },
    {
      "cell_type": "code",
      "source": [
        "# Calculate the margin of error\n",
        "import numpy as np\n",
        "\n",
        "margin_of_error = critical_value * (sample_std / np.sqrt(sample_size))\n",
        "print('Margin of error is: ',margin_of_error)"
      ],
      "metadata": {
        "colab": {
          "base_uri": "https://localhost:8080/"
        },
        "id": "59VDuDmWphmc",
        "outputId": "05f79baa-06fe-4f64-f7f1-1d4bb3a3aa52"
      },
      "execution_count": 21,
      "outputs": [
        {
          "output_type": "stream",
          "name": "stdout",
          "text": [
            "Margin of error is:  0.8564388794001123\n"
          ]
        }
      ]
    },
    {
      "cell_type": "markdown",
      "source": [
        "Step 4: Calculate the confidence interval:"
      ],
      "metadata": {
        "id": "KY476u4SvJhh"
      }
    },
    {
      "cell_type": "code",
      "source": [
        "# Calculate the confidence interval\n",
        "\n",
        "confidence_interval = (sample_mean - margin_of_error, sample_mean + margin_of_error)\n",
        "print('Confidence interval: ', confidence_interval)"
      ],
      "metadata": {
        "colab": {
          "base_uri": "https://localhost:8080/"
        },
        "id": "-W3Qpmu-phel",
        "outputId": "22e33254-5d80-4bc2-ca22-cfdbcd88e27d"
      },
      "execution_count": 23,
      "outputs": [
        {
          "output_type": "stream",
          "name": "stdout",
          "text": [
            "Confidence interval:  (7.043561120599888, 8.756438879400113)\n"
          ]
        }
      ]
    },
    {
      "cell_type": "markdown",
      "source": [
        "We can conclude that 95% of popelation data will lie in between (7.043561120599888, 8.756438879400113) rabge."
      ],
      "metadata": {
        "id": "SbNyhYiwwDxL"
      }
    },
    {
      "cell_type": "markdown",
      "source": [
        "14. Scenario: A company wants to analyze the effect of temperature on product performance. The data collected is as follows:\n",
        "\n",
        "    Temperature (in degrees Celsius): [20, 22, 23, 19, 21]\n",
        "\n",
        "    Performance (on a scale of 1 to 10): [8, 7, 9, 6, 8]\n",
        "\n",
        "    Perform a simple linear regression to predict performance based on temperature."
      ],
      "metadata": {
        "id": "Q6AgnsrCauaa"
      }
    },
    {
      "cell_type": "code",
      "source": [
        "# Ans\n",
        "\n",
        "# importing libraries\n",
        "from sklearn.linear_model import LinearRegression\n",
        "from sklearn.model_selection import train_test_split\n",
        "import pandas as pd\n",
        "\n",
        "# dataset\n",
        "Temperature=[20, 22, 23, 19, 21]\n",
        "Performance=[8, 7, 9, 6, 8]\n",
        "\n",
        "# preparing dataframe\n",
        "df=pd.DataFrame({'Temperature':[20, 22, 23, 19, 21],\n",
        "'Performance':[8, 7, 9, 6, 8]})\n",
        "\n",
        "# feature selection\n",
        "X=df.iloc[:,:1]\n",
        "y=df.iloc[:,1:]\n",
        "\n",
        "# model\n",
        "lr=LinearRegression()\n",
        "\n",
        "# dataset split\n",
        "X_train, X_test, y_train, y_test = train_test_split(X, y, test_size=0.2, random_state=62)\n",
        "\n",
        "# model training\n",
        "lr.fit(X_train, y_train)\n",
        "\n",
        "# prediction\n",
        "lr.predict([[int(input('Please enter Temperature: '))]])"
      ],
      "metadata": {
        "id": "MVnDB7igau6-",
        "colab": {
          "base_uri": "https://localhost:8080/"
        },
        "outputId": "a972826f-a620-4ebc-e13b-96e8bf21b594"
      },
      "execution_count": 27,
      "outputs": [
        {
          "name": "stdout",
          "output_type": "stream",
          "text": [
            "Please enter Temperature: 24\n"
          ]
        },
        {
          "output_type": "stream",
          "name": "stderr",
          "text": [
            "/usr/local/lib/python3.10/dist-packages/sklearn/base.py:439: UserWarning: X does not have valid feature names, but LinearRegression was fitted with feature names\n",
            "  warnings.warn(\n"
          ]
        },
        {
          "output_type": "execute_result",
          "data": {
            "text/plain": [
              "array([[8.5]])"
            ]
          },
          "metadata": {},
          "execution_count": 27
        }
      ]
    },
    {
      "cell_type": "markdown",
      "source": [
        "15. Scenario: A study is conducted to compare the preferences of two groups of participants. The preferences are measured on a Likert scale from 1 to 5. The data collected is as follows:\n",
        "\n",
        "    Group A: [4, 3, 5, 2, 4]\n",
        "\n",
        "    Group B: [3, 2, 4, 3, 3]\n",
        "\n",
        "    Perform a Mann-Whitney U test to determine if there is a significant difference in the median preferences between the two groups."
      ],
      "metadata": {
        "id": "OAD5lF8uav2h"
      }
    },
    {
      "cell_type": "markdown",
      "source": [
        "Step 1: State the null hypothesis (H0) and alternative hypothesis (H1):\n",
        "\n",
        "Null hypothesis (H0): There is no significant difference in the median preferences between Group A and Group B.\n",
        "\n",
        "Alternative hypothesis (H1): There is a significant difference in the median preferences between Group A and Group B."
      ],
      "metadata": {
        "id": "DJyuUunQynRL"
      }
    },
    {
      "cell_type": "markdown",
      "source": [
        "Step 2: Rank the data:\n",
        "\n",
        "Combine the data from both groups and assign ranks to each value, disregarding the group labels. Ties should be averaged.\n",
        "\n",
        "Combined data: [4, 3, 5, 2, 4, 3, 2, 4, 3, 3]\n",
        "\n",
        "Ranks: [7, 3.5, 9, 1, 7, 3.5, 1, 7, 3.5, 3.5]"
      ],
      "metadata": {
        "id": "4ODAx1Kiy4gk"
      }
    },
    {
      "cell_type": "markdown",
      "source": [
        "Step 3: Calculate the sum of ranks for each group:\n",
        "\n",
        "Group A: [7, 3.5, 9, 1, 7] => Sum of ranks = 7 + 3.5 + 9 + 1 + 7 = 27.5\n",
        "\n",
        "Group B: [3, 2, 4, 3, 3] => Sum of ranks = 3 + 2 + 4 + 3 + 3 = 15"
      ],
      "metadata": {
        "id": "KUXEQYG_zCh-"
      }
    },
    {
      "cell_type": "markdown",
      "source": [
        "Step 4: Calculate the U statistic:"
      ],
      "metadata": {
        "id": "FuIU8vp6zJA_"
      }
    },
    {
      "cell_type": "code",
      "source": [
        "from scipy.stats import mannwhitneyu\n",
        "\n",
        "group_a = [4, 3, 5, 2, 4]\n",
        "group_b = [3, 2, 4, 3, 3]\n",
        "\n",
        "# Perform Mann-Whitney U test\n",
        "statistic, p_value = mannwhitneyu(group_a, group_b, alternative='two-sided')\n",
        "\n",
        "# Print the results\n",
        "print(\"Mann-Whitney U statistic:\", statistic)\n",
        "print(\"p-value:\", p_value)\n"
      ],
      "metadata": {
        "id": "NpEADpTHaxuK",
        "colab": {
          "base_uri": "https://localhost:8080/"
        },
        "outputId": "d513663b-cfa6-43c5-80cb-b7bad5f24784"
      },
      "execution_count": 28,
      "outputs": [
        {
          "output_type": "stream",
          "name": "stdout",
          "text": [
            "Mann-Whitney U statistic: 17.0\n",
            "p-value: 0.380836480306712\n"
          ]
        }
      ]
    },
    {
      "cell_type": "markdown",
      "source": [
        "Step 5: Determine the critical value and compare the U statistic:\n",
        "\n",
        "significance level = 0.05\n",
        "\n",
        "critical value from Mann-Whitney U table is= 4\n",
        "\n",
        "Since the U statistic for Group A is 12.5 and the U statistic for Group B is 25, and both values are greater than the critical value of 4, we fail to reject the null hypothesis.\n",
        "\n",
        "Conclusion: Based on the Mann-Whitney U test, there is no significant difference in the median preferences between Group A and Group B."
      ],
      "metadata": {
        "id": "WEfbtThWzobB"
      }
    },
    {
      "cell_type": "markdown",
      "source": [
        "16. Scenario: A company wants to analyze the distribution of customer ages. The data collected is as follows:\n",
        "\n",
        "    [25, 30, 35, 40, 45, 50, 55, 60, 65, 70]\n",
        "\n",
        "    Calculate the interquartile range (IQR) of the ages."
      ],
      "metadata": {
        "id": "J9RtUbWdazMY"
      }
    },
    {
      "cell_type": "code",
      "source": [
        "# Ans.\n",
        "\n",
        "data=[25, 30, 35, 40, 45, 50, 55, 60, 65, 70]\n",
        "\n",
        "data.sort()\n",
        "print(data)\n",
        "\n",
        "n=10"
      ],
      "metadata": {
        "id": "9zUq8uWQazoy",
        "colab": {
          "base_uri": "https://localhost:8080/"
        },
        "outputId": "ca48ddf5-b637-4209-e573-b6e56768b763"
      },
      "execution_count": 31,
      "outputs": [
        {
          "output_type": "stream",
          "name": "stdout",
          "text": [
            "[25, 30, 35, 40, 45, 50, 55, 60, 65, 70]\n"
          ]
        }
      ]
    },
    {
      "cell_type": "code",
      "source": [
        "Q1= (n+1)*25/100\n",
        "Q3= (n+1)*75/100\n",
        "print(f'25th percentile index is: {Q1} and 75th percentile index is: {Q3}')"
      ],
      "metadata": {
        "colab": {
          "base_uri": "https://localhost:8080/"
        },
        "id": "r3ZwbnFa2d_o",
        "outputId": "0a8d1ec1-2ad1-4846-9ae0-cb0fadb5acfb"
      },
      "execution_count": 34,
      "outputs": [
        {
          "output_type": "stream",
          "name": "stdout",
          "text": [
            "25th percentile index is: 2.75 and 75th percentile index is: 8.25\n"
          ]
        }
      ]
    },
    {
      "cell_type": "code",
      "source": [
        "Q1=(35+40)/2\n",
        "Q2=(65+70)/2\n",
        "print(f'Q1 value is: {Q1} and Q3 value is: {Q3}')"
      ],
      "metadata": {
        "colab": {
          "base_uri": "https://localhost:8080/"
        },
        "id": "QeIP0vpZ2d6f",
        "outputId": "76b70255-79e7-46b5-8cd0-b629c0f5392a"
      },
      "execution_count": 35,
      "outputs": [
        {
          "output_type": "stream",
          "name": "stdout",
          "text": [
            "Q1 value is: 37.5 and Q3 value is: 8.25\n"
          ]
        }
      ]
    },
    {
      "cell_type": "code",
      "source": [
        "IQR=Q3-Q1\n",
        "print('IQR value is: ',IQR)"
      ],
      "metadata": {
        "colab": {
          "base_uri": "https://localhost:8080/"
        },
        "id": "1CSmGFvt2dyE",
        "outputId": "bd5ec837-2235-477e-c723-2a86d024daad"
      },
      "execution_count": 36,
      "outputs": [
        {
          "output_type": "stream",
          "name": "stdout",
          "text": [
            "IQR value is:  -29.25\n"
          ]
        }
      ]
    },
    {
      "cell_type": "code",
      "source": [
        "lower_fence=Q1-1.5(IQR)\n",
        "highr_fence=Q3+1.5(IQR)\n",
        "print(f'Lower fence is: {Q1} and hogher fence is: {Q3}')"
      ],
      "metadata": {
        "id": "yBckojhx30Yk"
      },
      "execution_count": 37,
      "outputs": []
    },
    {
      "cell_type": "markdown",
      "source": [
        "17. Scenario: A study is conducted to compare the performance of three different machine learning algorithms. The accuracy scores for each algorithm are as follows:\n",
        "\n",
        "    Algorithm A: [0.85, 0.80, 0.82, 0.87, 0.83]\n",
        "\n",
        "    Algorithm B: [0.78, 0.82, 0.84, 0.80, 0.79]\n",
        "\n",
        "    Algorithm C: [0.90, 0.88, 0.89, 0.86, 0.87]\n",
        "\n",
        "    Perform a Kruskal-Wallis test to determine if there is a significant difference in the median accuracy scores between the algorithms."
      ],
      "metadata": {
        "id": "rpUuLU-Ja1NI"
      }
    },
    {
      "cell_type": "markdown",
      "source": [
        "# Ans.\n",
        "\n",
        "Step 1: State the null hypothesis (H0) and alternative hypothesis (H1):\n",
        "\n",
        "Null hypothesis (H0): There is no significant difference in the median accuracy scores between the algorithms.\n",
        "Alternative hypothesis (H1): There is a significant difference in the median accuracy scores between the algorithms.\n",
        "Step 2: Combine the accuracy scores and rank the data:\n",
        "\n",
        "Combine the accuracy scores from all three algorithms and assign ranks to each value, disregarding the algorithm labels. Ties should be averaged.\n",
        "\n",
        "Combined data: [0.85, 0.80, 0.82, 0.87, 0.83, 0.78, 0.82, 0.84, 0.80, 0.79, 0.90, 0.88, 0.89, 0.86, 0.87]\n",
        "\n",
        "Ranks: [11, 3.5, 6.5, 14, 8, 1, 6.5, 9.5, 3.5, 2, 15, 12, 13, 10, 9.5]\n",
        "\n",
        "Step 3: Calculate the Kruskal-Wallis test statistic (H):\n",
        "\n",
        "The Kruskal-Wallis test statistic can be calculated using the formula:\n",
        "\n",
        "H = ((12 / (N * (N + 1))) * (sum(Ri^2 / ni) - 3 * (N + 1))) / (1 - (sum(ni^2) / (N * (N + 1))))\n",
        "\n",
        "where:\n",
        "\n",
        "Ri is the sum of ranks for group i,\n",
        "ni is the sample size of group i, and\n",
        "N is the total sample size.\n",
        "For the given data:\n",
        "\n",
        "Sum of ranks for Algorithm A (R1) = 11 + 3.5 + 6.5 + 14 + 8 = 43\n",
        "Sample size for Algorithm A (n1) = 5\n",
        "Sum of ranks for Algorithm B (R2) = 1 + 6.5 + 9.5 + 3.5 + 2 = 23.5\n",
        "Sample size for Algorithm B (n2) = 5\n",
        "Sum of ranks for Algorithm C (R3) = 15 + 12 + 13 + 10 + 9.5 = 59.5\n",
        "Sample size for Algorithm C (n3) = 5\n",
        "Total sample size (N) = 15\n",
        "Substituting these values into the formula, we can calculate the Kruskal-Wallis test statistic (H).\n",
        "\n",
        "Step 4: Determine the critical value and compare the test statistic:\n",
        "\n",
        "For a chosen significance level (e.g., 0.05), the critical value for the Kruskal-Wallis test can be obtained from a table or using statistical software. In this case, with three groups and 15 observations, the critical value at a 0.05 significance level is approximately 5.991.\n",
        "\n",
        "Compare the calculated test statistic (H) to the critical value. If the test statistic is greater than the critical value, we reject the null hypothesis and conclude that there is a significant difference in the median accuracy scores between the algorithms.\n",
        "\n",
        "Please note that if you have access to statistical software or programming tools, you can perform the Kruskal-Wallis test more conveniently by inputting the data directly and obtaining the p-value associated with the test statistic.\n",
        "\n",
        "\n",
        "\n",
        "\n"
      ],
      "metadata": {
        "id": "4VbCRmx64meq"
      }
    },
    {
      "cell_type": "markdown",
      "source": [
        "18. Scenario: A company wants to analyze the effect of price on sales. The data collected is as follows:\n",
        "\n",
        "    Price (in dollars): [10, 15, 12, 8, 14]\n",
        "\n",
        "    Sales: [100, 80, 90, 110, 95]\n",
        "\n",
        "    Perform a simple linear regression to predict sales based on price."
      ],
      "metadata": {
        "id": "87LMsqVOa3UH"
      }
    },
    {
      "cell_type": "code",
      "source": [
        "# Ans\n",
        "\n",
        "# importing libraries\n",
        "from sklearn.linear_model import LinearRegression\n",
        "from sklearn.model_selection import train_test_split\n",
        "import pandas as pd\n",
        "\n",
        "# dataset\n",
        "Price=[10, 15, 12, 8, 14]\n",
        "Sales=[100, 80, 90, 110, 95]\n",
        "\n",
        "# preparing dataframe\n",
        "df=pd.DataFrame({'Price':[10, 15, 12, 8, 14],\n",
        "'Sales':[100, 80, 90, 110, 95]})\n",
        "\n",
        "# feature selection\n",
        "X=df.iloc[:,:1]\n",
        "y=df.iloc[:,1:]\n",
        "\n",
        "# model\n",
        "lr=LinearRegression()\n",
        "\n",
        "# dataset split\n",
        "X_train, X_test, y_train, y_test = train_test_split(X, y, test_size=0.2, random_state=62)\n",
        "\n",
        "# model training\n",
        "lr.fit(X_train, y_train)\n",
        "\n",
        "# prediction\n",
        "lr.predict([[int(input('Please enter Temperature: '))]])"
      ],
      "metadata": {
        "id": "1n0OZ3PEa5k_",
        "colab": {
          "base_uri": "https://localhost:8080/"
        },
        "outputId": "2655abb7-0a9d-40d2-d86e-20bcf9407f4c"
      },
      "execution_count": 38,
      "outputs": [
        {
          "name": "stdout",
          "output_type": "stream",
          "text": [
            "Please enter Temperature: 15\n"
          ]
        },
        {
          "output_type": "stream",
          "name": "stderr",
          "text": [
            "/usr/local/lib/python3.10/dist-packages/sklearn/base.py:439: UserWarning: X does not have valid feature names, but LinearRegression was fitted with feature names\n",
            "  warnings.warn(\n"
          ]
        },
        {
          "output_type": "execute_result",
          "data": {
            "text/plain": [
              "array([[84.57627119]])"
            ]
          },
          "metadata": {},
          "execution_count": 38
        }
      ]
    },
    {
      "cell_type": "markdown",
      "source": [
        "19. Scenario: A survey is conducted to measure the satisfaction levels of customers with a new product. The data collected is as follows:\n",
        "\n",
        "    [7, 8, 9, 6, 8, 7, 9, 7, 8, 7]\n",
        "\n",
        "    Calculate the standard error of the mean satisfaction score."
      ],
      "metadata": {
        "id": "QOZl-GWia7Vm"
      }
    },
    {
      "cell_type": "code",
      "source": [
        "# importing libraries\n",
        "from statistics import mean\n",
        "from statistics import stdev\n",
        "from math import sqrt\n",
        "\n",
        "# dataset\n",
        "data=[7, 8, 9, 6, 8, 7, 9, 7, 8, 7]\n",
        "n=len(data)\n",
        "\n",
        "# Calculate the sample mean (x̄) of the satisfaction scores.\n",
        "sample_mean= mean(data)\n",
        "\n",
        "# Step 2: Calculate the sample standard deviation (s) of the satisfaction scores.\n",
        "sample_std_dev= stdev(data)\n",
        "\n",
        "# Step 3: Calculate the standard error of the mean (SEM).\n",
        "# Standard error of the mean (SEM) = s / √n\n",
        "SEM= sample_std_dev/sqrt(n)\n",
        "\n",
        "print('Standard error of the given data is: ',SEM)"
      ],
      "metadata": {
        "id": "VnR3_WWWa73f",
        "colab": {
          "base_uri": "https://localhost:8080/"
        },
        "outputId": "fc591d05-03bc-43e9-c784-cd8957757b7a"
      },
      "execution_count": 39,
      "outputs": [
        {
          "output_type": "stream",
          "name": "stdout",
          "text": [
            "Standard error of the given data is:  0.30550504633038933\n"
          ]
        }
      ]
    },
    {
      "cell_type": "markdown",
      "source": [
        "20. Scenario: A company wants to analyze the relationship between advertising expenditure and sales. The data collected is as follows:\n",
        "\n",
        "    Advertising Expenditure (in thousands): [10, 15, 12, 8, 14]\n",
        "\n",
        "    Sales (in thousands): [25, 30, 28, 20, 26]\n",
        "\n",
        "    Perform a multiple regression analysis to predict sales based on advertising expenditure."
      ],
      "metadata": {
        "id": "eAcu7zcHa99e"
      }
    },
    {
      "cell_type": "code",
      "source": [
        "import numpy as np\n",
        "import statsmodels.api as sm\n",
        "\n",
        "# Input data\n",
        "advertising_expenditure = [10, 15, 12, 8, 14]\n",
        "sales = [25, 30, 28, 20, 26]\n",
        "\n",
        "# Add a constant term to the predictor variable\n",
        "X = sm.add_constant(advertising_expenditure)\n",
        "\n",
        "# Fit the multiple regression model\n",
        "model = sm.OLS(sales, X)\n",
        "results = model.fit()\n",
        "\n",
        "# Print the regression coefficients and summary statistics\n",
        "print(results.summary())\n"
      ],
      "metadata": {
        "id": "E0gw0hYaa_Dn",
        "colab": {
          "base_uri": "https://localhost:8080/"
        },
        "outputId": "cc54bdb9-7734-429d-dde0-0762211f047d"
      },
      "execution_count": 40,
      "outputs": [
        {
          "output_type": "stream",
          "name": "stdout",
          "text": [
            "                            OLS Regression Results                            \n",
            "==============================================================================\n",
            "Dep. Variable:                      y   R-squared:                       0.767\n",
            "Model:                            OLS   Adj. R-squared:                  0.689\n",
            "Method:                 Least Squares   F-statistic:                     9.872\n",
            "Date:                Fri, 07 Jul 2023   Prob (F-statistic):             0.0516\n",
            "Time:                        15:19:59   Log-Likelihood:                -9.5288\n",
            "No. Observations:                   5   AIC:                             23.06\n",
            "Df Residuals:                       3   BIC:                             22.28\n",
            "Df Model:                           1                                         \n",
            "Covariance Type:            nonrobust                                         \n",
            "==============================================================================\n",
            "                 coef    std err          t      P>|t|      [0.025      0.975]\n",
            "------------------------------------------------------------------------------\n",
            "const         12.2012      4.429      2.755      0.070      -1.893      26.296\n",
            "x1             1.1524      0.367      3.142      0.052      -0.015       2.320\n",
            "==============================================================================\n",
            "Omnibus:                          nan   Durbin-Watson:                   1.136\n",
            "Prob(Omnibus):                    nan   Jarque-Bera (JB):                0.546\n",
            "Skew:                          -0.267   Prob(JB):                        0.761\n",
            "Kurtosis:                       1.471   Cond. No.                         57.3\n",
            "==============================================================================\n",
            "\n",
            "Notes:\n",
            "[1] Standard Errors assume that the covariance matrix of the errors is correctly specified.\n"
          ]
        },
        {
          "output_type": "stream",
          "name": "stderr",
          "text": [
            "/usr/local/lib/python3.10/dist-packages/statsmodels/stats/stattools.py:74: ValueWarning: omni_normtest is not valid with less than 8 observations; 5 samples were given.\n",
            "  warn(\"omni_normtest is not valid with less than 8 observations; %i \"\n"
          ]
        }
      ]
    },
    {
      "cell_type": "code",
      "source": [],
      "metadata": {
        "id": "0gcVqdxz8DQi"
      },
      "execution_count": null,
      "outputs": []
    }
  ]
}