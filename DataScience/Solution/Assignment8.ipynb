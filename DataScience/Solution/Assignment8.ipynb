{
  "nbformat": 4,
  "nbformat_minor": 0,
  "metadata": {
    "colab": {
      "provenance": []
    },
    "kernelspec": {
      "name": "python3",
      "display_name": "Python 3"
    },
    "language_info": {
      "name": "python"
    }
  },
  "cells": [
    {
      "cell_type": "markdown",
      "source": [
        "**Choose a project from an internship portal and try to write a HLD and LLD based on the sample given in your portal for a respective project.**"
      ],
      "metadata": {
        "id": "EswzE2bxnmSz"
      }
    },
    {
      "cell_type": "markdown",
      "source": [
        "https://docs.google.com/document/d/1P-6lLijTEtFDB2Ali7SmexOfvL_Dtj9T/edit?usp=sharing&ouid=114030088195074570088&rtpof=true&sd=true\n",
        "\n",
        "\n",
        "https://docs.google.com/document/d/1VEsuu_5D0keC1q4DHRSAxpOTWnX5GGLo/edit?usp=sharing&ouid=114030088195074570088&rtpof=true&sd=true"
      ],
      "metadata": {
        "id": "rdGwoFkHnmNy"
      }
    },
    {
      "cell_type": "code",
      "execution_count": null,
      "metadata": {
        "id": "_TCG_cdrnlAH"
      },
      "outputs": [],
      "source": []
    }
  ]
}